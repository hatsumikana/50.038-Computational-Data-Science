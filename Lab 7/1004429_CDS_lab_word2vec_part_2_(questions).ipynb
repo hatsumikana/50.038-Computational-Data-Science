{
  "nbformat": 4,
  "nbformat_minor": 0,
  "metadata": {
    "colab": {
      "name": "Copy of CDS lab word2vec part 2 (questions)",
      "provenance": [],
      "collapsed_sections": []
    },
    "kernelspec": {
      "name": "python3",
      "display_name": "Python 3"
    },
    "accelerator": "GPU"
  },
  "cells": [
    {
      "cell_type": "markdown",
      "metadata": {
        "id": "HAA2XCLSQInJ"
      },
      "source": [
        "## Classification with word2vec \n",
        "\n",
        "-- Prof. Dorien Herremans\n",
        "\n",
        "In this second part of the lab, we will be tackling a classification problem by first loading word embeddings and feeding those in a simple classifier. We compare this to naive alternative approaches. \n",
        "\n",
        "During this tutorial, you will need some of the following libraries, let's install them first if you don't have them: "
      ]
    },
    {
      "cell_type": "code",
      "metadata": {
        "id": "ud93NwIrl0Qj"
      },
      "source": [
        "#STUDENT NUMBER: 1004429\n",
        "\n",
        "# ..."
      ],
      "execution_count": 1,
      "outputs": []
    },
    {
      "cell_type": "code",
      "metadata": {
        "id": "O0AHw5vB1yOT",
        "colab": {
          "base_uri": "https://localhost:8080/"
        },
        "outputId": "2586d824-149c-44fd-88b0-572bcb73b636"
      },
      "source": [
        "# Use this to install libraries if you find them missing on your system: \n",
        "!pip install bs4 \n",
        "!pip install sklearn\n",
        "!pip install nltk\n",
        "!pip install gensim\n",
        "!pip install lxml"
      ],
      "execution_count": 2,
      "outputs": [
        {
          "output_type": "stream",
          "name": "stdout",
          "text": [
            "Requirement already satisfied: bs4 in /usr/local/lib/python3.7/dist-packages (0.0.1)\n",
            "Requirement already satisfied: beautifulsoup4 in /usr/local/lib/python3.7/dist-packages (from bs4) (4.6.3)\n",
            "Requirement already satisfied: sklearn in /usr/local/lib/python3.7/dist-packages (0.0)\n",
            "Requirement already satisfied: scikit-learn in /usr/local/lib/python3.7/dist-packages (from sklearn) (0.22.2.post1)\n",
            "Requirement already satisfied: scipy>=0.17.0 in /usr/local/lib/python3.7/dist-packages (from scikit-learn->sklearn) (1.4.1)\n",
            "Requirement already satisfied: joblib>=0.11 in /usr/local/lib/python3.7/dist-packages (from scikit-learn->sklearn) (1.1.0)\n",
            "Requirement already satisfied: numpy>=1.11.0 in /usr/local/lib/python3.7/dist-packages (from scikit-learn->sklearn) (1.19.5)\n",
            "Requirement already satisfied: nltk in /usr/local/lib/python3.7/dist-packages (3.2.5)\n",
            "Requirement already satisfied: six in /usr/local/lib/python3.7/dist-packages (from nltk) (1.15.0)\n",
            "Requirement already satisfied: gensim in /usr/local/lib/python3.7/dist-packages (3.6.0)\n",
            "Requirement already satisfied: scipy>=0.18.1 in /usr/local/lib/python3.7/dist-packages (from gensim) (1.4.1)\n",
            "Requirement already satisfied: smart-open>=1.2.1 in /usr/local/lib/python3.7/dist-packages (from gensim) (5.2.1)\n",
            "Requirement already satisfied: six>=1.5.0 in /usr/local/lib/python3.7/dist-packages (from gensim) (1.15.0)\n",
            "Requirement already satisfied: numpy>=1.11.3 in /usr/local/lib/python3.7/dist-packages (from gensim) (1.19.5)\n",
            "Requirement already satisfied: lxml in /usr/local/lib/python3.7/dist-packages (4.2.6)\n"
          ]
        }
      ]
    },
    {
      "cell_type": "markdown",
      "metadata": {
        "id": "L2yp5xfI15HJ"
      },
      "source": [
        "Now we can import some libraries that we will use:"
      ]
    },
    {
      "cell_type": "code",
      "metadata": {
        "id": "aCtMQEnRQjhV"
      },
      "source": [
        "import logging\n",
        "import pandas as pd\n",
        "import numpy as np\n",
        "from numpy import random\n",
        "import gensim\n",
        "import nltk\n",
        "import lxml\n",
        "from sklearn.model_selection import train_test_split\n",
        "from sklearn.feature_extraction.text import CountVectorizer, TfidfVectorizer\n",
        "from sklearn.metrics import accuracy_score, confusion_matrix, classification_report\n",
        "import matplotlib.pyplot as plt\n",
        "\n",
        "%matplotlib inline"
      ],
      "execution_count": 3,
      "outputs": []
    },
    {
      "cell_type": "markdown",
      "metadata": {
        "id": "368EVM3_QInK"
      },
      "source": [
        "### TFIDF with logistic regression\n",
        "\n",
        "#### Preparing the dataset\n",
        "\n",
        "The classification problem at hand is to predict the tag that belongs to a Stack Overflow post. By the way, if you are not familiar with Stack Overflow, do check it out, it is a tremendous help when facing any coding issues. The data from Google BigQuery is available at the github below. If the link does not work you may have to download it manually from github then upload to Colab:\n",
        "\n",
        "https://github.com/dorienh/class_materials/blob/main/datasets/stack-overflow-data.csv\n",
        " \n",
        " We can read it directly into a pandas dataframe. \n"
      ]
    },
    {
      "cell_type": "code",
      "metadata": {
        "id": "dBLM0vEjyarI"
      },
      "source": [
        "url = \"https://github.com/dorienh/class_materials/blob/main/datasets/stack-overflow-data.csv?raw=true\"\n",
        "\n",
        "df = pd.read_csv(url, encoding = 'latin-1')"
      ],
      "execution_count": 4,
      "outputs": []
    },
    {
      "cell_type": "markdown",
      "metadata": {
        "id": "JMzTr6hCQInM"
      },
      "source": [
        "Let's start by having a look at our data: "
      ]
    },
    {
      "cell_type": "code",
      "metadata": {
        "id": "3758TYmIQInQ",
        "colab": {
          "base_uri": "https://localhost:8080/",
          "height": 359
        },
        "outputId": "6e7cbff8-5a3b-4b2d-e679-39db3537f464"
      },
      "source": [
        "# only keep data that has a tag (is labeled): \n",
        "df = df[pd.notnull(df['tags'])]\n",
        "\n",
        "# display first ten rows:\n",
        "df.head(10)"
      ],
      "execution_count": 5,
      "outputs": [
        {
          "output_type": "execute_result",
          "data": {
            "text/html": [
              "<div>\n",
              "<style scoped>\n",
              "    .dataframe tbody tr th:only-of-type {\n",
              "        vertical-align: middle;\n",
              "    }\n",
              "\n",
              "    .dataframe tbody tr th {\n",
              "        vertical-align: top;\n",
              "    }\n",
              "\n",
              "    .dataframe thead th {\n",
              "        text-align: right;\n",
              "    }\n",
              "</style>\n",
              "<table border=\"1\" class=\"dataframe\">\n",
              "  <thead>\n",
              "    <tr style=\"text-align: right;\">\n",
              "      <th></th>\n",
              "      <th>post</th>\n",
              "      <th>tags</th>\n",
              "    </tr>\n",
              "  </thead>\n",
              "  <tbody>\n",
              "    <tr>\n",
              "      <th>0</th>\n",
              "      <td>what is causing this behavior  in our c# datet...</td>\n",
              "      <td>c#</td>\n",
              "    </tr>\n",
              "    <tr>\n",
              "      <th>1</th>\n",
              "      <td>have dynamic html load as if it was in an ifra...</td>\n",
              "      <td>asp.net</td>\n",
              "    </tr>\n",
              "    <tr>\n",
              "      <th>2</th>\n",
              "      <td>how to convert a float value in to min:sec  i ...</td>\n",
              "      <td>objective-c</td>\n",
              "    </tr>\n",
              "    <tr>\n",
              "      <th>3</th>\n",
              "      <td>.net framework 4 redistributable  just wonderi...</td>\n",
              "      <td>.net</td>\n",
              "    </tr>\n",
              "    <tr>\n",
              "      <th>4</th>\n",
              "      <td>trying to calculate and print the mean and its...</td>\n",
              "      <td>python</td>\n",
              "    </tr>\n",
              "    <tr>\n",
              "      <th>5</th>\n",
              "      <td>how to give alias name for my website  i have ...</td>\n",
              "      <td>asp.net</td>\n",
              "    </tr>\n",
              "    <tr>\n",
              "      <th>6</th>\n",
              "      <td>window.open() returns null in angularjs  it wo...</td>\n",
              "      <td>angularjs</td>\n",
              "    </tr>\n",
              "    <tr>\n",
              "      <th>7</th>\n",
              "      <td>identifying server timeout quickly in iphone  ...</td>\n",
              "      <td>iphone</td>\n",
              "    </tr>\n",
              "    <tr>\n",
              "      <th>8</th>\n",
              "      <td>unknown method key  error in rails 2.3.8 unit ...</td>\n",
              "      <td>ruby-on-rails</td>\n",
              "    </tr>\n",
              "    <tr>\n",
              "      <th>9</th>\n",
              "      <td>from the include  how to show and hide the con...</td>\n",
              "      <td>angularjs</td>\n",
              "    </tr>\n",
              "  </tbody>\n",
              "</table>\n",
              "</div>"
            ],
            "text/plain": [
              "                                                post           tags\n",
              "0  what is causing this behavior  in our c# datet...             c#\n",
              "1  have dynamic html load as if it was in an ifra...        asp.net\n",
              "2  how to convert a float value in to min:sec  i ...    objective-c\n",
              "3  .net framework 4 redistributable  just wonderi...           .net\n",
              "4  trying to calculate and print the mean and its...         python\n",
              "5  how to give alias name for my website  i have ...        asp.net\n",
              "6  window.open() returns null in angularjs  it wo...      angularjs\n",
              "7  identifying server timeout quickly in iphone  ...         iphone\n",
              "8  unknown method key  error in rails 2.3.8 unit ...  ruby-on-rails\n",
              "9  from the include  how to show and hide the con...      angularjs"
            ]
          },
          "metadata": {},
          "execution_count": 5
        }
      ]
    },
    {
      "cell_type": "markdown",
      "metadata": {
        "id": "13ECXgs-xn9p"
      },
      "source": [
        "Our task: predict the tag based on the post content. \n",
        "\n",
        "The size of our word embedding will be chosen based on how many unique words are in the dataset (meaning in the article text or posts): "
      ]
    },
    {
      "cell_type": "code",
      "metadata": {
        "id": "BvAXbtE5QInW",
        "colab": {
          "base_uri": "https://localhost:8080/"
        },
        "outputId": "6a515208-ce77-4497-c50a-8e50cabcb8cd"
      },
      "source": [
        "# Count the number of words: \n",
        "df['post'].apply(lambda x: len(x.split(' '))).sum()"
      ],
      "execution_count": 6,
      "outputs": [
        {
          "output_type": "execute_result",
          "data": {
            "text/plain": [
              "10286120"
            ]
          },
          "metadata": {},
          "execution_count": 6
        }
      ]
    },
    {
      "cell_type": "markdown",
      "metadata": {
        "id": "LSifacVqQIna"
      },
      "source": [
        "We have over 10 million words in the data. That's a lot! \n",
        "\n",
        "\n",
        "Let's visualise our dataset: \n",
        "\n"
      ]
    },
    {
      "cell_type": "code",
      "metadata": {
        "id": "O-DdZVX9QInb",
        "colab": {
          "base_uri": "https://localhost:8080/",
          "height": 319
        },
        "outputId": "9b1a2d87-b02a-4b90-ea83-98c73cd9b328"
      },
      "source": [
        "# visualising dataset\n",
        "plt.figure(figsize=(10,4))\n",
        "df.tags.value_counts().plot(kind='bar');"
      ],
      "execution_count": 7,
      "outputs": [
        {
          "output_type": "display_data",
          "data": {
            "image/png": "[encoded data removed]",
            "text/plain": [
              "<Figure size 720x288 with 1 Axes>"
            ]
          },
          "metadata": {
            "needs_background": "light"
          }
        }
      ]
    },
    {
      "cell_type": "markdown",
      "metadata": {
        "id": "5UwHhJXMQIng"
      },
      "source": [
        "As you can see, the classes are very well balanced.\n",
        "\n",
        "Now let's have a look at the data of the posts ('post' columns) in more detail: "
      ]
    },
    {
      "cell_type": "code",
      "metadata": {
        "id": "2Q3m4GxxQInh",
        "colab": {
          "base_uri": "https://localhost:8080/"
        },
        "outputId": "dcf192ec-218e-4e46-c355-a704351fd861"
      },
      "source": [
        "print(df['post'].values[10])"
      ],
      "execution_count": 8,
      "outputs": [
        {
          "output_type": "stream",
          "name": "stdout",
          "text": [
            "when we need interface c# <blockquote>    <strong>possible duplicate:</strong><br>   <a href= https://stackoverflow.com/questions/240152/why-would-i-want-to-use-interfaces >why would i want to use interfaces </a>   <a href= https://stackoverflow.com/questions/9451868/why-i-need-interface >why i need interface </a>    </blockquote>     i want to know where and when to use it     for example    <pre><code>interface idemo {  // function prototype  public void show(); }  // first class using the interface class myclass1 : idemo {  public void show()  {   // function body comes here   response.write( i m in myclass );  }  }  // second class using the interface class myclass2 : idemo {  public void show()   {   // function body comes here   response.write( i m in myclass2 );   response.write( so  what  );  } </code></pre>   these two classes has the same function name with different body. this can be even achieved without interface. then why we need an interface where and when to use it\n"
          ]
        }
      ]
    },
    {
      "cell_type": "markdown",
      "metadata": {
        "id": "nbSGI0FQQInu"
      },
      "source": [
        "As you can see, the text needs to be cleaned up a bit. Below we use the `nltk` toolkit to remove spaces, html tags, stopwords, symbols etc. We define a function to remove stop words, replace / \\ and other symbols."
      ]
    },
    {
      "cell_type": "code",
      "metadata": {
        "id": "bydjpKCBQInv",
        "colab": {
          "base_uri": "https://localhost:8080/"
        },
        "outputId": "fafe2bf2-68a6-4588-fd7c-cb2d64edc368"
      },
      "source": [
        "# note: slower students may wish to skip this step to finish the lab in class\n",
        "from nltk.corpus import stopwords\n",
        "import re\n",
        "from bs4 import BeautifulSoup\n",
        "\n",
        "# load a list of stop words\n",
        "nltk.download('stopwords')\n",
        "\n",
        "\n",
        "REPLACE_BY_SPACE_RE = re.compile('[/(){}\\[\\]\\|@,;]')\n",
        "BAD_SYMBOLS_RE = re.compile('[^0-9a-z #+_]')\n",
        "STOPWORDS = set(stopwords.words('english'))\n",
        "\n",
        "def clean_text(text):\n",
        "    \"\"\"\n",
        "        text: a string \n",
        "        return: modified initial string\n",
        "    \"\"\"\n",
        "    text = BeautifulSoup(text, 'html.parser').text # HTML decoding\n",
        "    text = text.lower() # lowercase text\n",
        "    text = REPLACE_BY_SPACE_RE.sub(' ', text) # replace REPLACE_BY_SPACE_RE symbols by space in text\n",
        "    text = BAD_SYMBOLS_RE.sub('', text) # delete symbols which are in BAD_SYMBOLS_RE from text\n",
        "    text = ' '.join(word for word in text.split() if word not in STOPWORDS) # delete stopwors from text\n",
        "    return text"
      ],
      "execution_count": 9,
      "outputs": [
        {
          "output_type": "stream",
          "name": "stdout",
          "text": [
            "[nltk_data] Downloading package stopwords to /root/nltk_data...\n",
            "[nltk_data]   Unzipping corpora/stopwords.zip.\n"
          ]
        }
      ]
    },
    {
      "cell_type": "markdown",
      "metadata": {
        "id": "SiiOIj3L_NDH"
      },
      "source": [
        "Now we can apply the newly defined function on the column of `df 'post'`. "
      ]
    },
    {
      "cell_type": "code",
      "metadata": {
        "id": "6A8nlP0hQInx"
      },
      "source": [
        "df['post'] = df['post'].apply(clean_text)"
      ],
      "execution_count": 10,
      "outputs": []
    },
    {
      "cell_type": "markdown",
      "metadata": {
        "id": "AkBB_8za_SE5"
      },
      "source": [
        "Let's check the results: "
      ]
    },
    {
      "cell_type": "code",
      "metadata": {
        "id": "MlL2uGKsQIn0",
        "colab": {
          "base_uri": "https://localhost:8080/"
        },
        "outputId": "5f1cb2b7-826c-4756-d7aa-2f0bd888e126"
      },
      "source": [
        "print(df['post'].values[10])"
      ],
      "execution_count": 11,
      "outputs": [
        {
          "output_type": "stream",
          "name": "stdout",
          "text": [
            "need interface c# possible duplicate would want use interfaces need interface want know use example interface idemo function prototype public void show first class using interface class myclass1 idemo public void show function body comes responsewrite myclass second class using interface class myclass2 idemo public void show function body comes responsewrite myclass2 responsewrite two classes function name different body even achieved without interface need interface use\n"
          ]
        }
      ]
    },
    {
      "cell_type": "markdown",
      "metadata": {
        "id": "YTkqUfwzQIn8"
      },
      "source": [
        "This looks a lot better!\n",
        "\n",
        "Now how many unique words do we have in this cleaned up dataset? "
      ]
    },
    {
      "cell_type": "code",
      "metadata": {
        "id": "4oV5baXxQIn8",
        "scrolled": true,
        "colab": {
          "base_uri": "https://localhost:8080/"
        },
        "outputId": "149971f2-282a-4ed0-f51b-d65a555231ac"
      },
      "source": [
        "df['post'].apply(lambda x: len(x.split(' '))).sum()"
      ],
      "execution_count": 12,
      "outputs": [
        {
          "output_type": "execute_result",
          "data": {
            "text/plain": [
              "3424194"
            ]
          },
          "metadata": {},
          "execution_count": 12
        }
      ]
    },
    {
      "cell_type": "markdown",
      "metadata": {
        "id": "gpllc3QyQIoA"
      },
      "source": [
        "Now we have over 3 million words to work with, that's 7 million removed tags.\n",
        "\n",
        "Before we start creating classifiers, let's split our dataset 70-30 in a test set (for evaluation) and training set: "
      ]
    },
    {
      "cell_type": "code",
      "metadata": {
        "id": "ylA7e4H_QIoB"
      },
      "source": [
        "X = df.post\n",
        "y = df.tags\n",
        "X_train, X_test, y_train, y_test = train_test_split(X, y, test_size=0.3, random_state = 42)"
      ],
      "execution_count": 13,
      "outputs": []
    },
    {
      "cell_type": "markdown",
      "metadata": {
        "id": "cDHptCZqQIoU"
      },
      "source": [
        "#### Logistic regression\n",
        "\n",
        "Now that we have our features, we can train a classifier to try to predict the tag of a post. We will start with logistic regression and TFIDF representation which provides a nice baseline for this task. \n",
        "\n",
        "To make the vectorizer => transformer => classifier easier to work with, we will use the `Pipeline` class in Scikit-Learn that behaves like a compound classifier."
      ]
    },
    {
      "cell_type": "code",
      "metadata": {
        "id": "p8IMmMZWQIoV",
        "colab": {
          "base_uri": "https://localhost:8080/"
        },
        "outputId": "c5471653-79e1-4e94-fb14-0bae23893ac4"
      },
      "source": [
        "from sklearn.linear_model import LogisticRegression\n",
        "from sklearn.pipeline import Pipeline\n",
        "from sklearn.feature_extraction.text import TfidfTransformer\n",
        "\n",
        "# we define a Pipeline, which first represents our features as TFID\n",
        "# Then performs logistic regression\n",
        "logreg = Pipeline([('vect', CountVectorizer()),\n",
        "                ('tfidf', TfidfTransformer()),\n",
        "                ('clf', LogisticRegression(n_jobs=1, C=1e5)),\n",
        "               ])\n",
        "logreg.fit(X_train, y_train)"
      ],
      "execution_count": 14,
      "outputs": [
        {
          "output_type": "stream",
          "name": "stderr",
          "text": [
            "/usr/local/lib/python3.7/dist-packages/sklearn/linear_model/_logistic.py:940: ConvergenceWarning: lbfgs failed to converge (status=1):\n",
            "STOP: TOTAL NO. of ITERATIONS REACHED LIMIT.\n",
            "\n",
            "Increase the number of iterations (max_iter) or scale the data as shown in:\n",
            "    https://scikit-learn.org/stable/modules/preprocessing.html\n",
            "Please also refer to the documentation for alternative solver options:\n",
            "    https://scikit-learn.org/stable/modules/linear_model.html#logistic-regression\n",
            "  extra_warning_msg=_LOGISTIC_SOLVER_CONVERGENCE_MSG)\n"
          ]
        },
        {
          "output_type": "execute_result",
          "data": {
            "text/plain": [
              "Pipeline(memory=None,\n",
              "         steps=[('vect',\n",
              "                 CountVectorizer(analyzer='word', binary=False,\n",
              "                                 decode_error='strict',\n",
              "                                 dtype=<class 'numpy.int64'>, encoding='utf-8',\n",
              "                                 input='content', lowercase=True, max_df=1.0,\n",
              "                                 max_features=None, min_df=1,\n",
              "                                 ngram_range=(1, 1), preprocessor=None,\n",
              "                                 stop_words=None, strip_accents=None,\n",
              "                                 token_pattern='(?u)\\\\b\\\\w\\\\w+\\\\b',\n",
              "                                 tokenizer=None, vocabulary=None)),\n",
              "                ('tfidf',\n",
              "                 TfidfTransformer(norm='l2', smooth_idf=True,\n",
              "                                  sublinear_tf=False, use_idf=True)),\n",
              "                ('clf',\n",
              "                 LogisticRegression(C=100000.0, class_weight=None, dual=False,\n",
              "                                    fit_intercept=True, intercept_scaling=1,\n",
              "                                    l1_ratio=None, max_iter=100,\n",
              "                                    multi_class='auto', n_jobs=1, penalty='l2',\n",
              "                                    random_state=None, solver='lbfgs',\n",
              "                                    tol=0.0001, verbose=0, warm_start=False))],\n",
              "         verbose=False)"
            ]
          },
          "metadata": {},
          "execution_count": 14
        }
      ]
    },
    {
      "cell_type": "markdown",
      "metadata": {
        "id": "plgMq5lA27-_"
      },
      "source": [
        "How well does it work? "
      ]
    },
    {
      "cell_type": "code",
      "metadata": {
        "id": "ZGSVTzWRQIoY",
        "colab": {
          "base_uri": "https://localhost:8080/"
        },
        "outputId": "441bab9a-f4f2-4f73-8d95-caeba00e14d5"
      },
      "source": [
        "# to show the computation time: \n",
        "%%time\n",
        "\n",
        "y_pred = logreg.predict(X_test)\n",
        "\n",
        "print('accuracy %s' % accuracy_score(y_pred, y_test))\n",
        "print(classification_report(y_test, y_pred))"
      ],
      "execution_count": 15,
      "outputs": [
        {
          "output_type": "stream",
          "name": "stdout",
          "text": [
            "accuracy 0.7861666666666667\n",
            "               precision    recall  f1-score   support\n",
            "\n",
            "         .net       0.67      0.64      0.65       613\n",
            "      android       0.91      0.90      0.91       620\n",
            "    angularjs       0.97      0.93      0.95       587\n",
            "      asp.net       0.76      0.75      0.75       586\n",
            "            c       0.78      0.83      0.81       599\n",
            "           c#       0.61      0.59      0.60       589\n",
            "          c++       0.79      0.76      0.77       594\n",
            "          css       0.84      0.87      0.85       610\n",
            "         html       0.70      0.73      0.71       617\n",
            "          ios       0.61      0.59      0.60       587\n",
            "       iphone       0.65      0.63      0.64       611\n",
            "         java       0.83      0.82      0.83       594\n",
            "   javascript       0.77      0.79      0.78       619\n",
            "       jquery       0.85      0.85      0.85       574\n",
            "        mysql       0.82      0.85      0.83       584\n",
            "  objective-c       0.66      0.66      0.66       578\n",
            "          php       0.82      0.83      0.83       591\n",
            "       python       0.93      0.90      0.91       608\n",
            "ruby-on-rails       0.96      0.94      0.95       638\n",
            "          sql       0.79      0.85      0.82       601\n",
            "\n",
            "     accuracy                           0.79     12000\n",
            "    macro avg       0.79      0.79      0.79     12000\n",
            " weighted avg       0.79      0.79      0.79     12000\n",
            "\n",
            "CPU times: user 1.17 s, sys: 2.51 ms, total: 1.17 s\n",
            "Wall time: 1.17 s\n"
          ]
        }
      ]
    },
    {
      "cell_type": "markdown",
      "metadata": {
        "id": "zAAVJw44xn_c"
      },
      "source": [
        "That's quite a good accuracy. Now let's see if we can combine **word2vec** with logistic regression by feeding the new embedded representation to our logistic regression instead of the bag of words representation of TFIDF. "
      ]
    },
    {
      "cell_type": "markdown",
      "metadata": {
        "id": "9gSX1ysMQIoc"
      },
      "source": [
        "### Word2vec embedding and Logistic Regression"
      ]
    },
    {
      "cell_type": "markdown",
      "metadata": {
        "id": "Ubl-sOB8W2f1"
      },
      "source": [
        "Let's load a pretrained word2vec model, and use the embedding representation as input to a simple classifier (i.e. logistic regression). \n",
        "\n",
        "You can use the word2vec model you trained in the first part of the lab (on the Shakespeare text), or load this (quite big, 1.5GB) pretrained word2vec model from Google trained on Google News data. \n",
        "\n",
        "If you load an model you trained yourself, use#\n",
        "`wv = gensim.models.KeyedVectors.load_word2vec_format(\"yourweights.bin.gz\", binary=True)`. We will be loading pretrained weights available in gensim itself:\n",
        "\n",
        "(This may take a while!)\n",
        "\n",
        "\n"
      ]
    },
    {
      "cell_type": "code",
      "metadata": {
        "id": "Cjipngb9QIod",
        "colab": {
          "base_uri": "https://localhost:8080/"
        },
        "outputId": "d22ac663-d023-452f-dfaa-b6b92362338b"
      },
      "source": [
        "%%time\n",
        "import gensim.downloader\n",
        "from gensim.models import Word2Vec\n",
        "\n",
        "# wv = gensim.models.KeyedVectors.load_word2vec_format(\"GoogleNews-vectors-negative300.bin.gz\", \n",
        "                                                    #  binary=True)\n",
        "\n",
        "wv = gensim.downloader.load('word2vec-google-news-300')\n",
        "wv.init_sims(replace=True)\n",
        "print('Model loaded')\n"
      ],
      "execution_count": 16,
      "outputs": [
        {
          "output_type": "stream",
          "name": "stdout",
          "text": [
            "[==================================================] 100.0% 1662.8/1662.8MB downloaded\n",
            "Model loaded\n",
            "CPU times: user 10min 9s, sys: 1min 37s, total: 11min 46s\n",
            "Wall time: 14min 1s\n"
          ]
        }
      ]
    },
    {
      "cell_type": "markdown",
      "metadata": {
        "id": "E-W7lH8wxn_2"
      },
      "source": [
        "If you are interested how good these pretrained embeddings are, you could try some of the similarity tests we did in part 1 of the lab on the Shakespeare text. Only now we have a larger vocabulary, e.g.:  "
      ]
    },
    {
      "cell_type": "code",
      "metadata": {
        "colab": {
          "base_uri": "https://localhost:8080/"
        },
        "id": "Hyy5c5yC6XTx",
        "outputId": "26fc5544-da11-40df-ee45-c0a8f752fae2"
      },
      "source": [
        "wv.most_similar('twitter')"
      ],
      "execution_count": 17,
      "outputs": [
        {
          "output_type": "execute_result",
          "data": {
            "text/plain": [
              "[('Twitter', 0.89089035987854),\n",
              " ('Twitter.com', 0.7536780834197998),\n",
              " ('tweet', 0.7431625723838806),\n",
              " ('tweeting', 0.7161933183670044),\n",
              " ('tweeted', 0.7137226462364197),\n",
              " ('facebook', 0.6988551616668701),\n",
              " ('tweets', 0.6974530816078186),\n",
              " ('Tweeted', 0.6950210928916931),\n",
              " ('Tweet', 0.6875007152557373),\n",
              " ('Tweeting', 0.6845167279243469)]"
            ]
          },
          "metadata": {},
          "execution_count": 17
        }
      ]
    },
    {
      "cell_type": "markdown",
      "metadata": {
        "id": "o3UmhwMo6f4g"
      },
      "source": [
        "Gensim offers a number of pretrained models for you to choose from (convenient right!). You can check a list of available model like this: "
      ]
    },
    {
      "cell_type": "code",
      "metadata": {
        "colab": {
          "base_uri": "https://localhost:8080/"
        },
        "id": "_VIeyk0s6gCT",
        "outputId": "754a434f-b414-4607-a842-e67b7b788a54"
      },
      "source": [
        "# Show all available models in gensim-data\n",
        "print(list(gensim.downloader.info()['models'].keys()))"
      ],
      "execution_count": 18,
      "outputs": [
        {
          "output_type": "stream",
          "name": "stdout",
          "text": [
            "['fasttext-wiki-news-subwords-300', 'conceptnet-numberbatch-17-06-300', 'word2vec-ruscorpora-300', 'word2vec-google-news-300', 'glove-wiki-gigaword-50', 'glove-wiki-gigaword-100', 'glove-wiki-gigaword-200', 'glove-wiki-gigaword-300', 'glove-twitter-25', 'glove-twitter-50', 'glove-twitter-100', 'glove-twitter-200', '__testing_word2vec-matrix-synopsis']\n"
          ]
        }
      ]
    },
    {
      "cell_type": "markdown",
      "metadata": {
        "id": "mC4XwSuzQIoo"
      },
      "source": [
        "As we have multiple words for each post, we will need to somehow combine them. A common way to achieve this is by averaging the\n",
        "word vectors per document. In later classes you can feed the individual words to memory models like LSTM. For a quick solution here, we can use a summation or weighted addition. The function below takes as input a list of words and the word2vec model `wv`. Then it retrieves the vector embeddings for each of the words and averages them. "
      ]
    },
    {
      "cell_type": "code",
      "metadata": {
        "id": "lbSLtiwyQIoo"
      },
      "source": [
        "def word_averaging(wv, words):\n",
        "    # averages a set of words 'words' given their wordvectors 'wv'\n",
        "    \n",
        "    all_words, mean = set(), []\n",
        "    \n",
        "    # for each word in the list of words\n",
        "    for word in words:\n",
        "        # if the words are alread vectors, then just append them\n",
        "        if isinstance(word, np.ndarray):\n",
        "            mean.append(word)\n",
        "        # if not: first get the vector embedding for the words\n",
        "        elif word in wv.vocab:\n",
        "            mean.append(wv.syn0norm[wv.vocab[word].index])\n",
        "            all_words.add(wv.vocab[word].index)\n",
        "\n",
        "    \n",
        "    if not mean:\n",
        "        # error handling in case mean cannot be calculated\n",
        "        logging.warning(\"cannot compute similarity with no input %s\", words)\n",
        "        return np.zeros(wv.vector_size,)\n",
        "\n",
        "    # use gensim's method to calculate the mean of all the words appended to mean list\n",
        "    mean = gensim.matutils.unitvec(np.array(mean).mean(axis=0)).astype(np.float32)\n",
        "    return mean\n",
        "\n",
        "def  word_averaging_list(wv, text_list):\n",
        "    return np.vstack([word_averaging(wv, post) for post in text_list ])"
      ],
      "execution_count": 19,
      "outputs": []
    },
    {
      "cell_type": "markdown",
      "metadata": {
        "id": "Tm_febK-xoAC"
      },
      "source": [
        "Below, we explore a way (slightly different from the method used in part 1 of the lab) to create tokens out of sentences, by using the `nltk` toolkit. "
      ]
    },
    {
      "cell_type": "code",
      "metadata": {
        "id": "jlyXtYm1QIos",
        "colab": {
          "base_uri": "https://localhost:8080/"
        },
        "outputId": "dce6f1ce-e0bc-44d5-f885-0441bbb313e5"
      },
      "source": [
        "import nltk.data\n",
        "nltk.download('punkt')\n",
        "\n",
        "def w2v_tokenize_text(text):\n",
        "    # create tokens, a list of words, for each post. This function will do some cleaning based on English language\n",
        "    tokens = []\n",
        "    for sent in nltk.sent_tokenize(text, language='english'):\n",
        "        for word in nltk.word_tokenize(sent, language='english'):\n",
        "            if len(word) < 2:\n",
        "                continue\n",
        "            tokens.append(word)\n",
        "    return tokens"
      ],
      "execution_count": 20,
      "outputs": [
        {
          "output_type": "stream",
          "name": "stdout",
          "text": [
            "[nltk_data] Downloading package punkt to /root/nltk_data...\n",
            "[nltk_data]   Unzipping tokenizers/punkt.zip.\n"
          ]
        }
      ]
    },
    {
      "cell_type": "markdown",
      "metadata": {
        "id": "ZeuQn-3GxoAQ"
      },
      "source": [
        "Let's also split the dataset in training and test set like before, and tokenize each of these datasets using the method defined above."
      ]
    },
    {
      "cell_type": "code",
      "metadata": {
        "id": "CA1Wrn9-QIot"
      },
      "source": [
        "train, test = train_test_split(df, test_size=0.3, random_state = 42)\n",
        "\n",
        "test_tokenized = test.apply(lambda r: w2v_tokenize_text(r['post']), axis=1).values\n",
        "train_tokenized = train.apply(lambda r: w2v_tokenize_text(r['post']), axis=1).values"
      ],
      "execution_count": 21,
      "outputs": []
    },
    {
      "cell_type": "markdown",
      "metadata": {
        "id": "rh11CM3ZxoAa"
      },
      "source": [
        "Since we have multiple word vectors per article, we can take multiple approaches (a powerful LSTM approach as we'll see later, or doc2vec as per below, but first we try a naive approach of averaging). We can average the word positions for each post in this new dataset using the functions we defined above and based on our word2vec model `wv`."
      ]
    },
    {
      "cell_type": "code",
      "metadata": {
        "id": "pqG34rU6QIoy",
        "colab": {
          "base_uri": "https://localhost:8080/"
        },
        "outputId": "e05b629c-9067-4750-cb5a-545daf1c0e00"
      },
      "source": [
        "X_train_word_average = word_averaging_list(wv,train_tokenized)\n",
        "X_test_word_average = word_averaging_list(wv,test_tokenized)"
      ],
      "execution_count": 22,
      "outputs": [
        {
          "output_type": "stream",
          "name": "stderr",
          "text": [
            "/usr/local/lib/python3.7/dist-packages/ipykernel_launcher.py:13: DeprecationWarning: Call to deprecated `syn0norm` (Attribute will be removed in 4.0.0, use self.wv.vectors_norm instead).\n",
            "  del sys.path[0]\n",
            "WARNING:root:cannot compute similarity with no input []\n",
            "WARNING:root:cannot compute similarity with no input ['ngrepeat']\n"
          ]
        }
      ]
    },
    {
      "cell_type": "markdown",
      "metadata": {
        "id": "3zQa7btkxoAj"
      },
      "source": [
        "Now we have a way to represent our input! This can then be fed to any classifier, like logistic regression: "
      ]
    },
    {
      "cell_type": "code",
      "metadata": {
        "id": "LSSSuFQYQIo5",
        "colab": {
          "base_uri": "https://localhost:8080/"
        },
        "outputId": "72ee600f-e3f7-4a20-dfc4-c97466c78cae"
      },
      "source": [
        "from sklearn.linear_model import LogisticRegression\n",
        "logreg = LogisticRegression(n_jobs=1, C=1e5)\n",
        "logreg = logreg.fit(X_train_word_average, train['tags'])\n",
        "y_pred = logreg.predict(X_test_word_average)"
      ],
      "execution_count": 23,
      "outputs": [
        {
          "output_type": "stream",
          "name": "stderr",
          "text": [
            "/usr/local/lib/python3.7/dist-packages/sklearn/linear_model/_logistic.py:940: ConvergenceWarning: lbfgs failed to converge (status=1):\n",
            "STOP: TOTAL NO. of ITERATIONS REACHED LIMIT.\n",
            "\n",
            "Increase the number of iterations (max_iter) or scale the data as shown in:\n",
            "    https://scikit-learn.org/stable/modules/preprocessing.html\n",
            "Please also refer to the documentation for alternative solver options:\n",
            "    https://scikit-learn.org/stable/modules/linear_model.html#logistic-regression\n",
            "  extra_warning_msg=_LOGISTIC_SOLVER_CONVERGENCE_MSG)\n"
          ]
        }
      ]
    },
    {
      "cell_type": "markdown",
      "metadata": {
        "id": "7fy9vOz44h9p"
      },
      "source": [
        "Let's evaluate how accurate this averaged word2vec representation with logistic regression is:"
      ]
    },
    {
      "cell_type": "code",
      "metadata": {
        "id": "U_WzSihIQIo9",
        "colab": {
          "base_uri": "https://localhost:8080/"
        },
        "outputId": "50956df4-ce53-4ce1-ff30-ea0375298912"
      },
      "source": [
        "print('accuracy %s' % accuracy_score(y_pred, test.tags))\n",
        "print(classification_report(test.tags, y_pred))"
      ],
      "execution_count": 24,
      "outputs": [
        {
          "output_type": "stream",
          "name": "stdout",
          "text": [
            "accuracy 0.6323333333333333\n",
            "               precision    recall  f1-score   support\n",
            "\n",
            "         .net       0.63      0.56      0.59       613\n",
            "      android       0.76      0.76      0.76       620\n",
            "    angularjs       0.64      0.66      0.65       587\n",
            "      asp.net       0.54      0.50      0.52       586\n",
            "            c       0.70      0.73      0.71       599\n",
            "           c#       0.39      0.43      0.41       589\n",
            "          c++       0.63      0.63      0.63       594\n",
            "          css       0.73      0.78      0.75       610\n",
            "         html       0.57      0.62      0.60       617\n",
            "          ios       0.55      0.53      0.54       587\n",
            "       iphone       0.57      0.52      0.54       611\n",
            "         java       0.63      0.59      0.61       594\n",
            "   javascript       0.64      0.61      0.62       619\n",
            "       jquery       0.59      0.57      0.58       574\n",
            "        mysql       0.68      0.73      0.71       584\n",
            "  objective-c       0.41      0.40      0.41       578\n",
            "          php       0.67      0.70      0.68       591\n",
            "       python       0.80      0.76      0.78       608\n",
            "ruby-on-rails       0.83      0.81      0.82       638\n",
            "          sql       0.67      0.71      0.69       601\n",
            "\n",
            "     accuracy                           0.63     12000\n",
            "    macro avg       0.63      0.63      0.63     12000\n",
            " weighted avg       0.63      0.63      0.63     12000\n",
            "\n"
          ]
        }
      ]
    },
    {
      "cell_type": "markdown",
      "metadata": {
        "id": "cNXuL03bxoAy"
      },
      "source": [
        "Now you can see that the accuracy went down! Oh no! Why is that? Because we used a very naive approach: averaging our vectors. A better way to approach this would be doc2vec, which learns relationships between documents (posts in this case), instead of words. The accuracy could also improve by using a different classifier instead of logistic regression, or by changing the aggregation strategy and feed it to an LSTM/RNN model. "
      ]
    },
    {
      "cell_type": "markdown",
      "metadata": {
        "id": "qtujiFgzQIpA"
      },
      "source": [
        "## Doc2vec and Logistic Regression (advanced)\n",
        "\n",
        "The idea of word2vec can be extended to documents whereby instead of learning feature representations for words, we learn it for sentences or documents. Doc2Vec extends the idea of word2vec, however words can only capture so much, there are times when we need relationships between documents and not just words.\n",
        "\n",
        "The way to train doc2vec model for our Stack Overflow questions and tags data is very similar to when we trained multi-class text classification with word2vec and logistic regression above.\n",
        "\n",
        "First, we label the sentences. Gensim’s Doc2Vec implementation requires each document/paragraph to have a label associated with it that indicates if it's part of the test or training set. We do this by using the TaggedDocument method. The format will be `TRAIN_i` or `TEST_i` where `i` is a dummy index of the post.\n",
        "\n",
        "First let's import the necessary libraries. \n"
      ]
    },
    {
      "cell_type": "code",
      "metadata": {
        "id": "qkXdv0A6QIpB"
      },
      "source": [
        "from tqdm import tqdm\n",
        "from gensim.models import doc2vec\n",
        "from sklearn import utils\n",
        "import gensim\n",
        "from gensim.models.doc2vec import TaggedDocument\n",
        "import re"
      ],
      "execution_count": 25,
      "outputs": []
    },
    {
      "cell_type": "markdown",
      "metadata": {
        "id": "cBov76MXxoA8"
      },
      "source": [
        "Let's start by defining a function that labels our documents in the corpus. We just give them dummy labels TRAIN_i or TEST_i for post i. Given a corpus and labels, we return a variable that includes a label indicating if it's test or training data. "
      ]
    },
    {
      "cell_type": "code",
      "metadata": {
        "id": "TtVzwM8RQIpD"
      },
      "source": [
        "def label_sentences(corpus, label_type):\n",
        "    \"\"\"\n",
        "    Gensim's Doc2Vec implementation requires each document/paragraph to have a label associated with it.\n",
        "    We do this by using the TaggedDocument method. The format will be \"TRAIN_i\" or \"TEST_i\" where \"i\" is\n",
        "    a dummy index of the post.\n",
        "    \"\"\"\n",
        "    labeled = []\n",
        "    for i, v in enumerate(corpus):\n",
        "        label = label_type + '_' + str(i)\n",
        "        labeled.append(doc2vec.TaggedDocument(v.split(), [label]))\n",
        "    return labeled"
      ],
      "execution_count": 26,
      "outputs": []
    },
    {
      "cell_type": "markdown",
      "metadata": {
        "id": "5lsDfgBnxoBC"
      },
      "source": [
        "Just like above we split our dataset up in test and training data."
      ]
    },
    {
      "cell_type": "code",
      "metadata": {
        "id": "GfXghWoJQIpF"
      },
      "source": [
        "X_train, X_test, y_train, y_test = train_test_split(df.post, df.tags, random_state=0, \n",
        "                                                    test_size=0.3)\n",
        "X_train = label_sentences(X_train, 'Train')\n",
        "X_test = label_sentences(X_test, 'Test')\n",
        "all_data = X_train + X_test"
      ],
      "execution_count": 27,
      "outputs": []
    },
    {
      "cell_type": "markdown",
      "metadata": {
        "id": "A_KYhbHmxoBI"
      },
      "source": [
        "Let's have a look how our data looks at this moment: "
      ]
    },
    {
      "cell_type": "code",
      "metadata": {
        "id": "321apZFWQIpI",
        "colab": {
          "base_uri": "https://localhost:8080/"
        },
        "outputId": "38808c81-d9fd-4940-f1f9-87c2c21d6e81"
      },
      "source": [
        "all_data[:10]"
      ],
      "execution_count": 28,
      "outputs": [
        {
          "output_type": "execute_result",
          "data": {
            "text/plain": [
              "[TaggedDocument(words=['fulltext', 'search', 'php', 'pdo', 'returning', 'result', 'searched', 'lot', 'matter', 'find', 'wrong', 'setup', 'trying', 'fulltext', 'search', 'using', 'pdo', 'php', 'get', 'results', 'error', 'messages', 'table', 'contains', 'customer', 'details', 'id', 'int', '11', 'auto_increment', 'name', 'varchar', '150', 'lastname', 'varchar', '150', 'company', 'varchar', '250', 'adress', 'varchar', '150', 'postcode', 'int', '5', 'city', 'varchar', '150', 'email', 'varchar', '250', 'phone', 'varchar', '20', 'orgnr', 'varchar', '15', 'timestamp', 'timestamp', 'current_timestamp', 'run', 'sqlquery', 'alter', 'table', 'system_customer', 'add', 'fulltext', 'name', 'lastname', 'except', 'columns', 'id', 'postcode', 'timestamp', 'signs', 'trouble', 'far', 'idea', 'problem', 'lies', 'db', 'configuration', 'php', 'code', 'goes', 'php', 'sth', 'dbhprepare', 'select', 'name', 'lastname', 'company', 'adress', 'city', 'phone', 'email', 'orgnr', 'db_pre', 'customer', 'match', 'name', 'lastname', 'company', 'adress', 'city', 'phone', 'email', 'orgnr', 'search', 'boolean', 'mode', 'bind', 'placeholders', 'sthbindparam', 'search', 'data', 'sthexecute', 'rows', 'sthfetchall', 'testing', 'print_r', 'dbherrorinfo', 'empty', 'rows', 'echo', 'else', 'echo', 'foreach', 'rows', 'row', 'echo', 'tr', 'datahref', 'new_orderphp', 'cid', 'row', 'id', 'echo', 'td', 'row', 'name', 'td', 'echo', 'td', 'row', 'lastname', 'td', 'echo', 'td', 'row', 'company', 'td', 'echo', 'td', 'row', 'phone', 'td', 'echo', 'td', 'row', 'email', 'td', 'echo', 'td', 'date', 'ymd', 'strtotime', 'row', 'timestamp', 'td', 'echo', 'tr', 'echo', 'tried', 'change', 'parameter', 'searchquery', 'string', 'like', 'testcompany', 'somename', 'boolean', 'mode', 'also', 'read', 'word', 'found', '50', 'rows', 'counts', 'common', 'word', 'pretty', 'sure', 'case', 'uses', 'specific', 'words', 'table', 'uses', 'myisam', 'engine', 'get', 'results', 'error', 'messages', 'please', 'help', 'point', 'wrong', 'thank'], tags=['Train_0']),\n",
              " TaggedDocument(words=['select', 'everything', '1', 'table', 'x', 'rows', 'another', 'im', 'making', 'join', 'query', 'like', 'select', 'clothes', 'c', 'join', 'style', 'cstyleid', 'ssylelid', 'clothesid', '19', 'dont', 'want', 'select', 'everything', 'style', 'want', 'select', 'everything', 'clothes', '20', 'rows', 'select', '1', 'row', '10', 'style', 'easyest', 'way', 'without', 'select', 'every', 'row', 'clothes', '20', 'things', 'select', 'like', 'select', 'cid', 'cdescription', 'cname', 'csize', 'cbrand', 'sname', 'clothes', 'c', 'join', 'style', 'cstyleid', 'stsylelid', 'clothesid', '19', 'would', 'fastest', 'way', 'possibillity'], tags=['Train_1']),\n",
              " TaggedDocument(words=['r', 'cannot', 'resolved', 'variable', 'importing', 'project', 'pasting', 'problems', 'details', 'r', 'cannot', 'resolved', 'variable', 'common', 'problem', 'checked', 'res', 'folder', 'done', 'refreshing', 'project', 'cleaning', 'project', 'validate', 'still', 'error', 'resolved', 'help', 'guys', '20121214', '021238', 'comexampleandroidlivecubescube2cubewallpaper2settings', 'resdrawableic_launcher_wallpaperpng0', 'error', 'resource', 'entry', 'ic_launcher_wallpaper', 'already', 'defined', '20121214', '021238', 'comexampleandroidlivecubescube2cubewallpaper2settings', 'resdrawableic_launcher_wallpaperhtml0', 'originally', 'defined', '20121214', '021238', 'comexampleandroidlivecubescube2cubewallpaper2settings', 'resxmlcube1xml0', 'error', 'resource', 'entry', 'cube1', 'already', 'defined', '20121214', '021238', 'comexampleandroidlivecubescube2cubewallpaper2settings', 'resxmlcube1html0', 'originally', 'defined', '20121214', '021238', 'comexampleandroidlivecubescube2cubewallpaper2settings', 'resxmlcube2xml0', 'error', 'resource', 'entry', 'cube2', 'already', 'defined', '20121214', '021238', 'comexampleandroidlivecubescube2cubewallpaper2settings', 'resxmlcube2html0', 'originally', 'defined', '20121214', '021238', 'comexampleandroidlivecubescube2cubewallpaper2settings', 'resxmlcube2_settingsxml0', 'error', 'resource', 'entry', 'cube2_settings', 'already', 'defined', '20121214', '021238', 'comexampleandroidlivecubescube2cubewallpaper2settings', 'resxmlcube2_settingshtml0', 'originally', 'defined', '20121214', '021238', 'comexampleandroidlivecubescube2cubewallpaper2settings', 'fsample', 'projectscuberesvaluesindexhtml112', 'error', 'error', 'parsing', 'xml', 'mismatched', 'tag', '20121214', '021238', 'comexampleandroidlivecubescube2cubewallpaper2settings', 'fsample', 'projectscuberesvaluesshapeshtml112', 'error', 'error', 'parsing', 'xml', 'mismatched', 'tag', '20121214', '021238', 'comexampleandroidlivecubescube2cubewallpaper2settings', 'fsample', 'projectscuberesvaluesstringshtml112', 'error', 'error', 'parsing', 'xml', 'mismatched', 'tag', '20121214', '021238', 'comexampleandroidlivecubescube2cubewallpaper2settings', 'fsample', 'projectscuberesxmlcube1html112', 'error', 'error', 'parsing', 'xml', 'mismatched', 'tag', '20121214', '021238', 'comexampleandroidlivecubescube2cubewallpaper2settings', 'fsample', 'projectscuberesxmlcube2html112', 'error', 'error', 'parsing', 'xml', 'mismatched', 'tag', '20121214', '021238', 'comexampleandroidlivecubescube2cubewallpaper2settings', 'fsample', 'projectscuberesxmlcube2_settingshtml112', 'error', 'error', 'parsing', 'xml', 'mismatched', 'tag', '20121214', '021238', 'comexampleandroidlivecubescube2cubewallpaper2settings', 'fsample', 'projectscuberesxmlindexhtml112', 'error', 'error', 'parsing', 'xml', 'mismatched', 'tag', 'copyright', 'c', '2009', 'google', 'inc', 'licensed', 'apache', 'license', 'version', '20', 'license', 'may', 'use', 'file', 'except', 'compliance', 'license', 'may', 'obtain', 'copy', 'license', 'http', 'wwwapacheorg', 'licenses', 'license20', 'unless', 'required', 'applicable', 'law', 'agreed', 'writing', 'software', 'distributed', 'license', 'distributed', 'basis', 'without', 'warranties', 'conditions', 'kind', 'either', 'express', 'implied', 'see', 'license', 'specific', 'language', 'governing', 'permissions', 'limitations', 'license', 'package', 'comexampleandroidlivecubescube2', 'import', 'comexampleandroidlivecubescube2', 'import', 'androidcontentsharedpreferences', 'import', 'androidosbundle', 'import', 'androidpreferencepreferenceactivity', 'public', 'class', 'cubewallpaper2settings', 'extends', 'preferenceactivity', 'implements', 'sharedpreferencesonsharedpreferencechangelistener', 'override', 'protected', 'void', 'oncreate', 'bundle', 'icicle', 'superoncreate', 'icicle', 'getpreferencemanager', 'setsharedpreferencesname', 'cubewallpaper2shared_prefs_name', 'addpreferencesfromresource', 'rxmlcube2_settings', 'getpreferencemanager', 'getsharedpreferences', 'registeronsharedpreferencechangelistener', 'override', 'protected', 'void', 'onresume', 'superonresume', 'override', 'protected', 'void', 'ondestroy', 'getpreferencemanager', 'getsharedpreferences', 'unregisteronsharedpreferencechangelistener', 'superondestroy', 'public', 'void', 'onsharedpreferencechanged', 'sharedpreferences', 'sharedpreferences', 'string', 'key'], tags=['Train_2']),\n",
              " TaggedDocument(words=['efficient', 'way', 'get', 'values', 'object', 'based', 'id', 'list', 'list', 'users', 'users', 'arrayany', 'id1', 'name', 'id2', 'name', 'b', 'id3', 'name', 'c', 'thisselectedusers', '1', '2', 'get', 'objects', 'users', 'array', 'id', 'found', 'selectusers', 'array'], tags=['Train_3']),\n",
              " TaggedDocument(words=['aspnet', 'limit', 'parameter', 'length', 'querystring', 'problem', 'passing', 'parameters', 'querystring', 'found', 'values', 'null', 'code', 'snippet', 'page1', 'passing', 'parameters', 'responseredirect', 'stringformat', 'requestreservationpageaspx', 'plcname', '0', 'plcindex', '1', 'email', '2', 'form', '3', '4', 'sr', '5', 'comment', '6', 'lblplcnamevaltext', 'index', 'lblemailvaltext', 'datetimeparse', 'lblreqfromvaltext', 'toshortdatestring', 'datetimeparse', 'lblreqtovaltext', 'toshortdatestring', 'lblservreqnumtext', 'lblyourcommentvaltext', 'page2', 'requesting', 'values', 'cmbplcrequestselectedindex', 'converttoint32', 'requestquerystring', 'plcindex', 'txtemailtext', 'converttostring', 'requestquerystring', 'email', 'txtsrtext', 'converttostring', 'requestquerystring', 'sr', 'txtcommenttext', 'converttostring', 'requestquerystring', 'comment', 'txtreqfromdatetext', 'requestquerystring', 'txtreqtodatetext', 'requestquerystring', 'found', 'requestquerystring', 'requestquerystring', 'return', 'null', 'idea'], tags=['Train_4']),\n",
              " TaggedDocument(words=['ruby', 'rails', 'fetch', 'display', 'descendent', 'records', 'parent', 'model', 'many', 'children', 'class', 'band', 'activerecordbase', 'has_many', 'concerts', 'end', 'class', 'concerts', 'activerecordbase', 'belongs_to', 'band', 'end', 'would', 'like', 'display', 'index', 'view', 'figure', 'syntax', 'displaying', 'children', 'records', 'bandseach', 'band', 'band', 'name', 'bandname', 'concerts', 'ul', 'bandsconcertseach', 'concert', 'concertlocation', 'end', 'ul', 'end', 'getting', 'error', 'like', 'undefined', 'method', 'concerts', '#array0x00000102c537f0', 'proper', 'way', 'fetching', 'displaying', 'descendent', 'models'], tags=['Train_5']),\n",
              " TaggedDocument(words=['canceling', 'fade', 'effect', 'tooltip', 'hover', 'need', 'tooltip', 'hyperlinks', 'inside', 'web', 'site', 'wrote', 'code', 'seems', 'working', 'fine', 'expect', 'one', 'problem', 'hover', 'tooltip', 'block', 'fades', 'fades', 'need', 'prevent', 'fadeout', 'hovet', 'somehow', 'tried', 'use', 'stop', 'method', 'work', 'probably', 'something', 'wrong', 'could', 'please', 'help', 'thanks', 'html', 'div', 'id', 'hover', 'div', 'class', 'tooltip', 'href', '#', 'href', '#', 'href', '#', 'div', 'div', 'css', 'body', 'margin', '0', 'padding', '0', 'width', '100', 'height', '100', '#hover', 'position', 'relative', 'width50px', 'height50px', 'background', 'green', 'tooltip', 'position', 'relative', 'width', '45px', 'top', '80px', 'height', '20px', 'border', '1px', 'solid', 'black', 'padding', '5px', 'display', 'inlineblock', 'margintop', '5px', 'height', '10px', 'width', '10px', 'border', '1px', 'solid', 'black', 'background', 'red', 'jquery', 'document', 'ready', 'function', 'tooltip', 'hide', '#hover', 'hover', 'function', 'find', 'tooltip', 'fadein', 'function', 'find', 'tooltip', 'delay', '1000', 'fadeout', 'demo', 'http', 'jsfiddlenet', '8gc3d', '2904'], tags=['Train_6']),\n",
              " TaggedDocument(words=['ajax', 'calender', 'working', 'ie', 'using', 'ajax', 'calender', 'readonly', 'textbox', 'control', 'select', 'date', 'click', 'date', 'calender', 'picks', 'date', 'attach', 'txtfromdate', 'working', 'correctly', 'ff', 'chrome', 'ie', 'code', 'asptextbox', 'id', 'txtfromdate', 'text', 'date', 'runat', 'server', 'onfocus', 'javascriptthisvalue', 'onblur', 'javascript', 'thisvalue', 'thisvalue', 'date', 'asptextbox', 'ajaxcalendarextender', 'id', 'txtcalendecontrolextenderfromdate', 'runat', 'server', 'format', 'ddmmmyyyy', 'targetcontrolid', 'txtfromdate', 'ajaxcalendarextender'], tags=['Train_7']),\n",
              " TaggedDocument(words=['c++', 'random', 'number', 'generator', 'hung', 'whenever', 'attempt', 'run', 'code', 'program', 'gets', 'hung', 'print', 'value', 'r2eff', 'sure', 'help', 'would', 'appreciated', 'sample', 'value', 'r2efftemp', 'would', '10', 'stddev', 'would', '05', '5', 'unsigned', 'seed', 'stdchronosystem_clocknow', 'time_since_epoch', 'count', 'stdmt19937', 'generator', 'seed', 'normal_distributiondouble', 'rand', 'r2efftemp', 'r2efftempstddev', 'r2efftemp', 'rand', 'generator', 'coutr2efftempendl', 'thank'], tags=['Train_8']),\n",
              " TaggedDocument(words=['bit', 'vector', 'looked', 'online', 'good', 'seem', 'find', 'good', 'example', 'bit', 'vector', 'actually', 'assignment', 'college', 'add', 'remove', 'union', '2', 'vectors', 'intersection', 'struggling', 'comprehend', 'actual', 'bit', 'vector', 'using', 'c', 'write', 'could', 'someone', 'please', 'help', 'would', 'massive', 'help'], tags=['Train_9'])]"
            ]
          },
          "metadata": {},
          "execution_count": 28
        }
      ]
    },
    {
      "cell_type": "markdown",
      "metadata": {
        "id": "GvY-IsHNxoBQ"
      },
      "source": [
        "Gensim allows us to build a model very easily. We can vary the parameters to fit your data: \n",
        "\n",
        "*    `dm=0` , distributed bag of words (DBOW) is used.\n",
        "*    `vector_size=300` , 300 vector dimensional feature vectors.\n",
        "*    `negative=5` , specifies how many “noise words” should be drawn.\n",
        "*    `min_count=1`, ignores all words with total frequency lower than this.\n",
        "*    `alpha=0.065` , the initial learning rate.\n",
        "\n",
        "We initialize the model and train for 30 epochs. (Those of you on slower computers may want to train for less epochs). Be sure to set your runtime to GPU hardware acceleration! Maybe test with a lower amount of epochs first to see how high you can go during class time!\n"
      ]
    },
    {
      "cell_type": "code",
      "metadata": {
        "id": "G9UoqpKnQIpM",
        "colab": {
          "base_uri": "https://localhost:8080/"
        },
        "outputId": "b823fec7-b2b5-4dab-cd19-426668c7fd16"
      },
      "source": [
        "model_dbow = doc2vec.Doc2Vec(dm=0, vector_size=300, negative=5, min_count=1, alpha=0.065, \n",
        "                     min_alpha=0.065)\n",
        "model_dbow.build_vocab([x for x in tqdm(all_data)])"
      ],
      "execution_count": 29,
      "outputs": [
        {
          "output_type": "stream",
          "name": "stderr",
          "text": [
            "100%|██████████| 40000/40000 [00:00<00:00, 3312643.84it/s]\n"
          ]
        }
      ]
    },
    {
      "cell_type": "code",
      "metadata": {
        "id": "lSDy4huyQIpP",
        "colab": {
          "base_uri": "https://localhost:8080/"
        },
        "outputId": "0235b1d8-207d-45f4-dcff-344db9038599"
      },
      "source": [
        "for epoch in range(30):\n",
        "    model_dbow.train(utils.shuffle([x for x in tqdm(all_data)]), \n",
        "                     total_examples=len(all_data), \n",
        "                     epochs=1)\n",
        "    model_dbow.alpha -= 0.002\n",
        "    model_dbow.min_alpha = model_dbow.alpha"
      ],
      "execution_count": 30,
      "outputs": [
        {
          "output_type": "stream",
          "name": "stderr",
          "text": [
            "100%|██████████| 40000/40000 [00:00<00:00, 2639421.06it/s]\n",
            "100%|██████████| 40000/40000 [00:00<00:00, 2180189.99it/s]\n",
            "100%|██████████| 40000/40000 [00:00<00:00, 3285334.17it/s]\n",
            "100%|██████████| 40000/40000 [00:00<00:00, 2950618.36it/s]\n",
            "100%|██████████| 40000/40000 [00:00<00:00, 3433451.21it/s]\n",
            "100%|██████████| 40000/40000 [00:00<00:00, 3149645.37it/s]\n",
            "100%|██████████| 40000/40000 [00:00<00:00, 3156459.96it/s]\n",
            "100%|██████████| 40000/40000 [00:00<00:00, 3015803.42it/s]\n",
            "100%|██████████| 40000/40000 [00:00<00:00, 3328680.61it/s]\n",
            "100%|██████████| 40000/40000 [00:00<00:00, 2518496.46it/s]\n",
            "100%|██████████| 40000/40000 [00:00<00:00, 3339945.85it/s]\n",
            "100%|██████████| 40000/40000 [00:00<00:00, 3438095.00it/s]\n",
            "100%|██████████| 40000/40000 [00:00<00:00, 3117224.88it/s]\n",
            "100%|██████████| 40000/40000 [00:00<00:00, 3686166.01it/s]\n",
            "100%|██████████| 40000/40000 [00:00<00:00, 3372779.29it/s]\n",
            "100%|██████████| 40000/40000 [00:00<00:00, 3144568.44it/s]\n",
            "100%|██████████| 40000/40000 [00:00<00:00, 3286750.12it/s]\n",
            "100%|██████████| 40000/40000 [00:00<00:00, 3505477.64it/s]\n",
            "100%|██████████| 40000/40000 [00:00<00:00, 3438588.26it/s]\n",
            "100%|██████████| 40000/40000 [00:00<00:00, 3549381.40it/s]\n",
            "100%|██████████| 40000/40000 [00:00<00:00, 3336890.09it/s]\n",
            "100%|██████████| 40000/40000 [00:00<00:00, 3132356.75it/s]\n",
            "100%|██████████| 40000/40000 [00:00<00:00, 2583256.24it/s]\n",
            "100%|██████████| 40000/40000 [00:00<00:00, 3601729.46it/s]\n",
            "100%|██████████| 40000/40000 [00:00<00:00, 3641679.18it/s]\n",
            "100%|██████████| 40000/40000 [00:00<00:00, 3447137.05it/s]\n",
            "100%|██████████| 40000/40000 [00:00<00:00, 3258471.10it/s]\n",
            "100%|██████████| 40000/40000 [00:00<00:00, 3601729.46it/s]\n",
            "100%|██████████| 40000/40000 [00:00<00:00, 3609788.93it/s]\n",
            "100%|██████████| 40000/40000 [00:00<00:00, 3115372.59it/s]\n"
          ]
        }
      ]
    },
    {
      "cell_type": "markdown",
      "metadata": {
        "id": "mNp4a3ouxoB5"
      },
      "source": [
        "Now let's define a function to get the vector of a particular word from this trained  model, so that we can feed them into the logistic regression:"
      ]
    },
    {
      "cell_type": "code",
      "metadata": {
        "id": "A6cGBFuRQIpT"
      },
      "source": [
        "def get_vectors(model, corpus_size, vectors_size, vectors_type):\n",
        "    \"\"\"\n",
        "    Get vectors from trained doc2vec model\n",
        "    :param doc2vec_model: Trained Doc2Vec model\n",
        "    :param corpus_size: Size of the data\n",
        "    :param vectors_size: Size of the embedding vectors\n",
        "    :param vectors_type: Training or Testing vectors\n",
        "    :return: list of vectors\n",
        "    \"\"\"\n",
        "    vectors = np.zeros((corpus_size, vectors_size))\n",
        "    for i in range(0, corpus_size):\n",
        "        prefix = vectors_type + '_' + str(i)\n",
        "        vectors[i] = model.docvecs[prefix]\n",
        "    return vectors"
      ],
      "execution_count": 31,
      "outputs": []
    },
    {
      "cell_type": "markdown",
      "metadata": {
        "id": "cgOEdSpS7nTW"
      },
      "source": [
        "We can use this function to create a vectorised training and test set with 1 entry per document for the input in classification models such as logistic regression. "
      ]
    },
    {
      "cell_type": "code",
      "metadata": {
        "id": "57wLrRE3QIpX"
      },
      "source": [
        "train_vectors_dbow = get_vectors(model_dbow, len(X_train), 300, 'Train')\n",
        "test_vectors_dbow = get_vectors(model_dbow, len(X_test), 300, 'Test')"
      ],
      "execution_count": 32,
      "outputs": []
    },
    {
      "cell_type": "markdown",
      "metadata": {
        "id": "WJE2ZeuOxoCD"
      },
      "source": [
        "We can now feed these vectors to the classifier again: "
      ]
    },
    {
      "cell_type": "code",
      "metadata": {
        "id": "NoLo0XkeQIpa",
        "colab": {
          "base_uri": "https://localhost:8080/"
        },
        "outputId": "b9315573-89c5-4d8b-e717-9873b44c1af9"
      },
      "source": [
        "logreg = LogisticRegression(n_jobs=1, C=1e5)\n",
        "logreg.fit(train_vectors_dbow, y_train)\n",
        "\n",
        "logreg = logreg.fit(train_vectors_dbow, y_train)\n",
        "y_pred = logreg.predict(test_vectors_dbow)\n",
        "\n",
        "print('accuracy %s' % accuracy_score(y_pred, y_test))\n",
        "print(classification_report(y_test, y_pred))"
      ],
      "execution_count": 33,
      "outputs": [
        {
          "output_type": "stream",
          "name": "stderr",
          "text": [
            "/usr/local/lib/python3.7/dist-packages/sklearn/linear_model/_logistic.py:940: ConvergenceWarning: lbfgs failed to converge (status=1):\n",
            "STOP: TOTAL NO. of ITERATIONS REACHED LIMIT.\n",
            "\n",
            "Increase the number of iterations (max_iter) or scale the data as shown in:\n",
            "    https://scikit-learn.org/stable/modules/preprocessing.html\n",
            "Please also refer to the documentation for alternative solver options:\n",
            "    https://scikit-learn.org/stable/modules/linear_model.html#logistic-regression\n",
            "  extra_warning_msg=_LOGISTIC_SOLVER_CONVERGENCE_MSG)\n",
            "/usr/local/lib/python3.7/dist-packages/sklearn/linear_model/_logistic.py:940: ConvergenceWarning: lbfgs failed to converge (status=1):\n",
            "STOP: TOTAL NO. of ITERATIONS REACHED LIMIT.\n",
            "\n",
            "Increase the number of iterations (max_iter) or scale the data as shown in:\n",
            "    https://scikit-learn.org/stable/modules/preprocessing.html\n",
            "Please also refer to the documentation for alternative solver options:\n",
            "    https://scikit-learn.org/stable/modules/linear_model.html#logistic-regression\n",
            "  extra_warning_msg=_LOGISTIC_SOLVER_CONVERGENCE_MSG)\n"
          ]
        },
        {
          "output_type": "stream",
          "name": "stdout",
          "text": [
            "accuracy 0.7971666666666667\n",
            "               precision    recall  f1-score   support\n",
            "\n",
            "         .net       0.67      0.65      0.66       589\n",
            "      android       0.88      0.92      0.90       661\n",
            "    angularjs       0.96      0.94      0.95       606\n",
            "      asp.net       0.78      0.77      0.77       613\n",
            "            c       0.83      0.88      0.85       601\n",
            "           c#       0.70      0.72      0.71       585\n",
            "          c++       0.86      0.79      0.82       621\n",
            "          css       0.82      0.82      0.82       587\n",
            "         html       0.69      0.67      0.68       560\n",
            "          ios       0.69      0.68      0.69       611\n",
            "       iphone       0.64      0.65      0.65       593\n",
            "         java       0.81      0.83      0.82       581\n",
            "   javascript       0.78      0.74      0.76       608\n",
            "       jquery       0.84      0.84      0.84       593\n",
            "        mysql       0.82      0.81      0.81       592\n",
            "  objective-c       0.69      0.65      0.67       597\n",
            "          php       0.84      0.85      0.85       604\n",
            "       python       0.91      0.94      0.92       610\n",
            "ruby-on-rails       0.92      0.94      0.93       595\n",
            "          sql       0.78      0.83      0.81       593\n",
            "\n",
            "     accuracy                           0.80     12000\n",
            "    macro avg       0.80      0.80      0.80     12000\n",
            " weighted avg       0.80      0.80      0.80     12000\n",
            "\n"
          ]
        }
      ]
    },
    {
      "cell_type": "markdown",
      "metadata": {
        "id": "GqmumA0-xoCV"
      },
      "source": [
        "We get 80%, that is the best result so far! Remember, we can actually use any classifier with this method! So up to you to make your project as efficient as possible :)\n",
        "    \n",
        "Try using a different classifiers, e.g. Decision tree or SVM. Does that influence the results? \n",
        "\n",
        "New methods are coming out every day in the field of data science. Just at the end of August 2019, the first implementation of BERT for document classfication was published: DocBERT: https://arxiv.org/abs/1904.08398\n",
        "\n",
        "These embeddings can similarly be loaded. There are also specialised pretrainend embeddings for say, financial data, e.g. FinBERT. "
      ]
    },
    {
      "cell_type": "markdown",
      "metadata": {
        "id": "jvthUI_yxoCg"
      },
      "source": [
        "## References\n",
        "\n",
        "* https://radimrehurek.com/gensim/models/word2vec.html\n",
        "* https://towardsdatascience.com/multi-class-text-classification-model-comparison-and-selection-5eb066197568\n",
        "* https://github.com/kavgan/nlp-text-mining-working-examples/tree/master/word2vec\n",
        "* https://medium.com/@mishra.thedeepak/doc2vec-simple-implementation-example-df2afbbfbad5]"
      ]
    },
    {
      "cell_type": "markdown",
      "metadata": {
        "id": "fDmjCi1QHIkV"
      },
      "source": [
        "## Exercise\n",
        "\n",
        "Now over to you! \n",
        "\n",
        "Can you develop a doc2vec with SVM classifier for the following dataset? \n",
        "\n",
        "https://www.kaggle.com/clmentbisaillon/fake-and-real-news-dataset?select=Fake.csv\n",
        "\n",
        "The task is to predict if news is fake or real. \n",
        "\n",
        "As input, use only the text for simplicity (possibly concatenated with title, but not necessary). \n",
        "\n",
        "Good luck! "
      ]
    },
    {
      "cell_type": "code",
      "metadata": {
        "id": "U4gp0t_b4rJC"
      },
      "source": [
        "## solution\n",
        "from tqdm import tqdm\n",
        "from gensim.models import doc2vec\n",
        "from sklearn import utils\n",
        "import gensim\n",
        "from gensim.models.doc2vec import TaggedDocument\n",
        "import re"
      ],
      "execution_count": 34,
      "outputs": []
    },
    {
      "cell_type": "code",
      "metadata": {
        "id": "ONO9CNxdG4Fq"
      },
      "source": [
        "! pip install kaggle\n",
        "! mkdir ~/.kaggle\n",
        "! cp kaggle.json ~/.kaggle/\n",
        "! chmod 600 ~/.kaggle/kaggle.json"
      ],
      "execution_count": 45,
      "outputs": []
    },
    {
      "cell_type": "code",
      "metadata": {
        "colab": {
          "base_uri": "https://localhost:8080/"
        },
        "id": "h2aDNp4DG4BZ",
        "outputId": "d40675b3-0850-49e7-d6ad-52c3a2ffaa9f"
      },
      "source": [
        "# Download Fake.csv\n",
        "! kaggle datasets download clmentbisaillon/fake-and-real-news-dataset "
      ],
      "execution_count": 46,
      "outputs": [
        {
          "output_type": "stream",
          "name": "stdout",
          "text": [
            "Downloading fake-and-real-news-dataset.zip to /content\n",
            " 93% 38.0M/41.0M [00:00<00:00, 68.1MB/s]\n",
            "100% 41.0M/41.0M [00:00<00:00, 108MB/s] \n"
          ]
        }
      ]
    },
    {
      "cell_type": "code",
      "metadata": {
        "colab": {
          "base_uri": "https://localhost:8080/"
        },
        "id": "4JUtodvgHzc-",
        "outputId": "df8cb290-156c-4564-bee0-d519104a3be8"
      },
      "source": [
        "# Unzip folder\n",
        "! unzip fake-and-real-news-dataset.zip"
      ],
      "execution_count": 47,
      "outputs": [
        {
          "output_type": "stream",
          "name": "stdout",
          "text": [
            "Archive:  fake-and-real-news-dataset.zip\n",
            "  inflating: Fake.csv                \n",
            "  inflating: True.csv                \n"
          ]
        }
      ]
    },
    {
      "cell_type": "code",
      "metadata": {
        "id": "-QyRLoutHY3g",
        "colab": {
          "base_uri": "https://localhost:8080/",
          "height": 221
        },
        "outputId": "a06e0145-ccad-42af-b934-546f4856805e"
      },
      "source": [
        "fake_csv = \"./Fake.csv\"\n",
        "\n",
        "fake_df = pd.read_csv(fake_csv, encoding = 'latin-1')\n",
        "fake_df['label'] = 'Fake'\n",
        "print(\"Fake CSV: \", len(fake_df))\n",
        "fake_df.head()"
      ],
      "execution_count": 48,
      "outputs": [
        {
          "output_type": "stream",
          "name": "stdout",
          "text": [
            "Fake CSV:  23481\n"
          ]
        },
        {
          "output_type": "execute_result",
          "data": {
            "text/html": [
              "<div>\n",
              "<style scoped>\n",
              "    .dataframe tbody tr th:only-of-type {\n",
              "        vertical-align: middle;\n",
              "    }\n",
              "\n",
              "    .dataframe tbody tr th {\n",
              "        vertical-align: top;\n",
              "    }\n",
              "\n",
              "    .dataframe thead th {\n",
              "        text-align: right;\n",
              "    }\n",
              "</style>\n",
              "<table border=\"1\" class=\"dataframe\">\n",
              "  <thead>\n",
              "    <tr style=\"text-align: right;\">\n",
              "      <th></th>\n",
              "      <th>title</th>\n",
              "      <th>text</th>\n",
              "      <th>subject</th>\n",
              "      <th>date</th>\n",
              "      <th>label</th>\n",
              "    </tr>\n",
              "  </thead>\n",
              "  <tbody>\n",
              "    <tr>\n",
              "      <th>0</th>\n",
              "      <td>Donald Trump Sends Out Embarrassing New Yearâ...</td>\n",
              "      <td>Donald Trump just couldn t wish all Americans ...</td>\n",
              "      <td>News</td>\n",
              "      <td>December 31, 2017</td>\n",
              "      <td>Fake</td>\n",
              "    </tr>\n",
              "    <tr>\n",
              "      <th>1</th>\n",
              "      <td>Drunk Bragging Trump Staffer Started Russian ...</td>\n",
              "      <td>House Intelligence Committee Chairman Devin Nu...</td>\n",
              "      <td>News</td>\n",
              "      <td>December 31, 2017</td>\n",
              "      <td>Fake</td>\n",
              "    </tr>\n",
              "    <tr>\n",
              "      <th>2</th>\n",
              "      <td>Sheriff David Clarke Becomes An Internet Joke...</td>\n",
              "      <td>On Friday, it was revealed that former Milwauk...</td>\n",
              "      <td>News</td>\n",
              "      <td>December 30, 2017</td>\n",
              "      <td>Fake</td>\n",
              "    </tr>\n",
              "    <tr>\n",
              "      <th>3</th>\n",
              "      <td>Trump Is So Obsessed He Even Has Obamaâs Na...</td>\n",
              "      <td>On Christmas day, Donald Trump announced that ...</td>\n",
              "      <td>News</td>\n",
              "      <td>December 29, 2017</td>\n",
              "      <td>Fake</td>\n",
              "    </tr>\n",
              "    <tr>\n",
              "      <th>4</th>\n",
              "      <td>Pope Francis Just Called Out Donald Trump Dur...</td>\n",
              "      <td>Pope Francis used his annual Christmas Day mes...</td>\n",
              "      <td>News</td>\n",
              "      <td>December 25, 2017</td>\n",
              "      <td>Fake</td>\n",
              "    </tr>\n",
              "  </tbody>\n",
              "</table>\n",
              "</div>"
            ],
            "text/plain": [
              "                                               title  ... label\n",
              "0   Donald Trump Sends Out Embarrassing New Yearâ...  ...  Fake\n",
              "1   Drunk Bragging Trump Staffer Started Russian ...  ...  Fake\n",
              "2   Sheriff David Clarke Becomes An Internet Joke...  ...  Fake\n",
              "3   Trump Is So Obsessed He Even Has Obamaâs Na...  ...  Fake\n",
              "4   Pope Francis Just Called Out Donald Trump Dur...  ...  Fake\n",
              "\n",
              "[5 rows x 5 columns]"
            ]
          },
          "metadata": {},
          "execution_count": 48
        }
      ]
    },
    {
      "cell_type": "code",
      "metadata": {
        "colab": {
          "base_uri": "https://localhost:8080/",
          "height": 221
        },
        "id": "IKTKnW-YOaj4",
        "outputId": "df41cddf-b658-4d72-d461-91666247b480"
      },
      "source": [
        "true_csv = \"./True.csv\"\n",
        "\n",
        "true_df = pd.read_csv(true_csv, encoding = 'latin-1')\n",
        "true_df['label'] = 'True'\n",
        "print(\"True CSV: \", len(true_df))\n",
        "true_df.head()"
      ],
      "execution_count": 51,
      "outputs": [
        {
          "output_type": "stream",
          "name": "stdout",
          "text": [
            "True CSV:  21417\n"
          ]
        },
        {
          "output_type": "execute_result",
          "data": {
            "text/html": [
              "<div>\n",
              "<style scoped>\n",
              "    .dataframe tbody tr th:only-of-type {\n",
              "        vertical-align: middle;\n",
              "    }\n",
              "\n",
              "    .dataframe tbody tr th {\n",
              "        vertical-align: top;\n",
              "    }\n",
              "\n",
              "    .dataframe thead th {\n",
              "        text-align: right;\n",
              "    }\n",
              "</style>\n",
              "<table border=\"1\" class=\"dataframe\">\n",
              "  <thead>\n",
              "    <tr style=\"text-align: right;\">\n",
              "      <th></th>\n",
              "      <th>title</th>\n",
              "      <th>text</th>\n",
              "      <th>subject</th>\n",
              "      <th>date</th>\n",
              "      <th>label</th>\n",
              "    </tr>\n",
              "  </thead>\n",
              "  <tbody>\n",
              "    <tr>\n",
              "      <th>0</th>\n",
              "      <td>As U.S. budget fight looms, Republicans flip t...</td>\n",
              "      <td>WASHINGTON (Reuters) - The head of a conservat...</td>\n",
              "      <td>politicsNews</td>\n",
              "      <td>December 31, 2017</td>\n",
              "      <td>True</td>\n",
              "    </tr>\n",
              "    <tr>\n",
              "      <th>1</th>\n",
              "      <td>U.S. military to accept transgender recruits o...</td>\n",
              "      <td>WASHINGTON (Reuters) - Transgender people will...</td>\n",
              "      <td>politicsNews</td>\n",
              "      <td>December 29, 2017</td>\n",
              "      <td>True</td>\n",
              "    </tr>\n",
              "    <tr>\n",
              "      <th>2</th>\n",
              "      <td>Senior U.S. Republican senator: 'Let Mr. Muell...</td>\n",
              "      <td>WASHINGTON (Reuters) - The special counsel inv...</td>\n",
              "      <td>politicsNews</td>\n",
              "      <td>December 31, 2017</td>\n",
              "      <td>True</td>\n",
              "    </tr>\n",
              "    <tr>\n",
              "      <th>3</th>\n",
              "      <td>FBI Russia probe helped by Australian diplomat...</td>\n",
              "      <td>WASHINGTON (Reuters) - Trump campaign adviser ...</td>\n",
              "      <td>politicsNews</td>\n",
              "      <td>December 30, 2017</td>\n",
              "      <td>True</td>\n",
              "    </tr>\n",
              "    <tr>\n",
              "      <th>4</th>\n",
              "      <td>Trump wants Postal Service to charge 'much mor...</td>\n",
              "      <td>SEATTLE/WASHINGTON (Reuters) - President Donal...</td>\n",
              "      <td>politicsNews</td>\n",
              "      <td>December 29, 2017</td>\n",
              "      <td>True</td>\n",
              "    </tr>\n",
              "  </tbody>\n",
              "</table>\n",
              "</div>"
            ],
            "text/plain": [
              "                                               title  ... label\n",
              "0  As U.S. budget fight looms, Republicans flip t...  ...  True\n",
              "1  U.S. military to accept transgender recruits o...  ...  True\n",
              "2  Senior U.S. Republican senator: 'Let Mr. Muell...  ...  True\n",
              "3  FBI Russia probe helped by Australian diplomat...  ...  True\n",
              "4  Trump wants Postal Service to charge 'much mor...  ...  True\n",
              "\n",
              "[5 rows x 5 columns]"
            ]
          },
          "metadata": {},
          "execution_count": 51
        }
      ]
    },
    {
      "cell_type": "code",
      "metadata": {
        "colab": {
          "base_uri": "https://localhost:8080/",
          "height": 221
        },
        "id": "F30ANUYmONtq",
        "outputId": "5325701e-6ff2-4198-8267-01d25c76b141"
      },
      "source": [
        "news_df = fake_df.append(true_df).sample(frac=1.0, random_state=0)\n",
        "print(news_df.shape)\n",
        "news_df.head()"
      ],
      "execution_count": 52,
      "outputs": [
        {
          "output_type": "stream",
          "name": "stdout",
          "text": [
            "(44898, 5)\n"
          ]
        },
        {
          "output_type": "execute_result",
          "data": {
            "text/html": [
              "<div>\n",
              "<style scoped>\n",
              "    .dataframe tbody tr th:only-of-type {\n",
              "        vertical-align: middle;\n",
              "    }\n",
              "\n",
              "    .dataframe tbody tr th {\n",
              "        vertical-align: top;\n",
              "    }\n",
              "\n",
              "    .dataframe thead th {\n",
              "        text-align: right;\n",
              "    }\n",
              "</style>\n",
              "<table border=\"1\" class=\"dataframe\">\n",
              "  <thead>\n",
              "    <tr style=\"text-align: right;\">\n",
              "      <th></th>\n",
              "      <th>title</th>\n",
              "      <th>text</th>\n",
              "      <th>subject</th>\n",
              "      <th>date</th>\n",
              "      <th>label</th>\n",
              "    </tr>\n",
              "  </thead>\n",
              "  <tbody>\n",
              "    <tr>\n",
              "      <th>11824</th>\n",
              "      <td>Ex-Interpol chief says ready to testify for Ar...</td>\n",
              "      <td>BUENOS AIRES (Reuters) - Argentina s previous ...</td>\n",
              "      <td>worldnews</td>\n",
              "      <td>December 20, 2017</td>\n",
              "      <td>True</td>\n",
              "    </tr>\n",
              "    <tr>\n",
              "      <th>5699</th>\n",
              "      <td>U.S. warns North Korea of 'overwhelming' respo...</td>\n",
              "      <td>SEOUL (Reuters) - U.S. President Donald Trumpâ...</td>\n",
              "      <td>politicsNews</td>\n",
              "      <td>February 3, 2017</td>\n",
              "      <td>True</td>\n",
              "    </tr>\n",
              "    <tr>\n",
              "      <th>6324</th>\n",
              "      <td>Big security risks in Trump feud with spy agen...</td>\n",
              "      <td>WASHINGTON (Reuters) - An unprecedented pre-pr...</td>\n",
              "      <td>politicsNews</td>\n",
              "      <td>January 13, 2017</td>\n",
              "      <td>True</td>\n",
              "    </tr>\n",
              "    <tr>\n",
              "      <th>14756</th>\n",
              "      <td>France puts suspected militant under investiga...</td>\n",
              "      <td>PARIS (Reuters) - A suspected Islamist militan...</td>\n",
              "      <td>worldnews</td>\n",
              "      <td>November 15, 2017</td>\n",
              "      <td>True</td>\n",
              "    </tr>\n",
              "    <tr>\n",
              "      <th>5099</th>\n",
              "      <td>Rudy Giuliani Turns Into A Blithering Idiot W...</td>\n",
              "      <td>During a live CNN interview with Rudy Giuliani...</td>\n",
              "      <td>News</td>\n",
              "      <td>August 11, 2016</td>\n",
              "      <td>Fake</td>\n",
              "    </tr>\n",
              "  </tbody>\n",
              "</table>\n",
              "</div>"
            ],
            "text/plain": [
              "                                                   title  ... label\n",
              "11824  Ex-Interpol chief says ready to testify for Ar...  ...  True\n",
              "5699   U.S. warns North Korea of 'overwhelming' respo...  ...  True\n",
              "6324   Big security risks in Trump feud with spy agen...  ...  True\n",
              "14756  France puts suspected militant under investiga...  ...  True\n",
              "5099    Rudy Giuliani Turns Into A Blithering Idiot W...  ...  Fake\n",
              "\n",
              "[5 rows x 5 columns]"
            ]
          },
          "metadata": {},
          "execution_count": 52
        }
      ]
    },
    {
      "cell_type": "code",
      "metadata": {
        "colab": {
          "base_uri": "https://localhost:8080/",
          "height": 461
        },
        "id": "MJdFoaqm4quL",
        "outputId": "9dc33433-8898-498a-970d-2ac7bfa7f8e9"
      },
      "source": [
        "# only keep data that has a subject (is labeled): \n",
        "news_df = news_df[pd.notnull(news_df['subject'])]\n",
        "print(\"News CSV Length: \", len(news_df))\n",
        "\n",
        "# display first ten rows:\n",
        "news_df.head(10)"
      ],
      "execution_count": 53,
      "outputs": [
        {
          "output_type": "stream",
          "name": "stdout",
          "text": [
            "News CSV Length:  44898\n"
          ]
        },
        {
          "output_type": "execute_result",
          "data": {
            "text/html": [
              "<div>\n",
              "<style scoped>\n",
              "    .dataframe tbody tr th:only-of-type {\n",
              "        vertical-align: middle;\n",
              "    }\n",
              "\n",
              "    .dataframe tbody tr th {\n",
              "        vertical-align: top;\n",
              "    }\n",
              "\n",
              "    .dataframe thead th {\n",
              "        text-align: right;\n",
              "    }\n",
              "</style>\n",
              "<table border=\"1\" class=\"dataframe\">\n",
              "  <thead>\n",
              "    <tr style=\"text-align: right;\">\n",
              "      <th></th>\n",
              "      <th>title</th>\n",
              "      <th>text</th>\n",
              "      <th>subject</th>\n",
              "      <th>date</th>\n",
              "      <th>label</th>\n",
              "    </tr>\n",
              "  </thead>\n",
              "  <tbody>\n",
              "    <tr>\n",
              "      <th>11824</th>\n",
              "      <td>Ex-Interpol chief says ready to testify for Ar...</td>\n",
              "      <td>BUENOS AIRES (Reuters) - Argentina s previous ...</td>\n",
              "      <td>worldnews</td>\n",
              "      <td>December 20, 2017</td>\n",
              "      <td>True</td>\n",
              "    </tr>\n",
              "    <tr>\n",
              "      <th>5699</th>\n",
              "      <td>U.S. warns North Korea of 'overwhelming' respo...</td>\n",
              "      <td>SEOUL (Reuters) - U.S. President Donald Trumpâ...</td>\n",
              "      <td>politicsNews</td>\n",
              "      <td>February 3, 2017</td>\n",
              "      <td>True</td>\n",
              "    </tr>\n",
              "    <tr>\n",
              "      <th>6324</th>\n",
              "      <td>Big security risks in Trump feud with spy agen...</td>\n",
              "      <td>WASHINGTON (Reuters) - An unprecedented pre-pr...</td>\n",
              "      <td>politicsNews</td>\n",
              "      <td>January 13, 2017</td>\n",
              "      <td>True</td>\n",
              "    </tr>\n",
              "    <tr>\n",
              "      <th>14756</th>\n",
              "      <td>France puts suspected militant under investiga...</td>\n",
              "      <td>PARIS (Reuters) - A suspected Islamist militan...</td>\n",
              "      <td>worldnews</td>\n",
              "      <td>November 15, 2017</td>\n",
              "      <td>True</td>\n",
              "    </tr>\n",
              "    <tr>\n",
              "      <th>5099</th>\n",
              "      <td>Rudy Giuliani Turns Into A Blithering Idiot W...</td>\n",
              "      <td>During a live CNN interview with Rudy Giuliani...</td>\n",
              "      <td>News</td>\n",
              "      <td>August 11, 2016</td>\n",
              "      <td>Fake</td>\n",
              "    </tr>\n",
              "    <tr>\n",
              "      <th>5812</th>\n",
              "      <td>Carl Bernstein: Donald Trump Is A Fascist Str...</td>\n",
              "      <td>Carl Bernstein, the legendary journalist who i...</td>\n",
              "      <td>News</td>\n",
              "      <td>June 19, 2016</td>\n",
              "      <td>Fake</td>\n",
              "    </tr>\n",
              "    <tr>\n",
              "      <th>2747</th>\n",
              "      <td>Sean Spicer Just Said The DUMBEST Thing About...</td>\n",
              "      <td>According to White House Propaganda Minister S...</td>\n",
              "      <td>News</td>\n",
              "      <td>February 1, 2017</td>\n",
              "      <td>Fake</td>\n",
              "    </tr>\n",
              "    <tr>\n",
              "      <th>11200</th>\n",
              "      <td>Growing feud: Trump, Cruz escalate attacks on ...</td>\n",
              "      <td>MYRTLE BEACH, S.C. (Reuters) - The growing feu...</td>\n",
              "      <td>politicsNews</td>\n",
              "      <td>January 16, 2016</td>\n",
              "      <td>True</td>\n",
              "    </tr>\n",
              "    <tr>\n",
              "      <th>12157</th>\n",
              "      <td>LOU DOBBS Says What Weâre All Thinking: Trum...</td>\n",
              "      <td>President-elect @realDonaldTrump s unexpected ...</td>\n",
              "      <td>politics</td>\n",
              "      <td>Dec 12, 2016</td>\n",
              "      <td>Fake</td>\n",
              "    </tr>\n",
              "    <tr>\n",
              "      <th>8056</th>\n",
              "      <td>Trump vs. Clinton: Debate will mark biggest mo...</td>\n",
              "      <td>WASHINGTON (Reuters) - Democrat Hillary Clinto...</td>\n",
              "      <td>politicsNews</td>\n",
              "      <td>September 22, 2016</td>\n",
              "      <td>True</td>\n",
              "    </tr>\n",
              "  </tbody>\n",
              "</table>\n",
              "</div>"
            ],
            "text/plain": [
              "                                                   title  ... label\n",
              "11824  Ex-Interpol chief says ready to testify for Ar...  ...  True\n",
              "5699   U.S. warns North Korea of 'overwhelming' respo...  ...  True\n",
              "6324   Big security risks in Trump feud with spy agen...  ...  True\n",
              "14756  France puts suspected militant under investiga...  ...  True\n",
              "5099    Rudy Giuliani Turns Into A Blithering Idiot W...  ...  Fake\n",
              "5812    Carl Bernstein: Donald Trump Is A Fascist Str...  ...  Fake\n",
              "2747    Sean Spicer Just Said The DUMBEST Thing About...  ...  Fake\n",
              "11200  Growing feud: Trump, Cruz escalate attacks on ...  ...  True\n",
              "12157  LOU DOBBS Says What Weâre All Thinking: Trum...  ...  Fake\n",
              "8056   Trump vs. Clinton: Debate will mark biggest mo...  ...  True\n",
              "\n",
              "[10 rows x 5 columns]"
            ]
          },
          "metadata": {},
          "execution_count": 53
        }
      ]
    },
    {
      "cell_type": "code",
      "metadata": {
        "colab": {
          "base_uri": "https://localhost:8080/",
          "height": 348
        },
        "id": "Beu6otGXK38Y",
        "outputId": "f66d9710-1224-4417-96ef-9dce51d48fe7"
      },
      "source": [
        "# visualising dataset\n",
        "plt.figure(figsize=(10,4))\n",
        "news_df.subject.value_counts().plot(kind='bar');"
      ],
      "execution_count": 54,
      "outputs": [
        {
          "output_type": "display_data",
          "data": {
            "image/png": "[encoded data removed]",
            "text/plain": [
              "<Figure size 720x288 with 1 Axes>"
            ]
          },
          "metadata": {
            "needs_background": "light"
          }
        }
      ]
    },
    {
      "cell_type": "code",
      "metadata": {
        "id": "KI5xE7_FPkJW"
      },
      "source": [
        "def label_sentences(corpus, label_type):\n",
        "    \"\"\"\n",
        "    Gensim's Doc2Vec implementation requires each document/paragraph to have a label associated with it.\n",
        "    We do this by using the TaggedDocument method. The format will be \"TRAIN_i\" or \"TEST_i\" where \"i\" is\n",
        "    a dummy index of the post.\n",
        "    \"\"\"\n",
        "    labeled = []\n",
        "    for i, v in enumerate(corpus):\n",
        "        label = label_type + '_' + str(i)\n",
        "        labeled.append(doc2vec.TaggedDocument(v.split(), [label]))\n",
        "    return labeled"
      ],
      "execution_count": 55,
      "outputs": []
    },
    {
      "cell_type": "code",
      "metadata": {
        "id": "9iqqzMH0NBQN"
      },
      "source": [
        "X = news_df.text\n",
        "y = news_df.label\n",
        "X_train, X_test, y_train, y_test = train_test_split(X, y, test_size=0.3, random_state = 0)\n",
        "\n",
        "X_train = label_sentences(X_train, 'Train')\n",
        "X_test = label_sentences(X_test, 'Test')\n",
        "all_news_data = X_train + X_test"
      ],
      "execution_count": 56,
      "outputs": []
    },
    {
      "cell_type": "code",
      "metadata": {
        "colab": {
          "base_uri": "https://localhost:8080/"
        },
        "id": "SARybXndQKdq",
        "outputId": "33a13755-c816-433e-ed31-d9842c9d4a81"
      },
      "source": [
        "all_news_data[:10]"
      ],
      "execution_count": 57,
      "outputs": [
        {
          "output_type": "execute_result",
          "data": {
            "text/plain": [
              "[TaggedDocument(words=['Anti-vaccination', 'advocates', 'were', 'hoping', 'they', 'could', 'continue', 'exposing', 'the', 'general', 'public', 'to', 'diseases', 'that', 'had', 'been', 'largely', 'wiped', 'out', 'by', 'vaccines,', 'but', 'a', 'judge', 'dashed', 'that', 'hope', 'on', 'Friday.In', '2015,', 'California', 'dealt', 'with', 'a', 'months', 'long', 'measles', 'epidemic', 'stemming', 'from', 'a', 'person', 'who', 'was', 'visiting', 'Disneyland.According', 'to', 'the', 'Los', 'Angeles', 'Times:131', 'California', 'residents', 'were', 'believed', 'to', 'have', 'been', 'infected', 'with', 'measles', 'during', 'the', 'outbreak', 'that', 'began', 'at', 'Disneyland,', 'as', 'well', 'as', 'at', 'least', '26', 'people', 'who', 'resided', 'in', 'seven', 'other', 'states,', 'Canada', 'or', 'Mexico,', 'after', 'visiting', 'the', 'Anaheim', 'theme', 'park', 'or', 'catching', 'the', 'virus', 'from', 'someone', 'who', 'went', 'there.The', 'outbreak', 'created', 'a', 'health', 'crisis', 'in', 'the', 'state,', 'especially', 'since', 'some', 'schools', 'have', 'immunization', 'rates', 'around', '50', 'percent', 'or', 'lower', 'according', 'to', 'state', 'epidemiologist,', 'Dr.', 'Gil', 'Chavez.Measles', 'had', 'been', 'eradicated', 'in', 'America', 'by', '2000,', 'but', 'because', 'some', 'crackpot', 'researcher', 'in', 'England', 'published', 'a', 'terribly', 'flawed', 'study', 'claiming', 'that', 'vaccines', 'cause', 'autism,', 'a', 'claim', 'that', 'has', 'been', 'thoroughly', 'debunked', 'by', 'scientists,', 'many', 'paranoid', 'and', 'ignorant', 'parents', 'have', 'decided', 'not', 'to', 'vaccinate', 'their', 'kids,', 'which', 'is', 'why', '7', 'in', '10', 'Californians', 'who', 'got', 'the', 'measles', 'were', 'unvaccinated.', 'If', 'we', 'had', 'higher', 'levels', 'of', 'immunity', 'in', 'the', 'community,', 'this', 'outbreak', 'would', 'not', 'have', 'happened,', 'Chavez', 'said.And', 'the', 'risk', 'of', 'exposure', 'was', 'not', 'just', 'in', 'California', 'schools.', 'Public', 'health', 'officials', 'contacted', 'thousands', 'of', 'Californians', 'in', '12', 'counties', 'potentially', 'exposed', 'to', 'measles,', 'leading', 'to', 'warnings', 'in', 'airports,', 'malls,', 'schools,', 'clinics', 'and', 'hospitals,', 'the', 'Times', 'reported.', 'In', 'one', 'hospital', 'alone,', 'a', 'single', 'person', 'with', 'measles', 'exposed', '14', 'pregnant', 'women', 'and', '98', 'infants,', 'including', '44', 'in', 'the', 'neonatal', 'intensive', 'care', 'unit.', 'After', 'California', 'quelled', 'the', 'epidemic,', 'state', 'lawmakers', 'went', 'to', 'work', 'to', 'make', 'sure', 'such', 'an', 'epidemic', 'never', 'happens', 'again.', 'To', 'that', 'effort,', 'they', 'took', 'particular', 'aim', 'at', 'personal', 'and', 'religious', 'exemptions', 'that', 'anti-vaxxers', 'have', 'taken', 'advantage', 'of', 'over', 'the', 'years', 'to', 'decline', 'to', 'vaccinate', 'their', 'kids.', 'They', 'soon', 'passed', 'a', 'law', 'requiring', 'all', 'children', 'to', 'be', 'vaccinated.', 'The', 'only', 'exemption', 'allowed', 'is', 'if', 'the', 'child', 'has', 'a', 'medical', 'condition,', 'such', 'as', 'a', 'suppressed', 'immune', 'system,', 'that', 'would', 'prevent', 'them', 'from', 'getting', 'the', 'vaccine.But', 'anti-vaxxers', 'threw', 'a', 'hissy', 'fit', 'and', 'filed', 'a', 'lawsuit', 'last', 'month', 'in', 'order', 'to', 'prevent', 'lawmakers', 'from', 'protecting', 'the', 'public', 'health', 'and', 'safety.And', 'U.S.', 'District', 'Judge', 'Dana', 'Sabraw', 'ruled', 'that', 'they', 'can', 'go', 'f*ck', 'themselves', 'and', 'laughed', 'them', 'out', 'of', 'court', 'because', 'state', 'lawmakers', 'have', 'a', 'long', 'history', 'of', 'requiring', 'children', 'to', 'be', 'vaccinated', 'as', 'a', 'condition', 'to', 'school', 'enrollment', 'and', 'plaintiffs', 'have', 'not', 'made', 'a', 'showing', 'that', 'they', 'are', 'entitled', 'to', 'the', 'extraordinary', 'remedy', 'of', 'a', 'preliminary', 'injunction.', 'In', 'short,', 'the', 'law', 'will', 'go', 'into', 'effect', 'this', 'year', 'and', 'now', 'every', 'child', 'will', 'be', 'required', 'to', 'be', 'vaccinated', 'if', 'they', 'want', 'to', 'be', 'enrolled.And', 'that', 's', 'a', 'good', 'thing.We', 'cannot', 'let', 'irresponsible', 'parents', 'put', 'the', 'public', 'health', 'at', 'risk', 'just', 'because', 'they', 'disagree', 'with', 'science.', 'Measles', 'is', 'one', 'of', 'the', 'most', 'contagious', 'diseases', 'known', 'to', 'man', 'and', 'is', 'even', 'more', 'contagious', 'and', 'deadlier', 'than', 'Ebola.Sixteen', 'years', 'ago', 'this', 'country', 'had', 'wiped', 'out', 'the', 'disease', 'within', 'our', 'shores,', 'and', 'all', 'that', 'effort', 'went', 'to', 'waste', 'because', 'some', 'parents', 'listen', 'more', 'to', 'celebrities', 'like', 'Jim', 'Carrey', 'and', 'Jenny', 'McCarthy', 'than', 'they', 'do', 'to', 'doctors', 'and', 'scientists.', 'That', 'needs', 'to', 'change,', 'and', 'this', 'California', 'law', 'is', 'the', 'first', 'step.Featured', 'image', 'via', 'CBS', 'News'], tags=['Train_0']),\n",
              " TaggedDocument(words=['If', 'you', 're', 'wondering', 'about', 'what', 's', 'happening', 'with', 'the', 'Democrats,', 'here', 'the', 'lowdown.', 'What', 's', 'helping', 'Hillary', 'win', 'the', 'nomination', 'in', '2016', 'is', 'exactly', 'what', 'helped', 'Barack', 'Obama', 'beat', 'Hillary', 'for', 'the', 'nomination', 'in', '2008.', 'Ironic,', 'huh?', 'The', 'Democrats', 'are', 'pretty', 'worried', 'about', 'what', 'will', 'happen', 'at', 'the', 'convention', 'when', 'you', 'have', 'a', 'fired', 'up', 'and', 'pissed', 'off', 'group', 'of', 'rabid', 'Bernie', 'fans', 'in', 'one', 'place.', 'Riot', 'anyone?', 'Yes,', 'the', 'Dem', 'convention', 'could', 'turn', 'out', 'to', 'be', 'a', 'RIOT', 'Hillary', 'Clinton', 'is', 'not', 'winning', 'because', 'of', 'a', 'conspiracy', 'or', 'wrinkle', 'in', 'the', 'time-space', 'continuum.', 'Rather,', 'she', 'benefits', 'from', 'the', 'rules', 'Democrats', 'play', 'by.', 'Bernie', 'Sanders', 'is', 'on', 'a', 'roll.', 'He', 's', 'won', 'the', 'last', 'two', 'Democratic', 'primaries', 'and', 'stands', 'a', 'good', 'chance', 'Tuesday', 'of', 'adding', 'Oregon', 'and', 'perhaps', 'Kentucky', 'to', 'his', 'pile', 'of', 'victories.Yet', 'Hillary', 'Clinton', 'is', 'likely', 'to', 'continue', 'her', 'seemingly', 'unstoppable', 'march', 'to', 'the', 'party', 's', 'presidential', 'nomination.How', 'can', 'that', 'be?It', 's', 'not', 'a', 'conspiracy,', 'as', 'some', 'angry', 'Sanders', 'backers', 'suggest,', 'a', 'result', 'of', 'dark', 'magic', 'or', 'a', 'wrinkle', 'in', 'the', 'time-space', 'continuum.', 'Rather,', 'it', 's', 'the', 'rules', 'that', 'Democrats', 'play', 'by', 'rules', 'that', 'now', 'work', 'to', 'Clinton', 's', 'advantage,', 'even', 'as', 'they', 'thwarted', 'her', 'candidacy', 'eight', 'years', 'ago,', 'when', 'she', 'lost', 'a', 'nominating', 'fight', 'to', 'then-Sen.', 'Barack', 'Obama.', 'Where', 'do', 'things', 'stand', 'in', 'the', 'Democratic', 'race?It', 'takes', '2,383', 'delegates', 'to', 'win', 'the', 'nomination', 'at', 'the', 'party', 's', 'national', 'convention', 'this', 'summer', 'in', 'Philadelphia.', 'Entering', 'Tuesday', 's', 'contests,', 'former', 'Secretary', 'of', 'State', 'Clinton', 'has', '2,240', 'delegates', 'to', 'Vermont', 'Sen.', 'Sanders', '1,473.Who', 's', 'won', 'the', 'most', 'votes?Clinton', 'also', 'leads', 'Sanders', 'in', 'that', 'category.', 'She', 'has', 'received', 'more', 'than', '12.5', 'million', 'votes,', 'compared', 'with', '9.4', 'million', 'for', 'Sanders.', 'That', 's', 'a', 'lead', 'of', 'more', 'than', '3', 'million', 'votes,', 'according', 'to', 'calculations', 'by', 'the', 'website', 'Real', 'Clear', 'Politics.Hillary', 'Clinton', 'is', 'not', 'winning', 'because', 'of', 'a', 'conspiracy', 'or', 'wrinkle', 'in', 'the', 'time-space', 'continuum.', 'Rather,', 'she', 'benefits', 'from', 'the', 'rules', 'Democrats', 'play', 'by.', 'With', '10', 'contests', 'left,', 'is', 'it', 'possible', 'for', 'Sanders', 'to', 'overtake', 'Clinton', 'in', 'the', 'delegate', 'count', 'to', 'win', 'the', 'nomination?It', 'is', 'theoretically', 'possible,', 'just', 'as', 'it', 'is', 'theoretically', 'possible', 'to', 'drive', 'from', 'Los', 'Angeles', 'to', 'San', 'Francisco', 'in', 'less', 'than', 'two', 'hours', 'provided', 'you', 'go', '200', 'mph', 'the', 'entire', 'way.Come', 'again?Sanders', 'must', 'win', 'close', 'to', '90%', 'of', 'remaining', 'delegates', 'to', 'overtake', 'Clinton.', 'It', 's', 'mathematically', 'possible,', 'but', 'not', 'realistic,', 'given', 'that', 'Democrats', 'award', 'delegates', 'on', 'a', 'proportional,', 'rather', 'than', 'winner-take-all,', 'basis.', 'So', 'even', 'when', 'a', 'candidate', 'in', 'this', 'case', 'Clinton', 'loses', 'a', 'contest,', 'she', 'won', 't', 'walk', 'away', 'empty-handed.How', 'does', 'that', 'work?Take', 'last', 'week', 's', 'West', 'Virginia', 'primary.', 'Sanders', 'clobbered', 'Clinton,', '51%', 'to', '36%.', 'But', 'when', 'delegates', 'were', 'divvied', 'up,', 'Sanders', 'won', '18', 'and', 'Clinton', '11.', 'Adding', 'in', 'superdelegates,', 'the', 'results', 'were', 'much', 'closer:', 'Sanders', 'walked', 'away', 'with', '19', 'delegates', 'and', 'Clinton', 'claimed', '18.', 'That', 'means', 'Sanders', 'landslide', 'victory', 'cut', 'into', 'Clinton', 's', 'overall', 'delegate', 'lead', 'by', 'precisely', 'one.What', 'makes', 'someone', 'a', 'superdelegate?They', 're', 'not', 'faster', 'than', 'a', 'speeding', 'bullet', 'or', 'able', 'to', 'leap', 'tall', 'buildings', 'in', 'a', 'single', 'bound.', 'Superdelegates', 'are', 'those', 'who', 'automatically', 'get', 'a', 'seat', 'at', 'the', 'Philadelphia', 'convention', 'and', 'have', 'the', 'liberty', 'to', 'vote', 'for', 'whomever', 'they', 'please.', 'The', 'overwhelming', 'majority', 'are', 'supporting', 'Clinton.Who', 'gets', 'to', 'be', 'a', 'superdelegate?Superdelegates', 'are', 'elected', 'officials', 'and', 'other', 'party', 'leaders', 'and', 'activists.', 'They', 'include', 'sitting', 'Democratic', 'governors', 'and', 'members', 'of', 'Congress,', 'past', 'presidents', 'and', 'vice', 'presidents', 'and', 'former', 'chairmen', 'of', 'the', 'Democratic', 'National', 'Committee.Why', 'does', 'the', 'party', 'have', 'superdelegates?Because', 'Democrats', 'have', 'two', 'competing', 'impulses.', 'On', 'the', 'one', 'hand,', 'they', 'fancy', 'their', 'party', 'a', 'model', 'of', 'inclusiveness', 'and', 'egalitarianism.', 'On', 'the', 'other,', 'they', 'want', 'to', 'win', 'elections.What', 'does', 'that', 'have', 'to', 'do', 'with', 'superdelegates?After', 'the', 'party', 'was', 'torn', 'asunder', 'by', 'the', 'Vietnam', 'War', 'some', 'Democrats', 'believing', 'Vice', 'President', 'Hubert', 'Humphrey', 'had', 'been', 'forced', 'down', 'their', 'throats', 'as', 'the', '1968', 'nominee', 'leaders', 'changed', 'the', 'nominating', 'system', 'to', 'give', 'more', 'say', 'to', 'voters', 'at', 'the', 'grass-roots', 'level.', 'But', 'after', 'the', 'landslide', 'defeat', 'of', 'George', 'McGovern', 'in', '1972', 'and', 'Jimmy', 'Carter', 'in', '1980,', 'the', 'feeling', 'was', 'some', 'recalibration', 'was', 'needed,', 'leavening', 'the', 'will', 'of', 'the', 'people', 'with', 'the', 'presumed', 'wisdom', 'of', 'political', 'insiders.', 'Hence', 'the', 'birth', 'of', 'superdelegates.How', 'many', 'superdelegates', 'are', 'there', 'versus', 'plain', 'old', 'garden-variety', 'delegates?About', '15%', 'of', 'Democrats', 'are', 'free', 'to', 'back', 'whomever', 'they', 'wish.', 'Clinton', 'leads', 'Sanders', 'among', 'superdelegates', '524', 'to', '40.If', 'you', 'subtracted', 'superdelegates,', 'would', 'Sanders', 'overtake', 'Clinton', 'in', 'the', 'delegate', 'count?No.', 'She', 'would', 'still', 'be', 'ahead,', '1,716', 'to', '1,433.Read', 'more:', 'LA', 'Times'], tags=['Train_1']),\n",
              " TaggedDocument(words=['Republican', 'presidential', 'candidate', 'and', 'Texas', 'Senator', 'Ted', 'Cruz', 'believes', 'with', 'every', 'ounce', 'of', 'his', 'being', 'that', 'Donald', 'Trump', 'in', 'the', 'White', 'House', 'is', 'a', 'grave', 'mistake', 'but', 'he', 'confessed', 'that', 'he', 'would', 'endorse', 'the', 'disgraceful', 'GOP', 'candidate', 'anyway.Cruz', 'revealed', 'this', 'on', 'Sunday', 'during', 'CNN', 's', 'State', 'of', 'the', 'Union.', 'Host', 'Jack', 'Tapper', 'asked', 'Cruz', 'about', 'the', 'recent', 'attacks', 'against', 'Trump', 'by', 'other', 'conservatives,', 'especially', 'presidential', 'candidate', 'Marco', 'Rubio', '(R-FL).', 'Not', 'to', 'be', 'outdone,', 'Cruz', 'also', 'had', 'some', 'choice', 'words', 'for', 'Trump,', 'blasting', 'the', 'front', 'runner', 'for', 'standing', 'behind', 'Planned', 'Parenthood,', 'his', 'plan', 'to', 'stay', 'neutral', 'between', 'Israel', 'and', 'the', 'Palestinians,', 'and', 'longtime', 'support', 'of', 'expanding', 'Obamacare', 'into', 'Bernie', 'Sanders-style', 'socialized', 'medicine,', 'putting', 'the', 'government', 'in', 'charge', 'of', 'your', 'health', 'care,', 'putting', 'government', 'bureaucrats', 'into', 'a', 'position', 'to', 'ration', 'your', 'care,', 'especially', 'that', 'of', 'seniors.', 'Cruz,', 'absolutely', 'terrified', 'of', 'what', 'President', 'Trump', 'could', 'mean', 'for', 'America,', 'warned:', 'If', 'Donald', 'becomes', 'president,', 'who', 'the', 'heck', 'knows', 'what', 'he', 'would', 'do?', 'Even', 'Donald', 'doesn', 't', 'know', 'what', 'he', 'would', 'do.', 'I', 'think', 'the', 'challenges', 'facing', 'the', 'nation,', 'they', 're', 'too', 'grave', 'to', 'roll', 'the', 'dice.', 'Cruz', 'made', 'it', 'perfectly', 'clear', 'during', 'this', 'interview', 'that', 'he', 'felt', 'a', 'Trump', 'presidency', 'would', 'be', 'the', 'worst', 'case', 'scenario', 'for', 'America,', 'but', 'Tapper', 'pressed', 'him', 'to', 'see', 'if', 'he', 'would', 'still', 'back', 'his', 'rival', 'if', 'Trump', 'took', 'the', 'nomination.', 'Cruz', 's', 'answer', 'is', 'puzzling', 'after', 'all', 'the', 'negative', 'things', 'he', 'just', 'said', 'about', 'Trump,', 'Cruz', 'still', 'felt', 'that:', 'I', 'will', 'support', 'the', 'Republican', 'nominee.', 'Period.', 'The', 'end.', 'This', 'response', 'by', 'Cruz', 'is', 'absolutely', 'infuriating', 'and', 'goes', 'beyond', 'stupidity.', 'Cruz', 'recognizes', 'that', 'Trump', 'is', 'dishonest,', 'terribly', 'offensive,', 'unqualified', 'and', 'without', 'question', 'the', 'wrong', 'person', 'to', 'lead', 'the', 'country', 'and', 'will', 'STILL', 'advocate', 'for', 'him', 'just', 'because', 'he', 's', 'a', 'Republican.', 'Cruz', 'should', 'be', 'wise', 'enough', 'to', 'know', 'that', 'even', 'though', 'he', 'doesn', 't', 'want', 'a', 'Democrat', 'president', 'in', 'the', 'White', 'House,', 'America', 'would', 'be', 'in', 'far', 'more', 'capable', 'hands', 'and', 'so', 'much', 'safer.You', 'can', 'watch', 'the', 'interview', 'below:In', 'another', 'part', 'of', 'this', 'interview,', 'Tapper', 'also', 'asked', 'the', 'same', 'question', 'of', 'candidate', 'John', 'Kasich', '(R-OH).', 'Kasich', 'echoed', 'Cruz', 's', 'opinion', 'and', 'said:', 'At', 'the', 'end', 'of', 'the', 'day,', 'I', 'm', 'going', 'to', 'support', 'that', 'person', 'who', 'came', 'through', 'the', 'arena', 'and', 'became', 'the', 'nominee.', 'As', 'insane', 'as', 'these', 'responses', 'from', 'Cruz', 'and', 'Kasich', 'are,', 'they', 're', 'not', 'entirely', 'to', 'blame', 'the', 'Republican', 'National', 'Committee', 'is', 'basically', 'forcing', 'them', 'to', 'back', 'Trump', 'if', 'he', 'wins', 'the', 'nomination,', 'as', 'every', 'GOP', 'candidate', 'took', 'a', 'solemn', 'oath', 'to', 'support', 'whichever', 'candidate', 'wins', 'the', 'Republican', 'party', 's', 'nomination.It', 's', 'so', 'unfortunate', 'that', 'the', 'GOP', 'is', 'so', 'bitter', 'about', 'left-leaning', 'politics', 'that', 'they', 'would', 'rather', 'support', 'a', 'candidate', 'that', 'is', 'going', 'to', 'destroy', 'America', 'than', 'explore', 'alternative', 'possibilities', 'with', 'a', 'more', 'capable', 'Democratic', 'candidate.', 'They', 'cannot', 'see', 'far', 'enough', 'past', 'their', 'narrow-minded', 'views', 'and', 'hateful', 'rhetoric', 'to', 'see', 'that', 'the', 'future', 'of', 'America', 'will', 'be', 'greatly', 'jeopardized', 'with', 'Trump,', 'and', 'they', 'd', 'rather', 'watch', 'it', 'crash', 'and', 'burn', 'than', 'trust', 'someone', 'outside', 'the', 'GOP.', 'Featured', 'image', 'via', 'Flickr'], tags=['Train_2']),\n",
              " TaggedDocument(words=['WASHINGTON/HAVANA', '(Reuters)', '-', 'President', 'Barack', 'Obama', 'will', 'meet', 'dissidents', 'and', 'President', 'Raul', 'Castro', 'in', 'Cuba', 'next', 'month,', 'the', 'White', 'House', 'said', 'on', 'Thursday,', 'announcing', 'a', 'historic', 'trip', 'that', 'will', 'be', 'another', 'major', 'step', 'toward', 'ending', 'decades', 'of', 'animosity', 'between', 'former', 'Cold', 'War', 'foes.', 'In', 'the', 'first', 'visit', 'by', 'a', 'U.S.', 'president', 'to', 'the', 'Caribbean', 'nation', 'since', '1928,', 'Obama', 'will', 'meet', 'entrepreneurs', 'and', 'people', 'from', 'different', 'walks', 'of', 'life', 'during', 'the', 'trip', 'on', 'March', '21', 'and', '22,', 'but', 'he', 'is', 'unlikely', 'to', 'see', 'Fidel', 'Castro,', 'the', 'former', 'president', 'and', 'revolutionary', 'leader,', 'U.S.', 'officials', 'said.', 'The', 'White', 'House', 'hopes', 'Obamaâ\\x80\\x99s', 'trip', 'will', 'help', 'accelerate', 'change', 'on', 'the', 'Communist-run', 'island', 'and', 'cement', 'progress', 'made', 'under', 'his', 'watch,', 'but', 'Republicans', 'at', 'home', 'complained', 'that', 'it', 'would', 'give', 'legitimacy', 'to', 'Cubaâ\\x80\\x99s', 'oppressive', 'government.', 'â\\x80\\x9cNext', 'month,', 'Iâ\\x80\\x99ll', 'travel', 'to', 'Cuba', 'to', 'advance', 'our', 'progress', 'and', 'efforts', 'that', 'can', 'improve', 'the', 'lives', 'of', 'the', 'Cuban', 'people,â\\x80\\x9d', 'Obama', 'wrote', 'on', 'Twitter.', 'After', 'decades', 'of', 'hostility', 'following', 'Cubaâ\\x80\\x99s', '1959', 'revolution,', 'the', 'two', 'countries', 'agreed', 'in', '2014', 'to', 'move', 'to', 'reopen', 'ties,', 'but', 'the', 'U.S.', 'embargo', 'on', 'Cuba', 'remains', 'and', 'Washington', 'frequently', 'criticizes', 'Havanaâ\\x80\\x99s', 'human', 'rights', 'record.', 'The', 'opening', 'to', 'Cuba', 'was', 'a', 'diplomatic', 'feat', 'that', 'is', 'likely', 'to', 'form', 'part', 'of', 'Obamaâ\\x80\\x99s', 'foreign', 'policy', 'legacy', 'along', 'with', 'the', 'nuclear', 'deal', 'he', 'struck', 'with', 'another', 'long-time', 'U.S.', 'foe,', 'Iran.', 'Officials', 'decided', 'that', 'traveling', 'to', 'Cuba', 'now', 'rather', 'than', 'at', 'the', 'end', 'of', 'Obamaâ\\x80\\x99s', 'term', 'would', 'give', 'them', 'more', 'leverage', 'to', 'make', 'progress', 'on', 'expanding', 'Internet', 'access', 'and', 'opening', 'up', 'business', 'opportunities', 'for', 'Cubans', 'and', 'Americans.', 'Obama', 'regularly', 'meets', 'with', 'civil', 'society', 'groups', 'when', 'he', 'travels', 'abroad,', 'and', 'officials', 'said', 'this', 'trip', 'would', 'be', 'no', 'different.', 'â\\x80\\x9cHeâ\\x80\\x99ll', 'be', 'meeting', 'with', 'dissidents,', 'with', 'members', 'of', 'civil', 'society,', 'including', 'those', 'who', 'certainly', 'oppose', 'the', 'Cuban', 'governmentâ\\x80\\x99s', 'policies,â\\x80\\x9d', 'Obamaâ\\x80\\x99s', 'deputy', 'national', 'security', 'adviser,', 'Ben', 'Rhodes,', 'told', 'reporters.', 'Josefina', 'Vidal,', 'the', 'director', 'of', 'U.S.', 'affairs', 'for', 'the', 'Cuban', 'Foreign', 'Ministry,', 'said', 'the', 'Cuban', 'government', 'is', 'willing', 'to', 'talk', 'with', 'the', 'United', 'States', 'about', 'its', 'concerns.', 'â\\x80\\x9cCuba', 'is', 'open', 'to', 'speak', 'to', 'the', 'U.S.', 'government', 'about', 'any', 'topic,', 'including', 'human', 'rights,â\\x80\\x9d', 'Vidal', 'told', 'reporters.', 'She', 'said', 'the', 'Cuban', 'government', 'wants', 'Guantanamo', 'Bay', 'returned', 'to', 'Cuba', 'and', 'the', 'embargo', 'lifted', 'before', 'relations', 'can', 'be', 'normalized.', 'Cuban', 'dissidents', 'gave', 'a', 'cautious', 'welcome', 'to', 'the', 'trip.', 'â\\x80\\x9cHe', 'should', 'take', 'advantage', 'of', 'this', 'opportunity', 'to', 'send', 'a', 'loud,', 'clear', 'message,â\\x80\\x9d', 'prominent', 'opposition', 'blogger', 'Yoani', 'Sanchez', 'wrote', 'on', 'her', 'website.', 'â\\x80\\x9cThe', 'material', 'and', 'moral', 'poverty', 'that', 'surrounds', 'us', 'is', 'not', 'the', 'responsibility', 'of', 'the', 'United', 'States.â\\x80\\x9d', 'The', 'United', 'States', 'has', 'upheld', 'a', 'strict', 'economic', 'embargo', 'on', 'Cuba', 'for', 'more', 'than', '50', 'years,', 'providing', 'the', 'Cuban', 'government', 'with', 'a', 'strong', 'propaganda', 'tool', 'against', 'Washington.', 'Obamaâ\\x80\\x99s', 'visit', 'is', 'likely', 'to', 'spark', 'debate', 'in', 'the', 'campaign', 'for', 'the', 'Nov.', '8', 'U.S.', 'presidential', 'election,', 'particularly', 'in', 'the', 'swing', 'voting', 'state', 'of', 'Florida,', 'where', 'many', 'anti-Castro', 'Cuban-Americans', 'live.', 'Two', 'Republican', 'candidates,', 'Ted', 'Cruz', 'and', 'Marco', 'Rubio,', 'are', 'conservative', 'sons', 'of', 'Cuban', 'immigrants', 'and', 'foreign', 'policy', 'hawks.', 'Rubio', 'urged', 'Obama', 'to', 'reconsider', 'his', 'trip,', 'citing', 'political', 'arrests', 'in', 'the', 'past', 'year.', 'â\\x80\\x9cYou', 'will', 'send', 'the', 'message', 'to', 'the', 'oppressed', 'Cuban', 'people', 'that', 'you', 'stand', 'with', 'their', 'oppressors,â\\x80\\x9d', 'he', 'said', 'in', 'a', 'letter', 'on', 'Thursday.', 'First', 'lady', 'Michelle', 'Obama', 'will', 'accompany', 'her', 'husband', 'on', 'the', 'trip', 'to', 'Cuba', 'and', 'also', 'to', 'Argentina.', 'Obamaâ\\x80\\x99s', 'Havana', 'visit', 'carries', 'huge', 'symbolic', 'value', 'as', 'his', 'administration', 'takes', 'steps', 'to', 'expand', 'commerce', 'with', 'Cuba,', 'only', '90', 'miles', '(145', 'km)', 'from', 'Florida.', 'The', 'last', 'sitting', 'U.S.', 'president', 'to', 'visit', 'Cuba', 'was', 'Calvin', 'Coolidge.', 'Tourism', 'has', 'surged', 'recently.', 'Airbnb,', 'an', 'online', 'home-rental', 'site,', 'says', 'U.S.', 'rentals', 'of', 'homes', 'in', 'Cuba', 'are', 'booming.', 'The', 'countries', 'have', 'agreed', 'to', 'restore', 'airline', 'flights,', 'and', 'companies', 'ranging', 'from', 'tractor', 'manufacturers', 'to', 'telecommunications', 'firms', 'are', 'assessing', 'the', 'market.', 'Cuba', 'and', 'Major', 'League', 'Baseball', 'are', 'discussing', 'holding', 'an', 'exhibition', 'game', 'between', 'the', 'Cuban', 'national', 'team', 'and', 'Tampa', 'Bay', 'Rays', 'in', 'Havana', 'on', 'March', '22,', 'raising', 'the', 'possibility', 'that', 'Obama', 'could', 'throw', 'the', 'ceremonial', 'first', 'pitch.', 'Obama', 'still', 'seeks', 'to', 'pressure', 'U.S.', 'lawmakers', 'to', 'remove', 'the', 'decades-old', 'embargo', 'on', 'Cuba', 'but', 'Republicans', 'control', 'Congress', 'and', 'are', 'unlikely', 'to', 'act', 'soon.', 'A', 'persistent', 'congressional', 'critic', 'of', 'the', 'thaw', 'in', 'relations', 'with', 'Cuba,', 'Rep.', 'Ileana', 'Ros-Lehtinen,', 'said', 'the', 'trip', 'would', 'be', 'a', 'reward', 'that', 'the', 'Cuban', 'government', 'did', 'not', 'deserve.', 'â\\x80\\x9cPitiful', 'that', 'Obama', 'rewards', 'Castros', 'with', 'visit', 'to', 'Cuba', 'while', 'conditions', 'for', 'the', 'Cuban', 'people', 'are', 'getting', 'worse,â\\x80\\x9d', 'said', 'Ros-Lehtinen,', 'a', 'Cuban-American', 'Republican', 'from', 'south', 'Florida.', 'Rhodes', 'said', 'he', 'expected', 'Cuban', 'officials', 'would', 'bring', 'up', 'the', 'status', 'of', 'the', 'U.S.', 'military', 'base', 'at', 'Guantanamo', 'Bay', 'during', 'the', 'trip,', 'but', 'the', 'administration', 'opposes', 'returning', 'the', 'area', 'to', 'the', 'Communist', 'government.', 'The', 'White', 'House', 'did', 'not', 'provide', 'details', 'about', 'which', 'groups', 'Obama', 'would', 'seek', 'to', 'meet,', 'and', 'said', 'the', 'United', 'States', 'would', 'like', 'to', 'see', 'more', 'freedom', 'of', 'assembly', 'and', 'speech', 'in', 'Cuba.', 'Cuba', 'says', 'it', 'has', 'no', 'political', 'prisoners', 'but', 'the', 'Cuban', 'Commission', 'of', 'Human', 'Rights', 'and', 'National', 'Reconciliation,', 'a', 'dissident', 'group,', 'counts', 'about', '80', 'political', 'prisoners', 'in', 'detention.', 'Fifty-three', 'were', 'released', 'around', 'the', 'time', 'of', 'the', '2014', 'agreement', 'to', 'normalize', 'relations', 'with', 'the', 'United', 'States,', 'but', 'others', 'were', 'arrested', 'last', 'year,', 'the', 'group', 'said.'], tags=['Train_3']),\n",
              " TaggedDocument(words=['21st', 'Century', 'Wire', 'says', 'The', 'US', 'Department', 'of', 'Justice', '(DOJ)', 'is', 'dropping', 'all', 'charges', 'against', 'an', 'arms', 'dealer', 'whose', 'weapons', 'made', 'it', 'into', 'the', 'hands', 'of', 'radical', 'Libya', 'militants.Early', 'this', 'week', 'a', 'motion', 'was', 'filed', 'by', 'the', 'DOJ', 'to', 'drop', 'charges', 'against', 'an', 'American', 'arms', 'dealer', 'named', 'Marc', 'Turi,', 'according', 'to', 'federal', 'court', 'records', 'obtained', 'by', 'Politico.Also', 'according', 'to', 'Politico:', 'The', 'deal', 'averts', 'a', 'trial', 'that', 'threatened', 'to', 'cast', 'additional', 'scrutiny', 'on', 'Hillary', 'Clinton', 's', 'private', 'emails', 'as', 'Secretary', 'of', 'State,', 'and', 'to', 'expose', 'reported', 'Central', 'Intelligence', 'Agency', 'attempts', 'to', 'arm', 'rebels', 'fighting', 'Libyan', 'leader', 'Moammar', 'Qadhafi.', 'LIBYA', 'FALLOUT', '(Photo', 'Illustration', '21WIRE', 's', 'Shawn', 'Helton)In', 'the', 'book', 'entitled', 'Definitive', 'Report', 'by', 'both', 'Jack', 'Murphy', '(Army', 'Green', 'Beret)', 'and', 'Brandon', 'Webb', '(Navy', 'SEAL),', 'a', 'close', 'friend', 'of', 'Glen', 'Doherty', '(one', 'of', 'the', 'Americans', 'killed', 'during', 'the', 'Benghazi', 'siege)', 'it', 'was', 'revealed', 'that', 'Obama', 's', 'former', 'deputy', 'NSA', 'advisor', 'and', 'current', 'CIA', 'director,', 'John', 'Brennan', 'had', 'been', 'directing', 'covert', 'black-ops', 'in', 'Libya', 'as', 'well', 'as', 'other', 'parts', 'in', 'North', 'Africa,', 'prior', 'to', 'the', 'siege', 'that', 'left', 'four', 'Americans', 'dead', 'at', 'a', 'compound', 'in', 'Benghazi.Brennan', 's', 'covert', 'operations', 'were', 'said', 'to', 'have', 'prompted', 'retaliation', 'inside', 'the', 'compound', 'in', 'Libya', 'as', 'former', 'CIA', 'director', 'David', 'Petraeus', 'had', 'been', 'blackmailed', 'into', 'resignation', 'by', 'senior', 'CIA', 'officials.All', 'of', 'this', 'information', 'was', 'preceded', 'by', 'a', 'massive', 'cover-up', 'involving', 'mainstream', 'media,', 'Assistant', 'Secretary', 'of', 'State', 'for', 'African', 'Affairs,', 'Susan', 'Rice', 'and', 'Secretary', 'of', 'State', 'Hillary', 'Clinton,', 'both', 'of', 'whom', 'initially', 'blamed', 'the', 'siege', 'on', 'a', 'heavily', 'propagandized', 'YouTube', 'film', 'entitled,', 'The', 'Innocence', 'of', 'Muslims.', 'This', 'meme', 'was', 'spread', 'on', 'many', 'major', 'talk', 'shows', 'even', 'though', 'evidence', 'failed', 'to', 'connect', 'the', 'film', 'to', 'the', 'attack.In', 'addition,', 'the', 'White', 'House', 'and', 'President', 'Barack', 'Obama', 'had', 'many', 'inconsistencies', 'in', 'their', 'talking', 'points', 'about', 'Benghazi,', 'first', 'labeling', 'it', 'a', 'terror', 'attack,', 'then', 'quickly', 'shifting', 'gears,', 'denying', 'that', 'there', 'were', 'Al', 'Qaeda', 'operatives', 'anywhere', 'near', 'the', 'compound.US', 'Ambassador', 'Christopher', 'Stevens', 'was', 'said', 'to', 'have', 'helped', 'manage', 'a', 'large', 'gun-running', 'operation', 'from', 'the', 'Special', 'Mission', 'Compound', 'in', 'Benghazi,', 'as', 'he', 'was', 'also', 'said', 'to', 'have', 'helped', 'ship', 'guns', 'to', 'al-Qaeda-linked', 'opposition', 'to', 'assist', 'in', 'the', 'takedown', 'of', 'former', 'dictator', 'Moammar', 'Gadhafi.In', 'a', 'Business', 'Insider', 'report', 'from', 'October', 'of', '2012,', 'the', 'Benghazi', 'story', 'dovetailed', 'the', 'growing', 'proxy', 'war', 'in', 'Syria:', 'In', 'March', '2011', 'Stevens', 'became', 'the', 'official', 'U.S.', 'liaison', 'to', 'the', 'al-Qaeda-linked', 'Libyan', 'opposition,', 'working', 'directly', 'with', 'Abdelhakim', 'Belhadj', 'of', 'the', 'Libyan', 'Islamic', 'Fighting', 'Group', 'a', 'group', 'that', 'has', 'now', 'disbanded,', 'with', 'some', 'fighters', 'reportedly', 'participating', 'in', 'the', 'attack', 'that', 'took', 'Stevens', 'life.In', 'November', '2011', 'The', 'Telegraph', 'reported', 'that', 'Belhadj,', 'acting', 'as', 'head', 'of', 'the', 'Tripoli', 'Military', 'Council,', 'met', 'with', 'Free', 'Syrian', 'Army', '[FSA]', 'leaders', 'in', 'Istanbul', 'and', 'on', 'the', 'border', 'with', 'Turkey', 'in', 'an', 'effort', 'by', 'the', 'new', 'Libyan', 'government', 'to', 'provide', 'money', 'and', 'weapons', 'to', 'the', 'growing', 'insurgency', 'in', 'Syria.', 'As', '21WIRE', 'has', 'previously', 'reported', 'in', '2014,', 'It', 's', 'worth', 'noting', 'here:', 'like', 'Libya', 's', 'new', 'militant', 'governor', 'of', 'Tripoli,', 'Abdel', 'Hakim', 'Belhadj,', 'the', 'Chechen', 'terrorist', 'group', 'Kata', 'ib', 'Mohadzherin', 's', 'leader', 'Airat', 'Vakhitov', 'was', 'also', 'under', 'US', 'supervision', 'for', 'years', 'imprisoned', 'at', 'Guantanamo', 'Bay,', 'Cuba', 'circa', '2002,', 'after', 'being', 'captured', 'by', 'U.S.', 'forces', 'in', 'Afghanistan.', 'Both', 'were', 'Belhadj', 'and', 'Vakhitov', 'were', 'released', 'by', 'the', 'Pentagon', 'only', 'to', 'be', 'repatriated', 'in', 'the', 'field', 'again', 'back', 'into', 'fighting', 'regions', 'to', 'organise', 'al', 'Qaeda-type', 'Islamist', 'groups', 'both', 'active', 'in', 'countries', 'which', 'the', 'US', 'and', 'NATO', 'have', 'been', 'actively', 'vying', 'for', 'regime', 'change', 'in', 'Libya', 'and', 'Syria,', 'respectively.', 'You', 'can', 'draw', 'your', 'own', 'conclusions', 'here', 'about', 'what', 'Guantanamo', 'is', 'in', 'reality,', 'a', 'fact', 'which', 'was', 'confirmed', 'by', 'thePenny', 'Lane', 'leaks', 'regarding', 'the', 'recruitment', 'of', 'double', 'agents', 'out', 'of', 'Gitmo.', 'Interestingly,', 'in', 'a', 'NY', 'Times', 'article', 'from', 'December', 'of', '2012', 'entitled,', 'U.S.-Approved', 'Arms', 'for', 'Libya', 'Rebels', 'Fell', 'Into', 'Jihadis', 'Hands,', 'we', 'see', 'an', 'acknowledgement', 'of', 'an', 'arms', 'shipment', 'at', 'the', 'behest', 'of', 'the', 'Obama', 'administration', 'under', 'the', 'watchful', 'eye', 'of', 'former', 'Secretary', 'of', 'State', 'Hillary', 'Clinton', 'but', 'the', 'mainstream', 'media', 'appears', 'to', 'have', 'provided', 'cover', 'for', 'the', 'White', 'House', 'and', 'State', 'Department', 'by', 'blaming', 'Qatar', 'for', 'the', 'weapons', 'transfer', 'to', 'militants:', 'The', 'Obama', 'administration', 'secretly', 'gave', 'its', 'blessing', 'to', 'arms', 'shipments', 'to', 'Libyan', 'rebels', 'from', 'Qatar', 'last', 'year,', 'but', 'American', 'officials', 'later', 'grew', 'alarmed', 'as', 'evidence', 'grew', 'that', 'Qatar', 'was', 'turning', 'some', 'of', 'the', 'weapons', 'over', 'to', 'Islamic', 'militants,', 'according', 'to', 'United', 'States', 'officials', 'and', 'foreign', 'diplomats.No', 'evidence', 'has', 'emerged', 'linking', 'the', 'weapons', 'provided', 'by', 'the', 'Qataris', 'during', 'the', 'uprising', 'against', 'Col.', 'Muammar', 'el-Qaddafi', 'to', 'the', 'attack', 'that', 'killed', 'four', 'Americans', 'at', 'the', 'United', 'States', 'diplomatic', 'compound', 'in', 'Benghazi,', 'Libya,', 'in', 'September.But', 'in', 'the', 'months', 'before,', 'the', 'Obama', 'administration', 'clearly', 'was', 'worried', 'about', 'the', 'consequences', 'of', 'its', 'hidden', 'hand', 'in', 'helping', 'arm', 'Libyan', 'militants,', 'concerns', 'that', 'have', 'not', 'previously', 'been', 'reported.', 'The', 'weapons', 'and', 'money', 'from', 'Qatar', 'strengthened', 'militant', 'groups', 'in', 'Libya,', 'allowing', 'them', 'to', 'become', 'a', 'destabilizing', 'force', 'since', 'the', 'fall', 'of', 'the', 'Qaddafi', 'government.', 'The', 'spectre', 'of', 'Benghazi', 'looms', 'large', 'when', 'connecting', 'the', 'Middle', 'Eastern', 'dots', 'over', 'the', 'past', 'five', 'years.More', 'from', 'Zero', 'Hedge', 'below', 'TRAIL', 'OF', 'BLOOD', 'Many', 'questions', 'about', '2012', 's', 'Benghazi', 'terror', 'siege', 'remain', 'unanswered.', '(Image', 'Source:', 'foxnews)DOJ', 'Drops', 'Charges', 'Against', 'Arms', 'Dealer', 'Who', 'Threatened', 'To', 'Expose', 'Hillary', 'Arming', 'Islamic', 'ExtremistsZero', 'HedgeIn', 'what', 'would', 'under', 'other', 'circumstances', 'likely', 'be', 'a', 'major', 'media', 'spectacle,', 'Politico', 'reported', 'that', 'the', 'Obama', 'administration', 'is', 'moving', 'to', 'dismiss', 'charges', 'against', 'an', 'arms', 'dealer', 'whom', 'it', 'had', 'accused', 'of', 'selling', 'weapons', 'destined', 'for', 'Libyan', 'rebels', 'and', 'who', 'had', 'threatened', 'to', 'expose', 'Hillary', 'Clinton', 's', 'talks', 'about', 'arming', 'anti-Qaddafi', 'rebels.According', 'to', 'a', 'motion', 'filed', 'in', 'federal', 'court', 'in', 'Phoenix,', 'the', 'DOJ', 'on', 'Monday', 'filed', 'a', 'motion', 'to', 'drop', 'the', 'case', 'against', 'the', 'arms', 'dealer,', 'an', 'American', 'named', 'Marc', 'Turi.', 'One', 'potential', 'reason', 'for', 'the', 'surprising', 'move', 'is', 'that', 'as', 'Politico', 'writes,', 'the', 'deal', 'averts', 'a', 'trial', 'that', 'threatened', 'to', 'cast', 'additional', 'scrutiny', 'on', 'Hillary', 'Clinton', 's', 'private', 'emails', 'as', 'Secretary', 'of', 'State,', 'and', 'to', 'expose', 'reported', 'Central', 'Intelligence', 'Agency', 'attempts', 'to', 'arm', 'rebels', 'fighting', 'Libyan', 'leader', 'Moammar', 'Qadhafi.Turi', 'was', 'indicted', 'in', '2014', 'on', 'four', 'felony', 'counts:', 'two', 'of', 'arms', 'dealing', 'in', 'violation', 'of', 'the', 'Arms', 'Export', 'Control', 'Act', 'and', 'two', 'of', 'lying', 'to', 'the', 'State', 'Department', 'in', 'official', 'applications.', 'The', 'charges', 'accused', 'Turi', 'of', 'claiming', 'that', 'the', 'weapons', 'involved', 'were', 'destined', 'for', 'Qatar', 'and', 'the', 'United', 'Arab', 'Emirates,', 'when', 'the', 'arms', 'were', 'actually', 'intended', 'to', 'reach', 'Libya.', 'Turi', 's', 'lawyers', 'argued', 'that', 'the', 'shipments', 'were', 'part', 'of', 'a', 'U.S.', 'government-authorized', 'effort', 'to', 'arm', 'Libyan', 'rebels.', 'It', 's', 'unclear', 'if', 'any', 'of', 'the', 'weapons', 'made', 'it', 'to', 'Libya,', 'and', 'there', 's', 'no', 'evidence', 'linking', 'weapons', 'provided', 'by', 'the', 'U.S.', 'government', 'to', 'the', 'Benghazi', 'attacks.According', 'to', 'Politico', 'government', 'lawyers', 'were', 'facing', 'a', 'Wednesday', 'deadline', 'to', 'produce', 'documents', 'to', 'Turi', 's', 'legal', 'team,', 'and', 'the', 'trial', 'was', 'officially', 'set', 'to', 'begin', 'on', 'Election', 'Day,', 'although', 'it', 'likely', 'would', 'have', 'been', 'delayed', 'by', 'protracted', 'disputes', 'about', 'classified', 'information', 'in', 'the', 'case.', 'A', 'Turi', 'associate', 'asserted', 'that', 'the', 'government', 'dropped', 'the', 'case', 'because', 'the', 'proceedings', 'could', 'have', 'embarrassed', 'Clinton', 'and', 'President', 'Barack', 'Obama', 'by', 'calling', 'attention', 'to', 'the', 'reported', 'role', 'of', 'their', 'administration', 'in', 'supplying', 'weapons', 'that', 'fell', 'into', 'the', 'hands', 'of', 'Islamic', 'extremist', 'militants.Making', 'matters', 'worse,', 'Turi', 's', 'case', 'had', 'delved', 'into', 'emails', 'sent', 'to', 'and', 'from', 'the', 'controversial', 'private', 'account', 'that', 'Clinton', 'used', 'as', 'Secretary', 'of', 'State,', 'which', 'the', 'defense', 'planned', 'to', 'harness', 'at', 'any', 'trial.', 'They', 'don', 't', 'want', 'this', 'stuff', 'to', 'come', 'out', 'because', 'it', 'will', 'look', 'really', 'bad', 'for', 'Obama', 'and', 'Clinton', 'just', 'before', 'the', 'election,', 'said', 'the', 'associate.Leery', 'of', 'admitting', 'the', 'actual', 'truth,', 'in', 'the', 'dismissal', 'motion,', 'prosecutors', 'were', 'vague', 'saying', 'that', 'discovery', 'rulings', 'from', 'U.S.', 'District', 'Court', 'Judge', 'David', 'Campbell', 'contributed', 'to', 'the', 'decision', 'to', 'drop', 'the', 'case.', 'The', 'joint', 'motion', 'asks', 'the', 'judge', 'to', 'accept', 'a', 'confidential', 'agreement', 'to', 'resolve', 'the', 'case', 'through', 'a', 'civil', 'settlement', 'between', 'the', 'State', 'Department', 'and', 'the', 'arms', 'broker.This', 'story', 'continues', 'at', 'Zero', 'Hedge', 'READ', 'MORE', 'ISIS', 'NEWS', 'AT:', '21st', 'Century', 'Wire', 'ISIS', 'Files', 'READ', 'MORE', 'LIBYA', 'NEWS', 'AT:', '21st', 'Century', 'Wire', 'Libya', 'FilesSUPPORT', 'OUR', 'WORK', 'BY', 'SUBSCRIBING', '&', 'BECOMING', 'A', 'MEMBER', '@21WIRE.TV'], tags=['Train_4']),\n",
              " TaggedDocument(words=['(Reuters)', '-', 'The', 'legal', 'document', 'charging', 'Michael', 'Flynn', 'with', 'lying', 'to', 'the', 'Federal', 'Bureau', 'of', 'Investigation', 'lays', 'out', 'a', 'chronology', 'of', 'events', 'connected', 'with', 'the', 'offense', 'that', 'the', 'former', 'U.S.', 'national', 'security', 'adviser', 'pleaded', 'guilty', 'to', 'on', 'Friday.', 'Here', 'is', 'a', 'timeline', 'based', 'on', 'the', 'document,', 'known', 'as', 'a', 'statement', 'of', 'the', 'offense,', 'and', 'events', 'at', 'the', 'time.', 'The', 'document', 'was', 'drafted', 'by', 'prosecutors', 'working', 'on', 'Special', 'Counsel', 'Robert', 'Muellerâ\\x80\\x99s', 'investigation', 'of', 'ties', 'between', 'President', 'Donald', 'Trumpâ\\x80\\x99s', '2016', 'election', 'campaign', 'and', 'Russia.', 'The', 'period', 'covered', 'includes', 'the', 'presidential', 'transition', 'that', 'followed', 'Trumpâ\\x80\\x99s', 'election', 'victory', 'on', 'Nov.', '8,', '2016,', 'and', 'the', 'first', 'few', 'months', 'of', 'his', 'presidency:', '*', 'Dec.', '21,', '2016:', 'Egypt', 'submits', 'a', 'United', 'Nations', 'Security', 'Council', 'resolution', 'demanding', 'an', 'end', 'to', 'Israeli', 'settlement', 'building.', '*', 'Dec.', '22:', 'A', 'â\\x80\\x9cvery', 'senior', 'memberâ\\x80\\x9d', 'of', 'the', 'Trump', 'transition', 'team', 'directs', 'Flynn', 'to', 'contact', 'officials', 'from', 'foreign', 'governments,', 'including', 'Russia,', 'to', 'learn', 'where', 'each', 'country', 'stands', 'on', 'the', 'resolution', 'and', 'to', 'influence', 'them', 'to', 'delay', 'the', 'vote', 'or', 'defeat', 'the', 'resolution.', '*', 'On', 'the', 'same', 'day,', 'Flynn', 'contacts', 'Russiaâ\\x80\\x99s', 'ambassador', 'to', 'the', 'United', 'States', 'about', 'the', 'pending', 'vote.', 'Flynn', 'informs', 'the', 'ambassador', 'about', 'the', 'incoming', 'administrationâ\\x80\\x99s', 'opposition', 'to', 'the', 'resolution', 'and', 'asks', 'that', 'Russia', 'vote', 'against', 'or', 'delay', 'it.', '(The', 'statement', 'of', 'offense', 'does', 'not', 'name', 'the', 'ambassador;', 'Russiaâ\\x80\\x99s', 'envoy', 'at', 'the', 'time', 'was', 'Sergei', 'Kislyak.)', '*', 'Dec.', '23:', 'Flynn', 'again', 'speaks', 'with', 'the', 'ambassador,', 'who', 'informs', 'Flynn', 'that', 'if', 'it', 'came', 'to', 'a', 'ballot,', 'Russia', 'would', 'not', 'vote', 'against', 'the', 'resolution.', '(Russia', 'is', 'among', 'the', '14', 'countries', 'on', 'the', '15-member', 'council', 'that', 'approves', 'the', 'resolution', 'that', 'day.', 'The', 'United', 'States', 'abstains,', 'making', 'passage', 'possible,', 'despite', 'heavy', 'pressure', 'from', 'Israel', 'and', 'President-elect', 'Trump.)', '*', 'Dec.', '28:', 'President', 'Barack', 'Obama', 'signs', 'an', 'executive', 'order,', 'to', 'take', 'effect', 'the', 'next', 'day,', 'imposing', 'sanctions', 'on', 'Russia', 'in', 'response', 'to', 'Moscowâ\\x80\\x99s', 'actions', 'intended', 'to', 'interfere', 'in', 'the', 'presidential', 'election.', '*', 'The', 'Russian', 'ambassador', 'to', 'the', 'United', 'States', 'contacts', 'Flynn.', '*', 'Asked', 'by', 'reporters', 'if', 'the', 'United', 'States', 'should', 'sanction', 'Russia,', 'Trump', 'suggests', 'the', 'two', 'countries', 'lay', 'to', 'rest', 'the', 'controversy', 'over', 'Moscowâ\\x80\\x99s', 'interference', 'in', 'the', 'election,', 'saying,', 'â\\x80\\x9cI', 'think', 'we', 'ought', 'to', 'get', 'on', 'with', 'our', 'lives.â\\x80\\x9d', 'Trump,', 'who', 'is', 'at', 'his', 'Mar-a-Lago', 'resort', 'in', 'Palm', 'Beach,', 'Florida,', 'has', 'cast', 'doubt', 'on', 'U.S.', 'intelligence', 'agenciesâ\\x80\\x99', 'findings', 'that', 'Russian', 'hackers', 'took', 'information', 'from', 'Democratic', 'Party', 'computers', 'and', 'posted', 'it', 'online', 'to', 'help', 'Trump', 'defeat', 'Democratic', 'rival', 'Hillary', 'Clinton.', '*', 'Dec.', '29:', 'Flynn', 'calls', 'a', 'senior', 'transition', 'team', 'official,', 'who', 'is', 'with', 'other', 'senior', 'transition', 'team', 'members', 'at', 'Mar-a-Lago', 'to', 'discuss', 'what,', 'if', 'anything,', 'to', 'communicate', 'to', 'the', 'Russian', 'ambassador', 'about', 'the', 'sanctions.', 'The', 'discussion', 'between', 'Flynn', 'and', 'the', 'official', 'touches', 'on', 'the', 'potential', 'impact', 'of', 'the', 'sanctions', 'on', 'the', 'incoming', 'Trump', 'administrationâ\\x80\\x99s', 'foreign', 'policy', 'goals.', 'The', 'officials', 'and', 'Flynn', 'also', 'talk', 'about', 'transition', 'team', 'membersâ\\x80\\x99', 'desire', 'that', 'Russia', 'not', 'escalate', 'the', 'situation.', '*', 'Immediately', 'after', 'the', 'conversation,', 'Flynn', 'calls', 'the', 'ambassador', 'and', 'asks', 'that', 'Russia', 'not', 'escalate', 'and', 'that', 'it', 'only', 'respond', 'to', 'the', 'sanctions', 'reciprocally.', '*', 'Shortly', 'afterwards,', 'Flynn', 'discusses', 'the', 'substance', 'of', 'the', 'call', 'with', 'the', 'ambassador', 'with', 'the', 'transition', 'official,', 'including', 'their', 'discussion', 'of', 'the', 'U.S.', 'sanctions.', '*', 'Dec.', '30:', 'Russian', 'President', 'Vladimir', 'Putin', 'releases', 'a', 'statement', 'indicating', 'Russia', 'will', 'not', 'retaliate', 'in', 'response', 'to', 'the', 'sanctions', 'at', 'that', 'time.', '*', 'Dec.', '31:', 'The', 'ambassador', 'calls', 'Flynn', 'and', 'informs', 'him', 'that', 'Russia', 'has', 'chosen', 'not', 'to', 'retaliate', 'in', 'response', 'to', 'Flynnâ\\x80\\x99s', 'request.', '*', 'After', 'the', 'call,', 'Flynn', 'speaks', 'with', 'senior', 'transition', 'team', 'members', 'about', 'his', 'conversations', 'with', 'the', 'ambassador', 'regarding', 'the', 'sanctions', 'and', 'Russiaâ\\x80\\x99s', 'decision', 'not', 'to', 'escalate.', '*', 'Jan.', '13,', '2017:', 'In', 'an', 'interview', 'with', 'the', 'Wall', 'Street', 'Journal,', 'Trump', 'suggests', 'he', 'might', 'do', 'away', 'with', 'the', 'sanctions', 'if', 'Russia', 'proves', 'helpful', 'in', 'battling', 'terrorists', 'and', 'reaching', 'other', 'goals', 'important', 'to', 'Washington.', '*', 'Jan.', '16:', 'The', 'Times', 'of', 'London', 'publishes', 'an', 'interview', 'with', 'Trump', 'in', 'which', 'the', 'president-elect', 'says', 'he', 'will', 'propose', 'offering', 'to', 'end', 'sanctions', 'on', 'Russia', 'over', 'its', 'annexation', 'of', 'Crimea', 'in', 'return', 'for', 'a', 'nuclear', 'arms', 'reduction', 'deal.', '*', 'Jan.', '20:', 'Trump', 'takes', 'office,', 'and', 'Flynn', 'becomes', 'national', 'security', 'adviser.', '*', 'Jan.', '24:', 'Flynn', 'agrees', 'to', 'be', 'interviewed', 'by', 'FBI', 'agents.', 'During', 'the', 'interview,', 'he', 'falsely', 'states', 'he', 'did', 'not', 'ask', 'the', 'Russian', 'ambassador', 'to', 'refrain', 'from', 'escalation', 'in', 'responding', 'to', 'the', 'U.S.', 'sanctions.', 'Flynn', 'also', 'falsely', 'states', 'he', 'did', 'not', 'remember', 'a', 'follow-up', 'conversation', 'in', 'which', 'the', 'ambassador', 'said', 'Russia', 'had', 'chosen', 'to', 'moderate', 'its', 'response', 'to', 'the', 'sanctions', 'due', 'to', 'Flynnâ\\x80\\x99s', 'request.', 'Flynn', 'makes', 'additional', 'false', 'statements', 'about', 'his', 'phone', 'calls', 'to', 'Russia', 'and', 'several', 'other', 'countries', 'about', 'the', 'U.N.', 'Security', 'Council', 'resolution', 'on', 'Israeli', 'settlements.', 'Specifically,', 'Flynn', 'falsely', 'says', 'he', 'only', 'asked', 'the', 'countriesâ\\x80\\x99', 'positions', 'on', 'the', 'vote', 'and', 'did', 'not', 'ask', 'any', 'countries', 'to', 'take', 'any', 'particular', 'action', 'on', 'the', 'resolution.', 'Flynn', 'also', 'falsely', 'states', 'the', 'Russian', 'ambassador', 'never', 'told', 'him', 'Russiaâ\\x80\\x99s', 'response', 'to', 'his', 'request', 'regarding', 'the', 'resolution.', '*', 'Jan.', '27:', 'At', 'a', 'joint', 'news', 'conference', 'with', 'visiting', 'British', 'Prime', 'Minister', 'Theresa', 'May,', 'Trump', 'says', 'he', 'is', 'only', 'in', 'the', 'early', 'stages', 'of', 'considering', 'whether', 'to', 'lift', 'sanctions', 'on', 'Russia.', '*', 'Jan.', '28:', 'In', 'their', 'first', 'conversation', 'since', 'Trumpâ\\x80\\x99s', 'inauguration,', 'Trump', 'and', 'Putin', 'agree', 'to', 'try', 'to', 'rebuild', 'U.S.-Russia', 'ties', 'and', 'to', 'cooperate', 'in', 'Syria,', 'the', 'Kremlin', 'says.', 'A', 'Kremlin', 'spokesman', 'says', 'two', 'days', 'later', 'that', 'sanctions', 'were', 'not', 'discussed.', '*', 'Feb.', '2:', 'The', 'U.S.', 'Treasury', 'Department', 'adjusts', 'sanctions', 'on', 'Russiaâ\\x80\\x99s', 'FSB', 'intelligence', 'agency,', 'making', 'limited', 'exceptions', 'to', 'the', 'measures', 'Obama', 'put', 'in', 'place.', '*', 'Feb.', '13:', 'Flynn', 'is', 'fired', 'following', 'disclosures', 'that', 'he', 'had', 'discussed', 'U.S.', 'sanctions', 'on', 'Russia', 'with', 'Kislyak,', 'Moscowâ\\x80\\x99s', 'U.S.', 'ambassador,', 'and', 'misled', 'Vice', 'President', 'Mike', 'Pence', 'about', 'the', 'conversations.', '*', 'Feb.', '16:', 'Trump', 'says', 'he', 'did', 'not', 'direct', 'Flynn', 'to', 'talk', 'to', 'Russiaâ\\x80\\x99s', 'ambassador', 'about', 'sanctions', 'before', 'taking', 'office.', '*', 'March', '7:', 'Flynn', 'files', 'multiple', 'documents', 'with', 'the', 'Justice', 'Department', 'involving', 'the', 'Foreign', 'Agents', 'Registration', 'Act', 'pertaining', 'to', 'a', 'project', 'conducted', 'by', 'him', 'and', 'his', 'company,', 'the', 'Flynn', 'Intel', 'Group', 'Inc,', 'for', 'the', 'benefit', 'of', 'Turkey.', 'In', 'the', 'filings,', 'Flynn', 'makes', 'false', 'statements', 'and', 'omissions.'], tags=['Train_5']),\n",
              " TaggedDocument(words=['LONDON', '(Reuters)', '-', 'The', 'U.S.', 'government', 'is', 'continuing', 'to', 'develop', 'its', 'policy', 'on', 'Iran', 'and', 'will', 'consider', 'the', 'wider', 'threat', 'it', 'poses', 'beyond', 'its', 'nuclear', 'capabilities,', 'U.S.', 'Secretary', 'of', 'State', 'Rex', 'Tillerson', 'said', 'on', 'Thursday.', 'In', 'April,', 'U.S.', 'President', 'Donald', 'Trump', 'ordered', 'a', 'review', 'of', 'whether', 'a', 'suspension', 'of', 'sanctions', 'on', 'Iran', 'related', 'to', 'a', '2015', 'nuclear', 'deal,', 'negotiated', 'under', 'President', 'Barack', 'Obama,', 'was', 'in', 'the', 'U.S.', 'national', 'security', 'interest.', 'He', 'has', 'called', 'it', 'the', 'worst', 'deal', 'ever', 'negotiated.', 'The', 'Trump', 'administration', 'is', 'continuing', 'to', 'review', 'and', 'develop', 'its', 'policy', 'on', 'Iran', '...', 'no', 'decision', 'has', 'been', 'made,', 'Tillerson', 'said', 'during', 'a', 'news', 'conference', 'in', 'London', 'following', 'a', 'meeting', 'with', 'British', 'foreign', 'minister', 'Boris', 'Johnson.', 'President', 'Trump', 'has', 'made', 'it', 'clear', '...', 'we', 'must', 'take', 'in', 'to', 'account', 'the', 'totality', 'of', 'Iranian', 'threats,', 'not', 'just', 'Iran', 's', 'nuclear', 'capabilities,', 'that', 'is', 'just', 'one', 'piece', 'of', 'our', 'posture', 'towards', 'Iran.', 'Tillerson', 'also', 'said', 'Iran', 'was', 'clearly', 'in', 'default', 'of', 'the', 'expectations', 'of', 'the', '2015', 'deal.'], tags=['Train_6']),\n",
              " TaggedDocument(words=['WASHINGTON', '(Reuters)', '-', 'U.S.', 'President', 'Donald', 'Trump', 'and', 'South', 'Korean', 'President', 'Moon', 'Jae-in', 'agreed', 'to', 'strengthen', 'their', 'defense', 'posture', 'amid', 'rising', 'tensions', 'with', 'North', 'Korea,', 'the', 'White', 'House', 'said', 'on', 'Friday.', 'Trump', 'and', 'Moon,', 'who', 'met', 'on', 'Thursday,', 'committed', 'to', 'strengthen', 'their', 'combined', 'defense', 'posture,', 'including', 'through', 'South', 'Korea', 's', 'acquisition', 'and', 'development', 'of', 'highly', 'advanced', 'military', 'assets', 'and', 'agreed', 'to', 'the', 'enhanced', 'deployment', 'of', 'U.S.', 'strategic', 'assets', 'in', 'and', 'around', 'South', 'Korea', 'on', 'a', 'rotational', 'basis,', 'the', 'White', 'House', 'said', 'in', 'a', 'statement.'], tags=['Train_7']),\n",
              " TaggedDocument(words=['WASHINGTON', '(Reuters)', '-', 'U.S.', 'Secretary', 'of', 'State', 'Rex', 'Tillerson', 'on', 'Tuesday', 'strongly', 'condemned', 'North', 'Korea', 's', 'launch', 'of', 'an', 'apparent', 'intercontinental', 'ballistic', 'missile', 'and', 'urged', 'the', 'international', 'community', 'to', 'take', 'new', 'steps', 'to', 'press', 'Pyongyang', 'to', 'halt', 'development', 'of', 'nuclear', 'arms.', 'In', 'addition', 'to', 'implementing', 'all', 'existing', 'U.N.', 'sanctions,', 'the', 'international', 'community', 'must', 'take', 'additional', 'measures', 'to', 'enhance', 'maritime', 'security,', 'including', 'the', 'right', 'to', 'interdict', 'maritime', 'traffic', 'traveling', 'to', 'North', 'Korea,', 'Tillerson', 'said', 'in', 'a', 'statement.', 'Tillerson', 'said', 'the', 'United', 'States', 'and', 'Canada', 'would', 'convene', 'a', 'meeting', 'of', 'U.N.', 'countries,', 'including', 'South', 'Korea,', 'Japan', 'and', 'other', 'affected', 'nations,', 'to', 'discuss', 'how', 'the', 'global', 'community', 'can', 'counter', 'North', 'Korea', 's', 'threat', 'to', 'international', 'peace.'], tags=['Train_8']),\n",
              " TaggedDocument(words=['Here', 'is', 'the', 'screen', 'shot', 'we', 'took', 'of', 'his', 'vile', 'and', 'hateful', 'tweet', 'just', 'before', 'he', 'deleted', 'his', 'account', 'on', 'Twitter:We', 'also', 'took', 'a', 'screen', 'shot', 'of', 'his', 'profile', 'before', 'he', 'deleted', 'it,', 'showing', 'him', 'bragging', 'about', 'being', 'a', 'Hillary', 'volunteer', 'and', 'Obama', 'supporter', ':A', 'Twitter', 'follower', 'sent', 'us', 'the', 'name', 'of', 'the', 'company', 'where', 'he', 'worked,', 'so', 'we', 'sent', 'them', 'a', 'copy', 'of', 'our', 'story', 'within', '10', 'minutes', 'of', 'Grilo', 'deleting', 'his', 'Twitter', 'account:You', 'must', 'be', 'really', 'proud', 'of', 'Dan', 'Grilo', 'who', 'mocks', 'the', 'wife', 'of', 'deceased', 'Navy', 'Seal', 'https://t.co/rVtbyMHUoq', '100%', 'FED', 'UP!', '(@100PercFEDUP)', 'March', '1,', '2017Here', 'is', 'a', 'screen', 'shot', 'of', 'Dan', 'Grilo', 's', 'profile', 'on', 'the', 'Liberty', 'Advisor', 'Group', 'website', 'before', 'he', 'was', 'fired', 'by', 'them:Kudos', 'to', 'Liberty', 'Advisor', 'Group', 'for', 'their', 'swift', 'action', 'in', 'announcing', 'the', 'next', 'day', 'that', 'Dan', 'Grilo', 'was', 'no', 'longer', 'working', 'for', 'them', 'in', 'this', 'tweet:https://twitter.com/LibertyAdvisor/status/837022201924714496'], tags=['Train_9'])]"
            ]
          },
          "metadata": {},
          "execution_count": 57
        }
      ]
    },
    {
      "cell_type": "code",
      "metadata": {
        "colab": {
          "base_uri": "https://localhost:8080/"
        },
        "id": "rc53sawiQMBn",
        "outputId": "6d11f728-e2c8-4e8c-d4b8-c7fa82c0fd95"
      },
      "source": [
        "model_dbow = doc2vec.Doc2Vec(dm=0, vector_size=300, negative=5, min_count=1, alpha=0.065, \n",
        "                     min_alpha=0.065)\n",
        "model_dbow.build_vocab([x for x in tqdm(all_news_data)])"
      ],
      "execution_count": 58,
      "outputs": [
        {
          "output_type": "stream",
          "name": "stderr",
          "text": [
            "100%|██████████| 44898/44898 [00:00<00:00, 1496351.70it/s]\n"
          ]
        }
      ]
    },
    {
      "cell_type": "code",
      "metadata": {
        "colab": {
          "base_uri": "https://localhost:8080/"
        },
        "id": "sV9b1M7eQazn",
        "outputId": "8ae4533d-4603-4176-ab8e-9b2b6a627e6f"
      },
      "source": [
        "for epoch in range(30):\n",
        "    model_dbow.train(utils.shuffle([x for x in tqdm(all_news_data)]), \n",
        "                     total_examples=len(all_news_data), \n",
        "                     epochs=1)\n",
        "    model_dbow.alpha -= 0.002\n",
        "    model_dbow.min_alpha = model_dbow.alpha"
      ],
      "execution_count": 59,
      "outputs": [
        {
          "output_type": "stream",
          "name": "stderr",
          "text": [
            "100%|██████████| 44898/44898 [00:00<00:00, 2422879.17it/s]\n",
            "100%|██████████| 44898/44898 [00:00<00:00, 2136553.90it/s]\n",
            "100%|██████████| 44898/44898 [00:00<00:00, 1807600.89it/s]\n",
            "100%|██████████| 44898/44898 [00:00<00:00, 2744449.06it/s]\n",
            "100%|██████████| 44898/44898 [00:00<00:00, 2306125.00it/s]\n",
            "100%|██████████| 44898/44898 [00:00<00:00, 2303952.49it/s]\n",
            "100%|██████████| 44898/44898 [00:00<00:00, 2233321.01it/s]\n",
            "100%|██████████| 44898/44898 [00:00<00:00, 2227403.88it/s]\n",
            "100%|██████████| 44898/44898 [00:00<00:00, 2734128.88it/s]\n",
            "100%|██████████| 44898/44898 [00:00<00:00, 2124310.32it/s]\n",
            "100%|██████████| 44898/44898 [00:00<00:00, 2232288.54it/s]\n",
            "100%|██████████| 44898/44898 [00:00<00:00, 2012953.88it/s]\n",
            "100%|██████████| 44898/44898 [00:00<00:00, 2337556.15it/s]\n",
            "100%|██████████| 44898/44898 [00:00<00:00, 2273138.20it/s]\n",
            "100%|██████████| 44898/44898 [00:00<00:00, 2330988.03it/s]\n",
            "100%|██████████| 44898/44898 [00:00<00:00, 2389067.56it/s]\n",
            "100%|██████████| 44898/44898 [00:00<00:00, 2804614.80it/s]\n",
            "100%|██████████| 44898/44898 [00:00<00:00, 2124094.67it/s]\n",
            "100%|██████████| 44898/44898 [00:00<00:00, 2067360.42it/s]\n",
            "100%|██████████| 44898/44898 [00:00<00:00, 2318018.97it/s]\n",
            "100%|██████████| 44898/44898 [00:00<00:00, 2287440.92it/s]\n",
            "100%|██████████| 44898/44898 [00:00<00:00, 2183752.08it/s]\n",
            "100%|██████████| 44898/44898 [00:00<00:00, 2810055.38it/s]\n",
            "100%|██████████| 44898/44898 [00:00<00:00, 2192523.70it/s]\n",
            "100%|██████████| 44898/44898 [00:00<00:00, 2830200.20it/s]\n",
            "100%|██████████| 44898/44898 [00:00<00:00, 2156642.44it/s]\n",
            "100%|██████████| 44898/44898 [00:00<00:00, 2076043.84it/s]\n",
            "100%|██████████| 44898/44898 [00:00<00:00, 2356157.16it/s]\n",
            "100%|██████████| 44898/44898 [00:00<00:00, 2377785.56it/s]\n",
            "100%|██████████| 44898/44898 [00:00<00:00, 2193698.58it/s]\n"
          ]
        }
      ]
    },
    {
      "cell_type": "code",
      "metadata": {
        "id": "8_V8Dr-4Qo0n"
      },
      "source": [
        "def get_vectors(model, corpus_size, vectors_size, vectors_type):\n",
        "    \"\"\"\n",
        "    Get vectors from trained doc2vec model\n",
        "    :param doc2vec_model: Trained Doc2Vec model\n",
        "    :param corpus_size: Size of the data\n",
        "    :param vectors_size: Size of the embedding vectors\n",
        "    :param vectors_type: Training or Testing vectors\n",
        "    :return: list of vectors\n",
        "    \"\"\"\n",
        "    vectors = np.zeros((corpus_size, vectors_size))\n",
        "    for i in range(0, corpus_size):\n",
        "        prefix = vectors_type + '_' + str(i)\n",
        "        vectors[i] = model.docvecs[prefix]\n",
        "    return vectors"
      ],
      "execution_count": 60,
      "outputs": []
    },
    {
      "cell_type": "code",
      "metadata": {
        "id": "GRXEcSmPQsBY"
      },
      "source": [
        "train_vectors_dbow = get_vectors(model_dbow, len(X_train), 300, 'Train')\n",
        "test_vectors_dbow = get_vectors(model_dbow, len(X_test), 300, 'Test')"
      ],
      "execution_count": 61,
      "outputs": []
    },
    {
      "cell_type": "code",
      "metadata": {
        "colab": {
          "base_uri": "https://localhost:8080/"
        },
        "id": "0RZvOsQRQvVe",
        "outputId": "36be2b84-ce03-443b-885d-a26ad42af2ca"
      },
      "source": [
        "from sklearn.svm import SVC\n",
        "svm = SVC(C=10, gamma='auto', kernel='rbf')\n",
        "\n",
        "svm.fit(train_vectors_dbow, y_train) # Training SVM\n",
        "y_pred = svm.predict(test_vectors_dbow) # Predicting labels for our test set using trained model\n",
        "\n",
        "print('accuracy %s' % accuracy_score(y_pred, y_test))\n",
        "print(classification_report(y_test, y_pred))"
      ],
      "execution_count": 62,
      "outputs": [
        {
          "output_type": "stream",
          "name": "stdout",
          "text": [
            "accuracy 0.9976985894580549\n",
            "              precision    recall  f1-score   support\n",
            "\n",
            "        Fake       1.00      1.00      1.00      6979\n",
            "        True       1.00      1.00      1.00      6491\n",
            "\n",
            "    accuracy                           1.00     13470\n",
            "   macro avg       1.00      1.00      1.00     13470\n",
            "weighted avg       1.00      1.00      1.00     13470\n",
            "\n"
          ]
        }
      ]
    }
  ]
}