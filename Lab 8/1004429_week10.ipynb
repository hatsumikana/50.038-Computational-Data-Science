{
  "nbformat": 4,
  "nbformat_minor": 0,
  "metadata": {
    "interpreter": {
      "hash": "f98d74dfb5b1c8d8a210bfbef9987017a0fff68a56687bafce354ff2c11e0f6f"
    },
    "kernelspec": {
      "display_name": "Python 3",
      "language": "python",
      "name": "python3"
    },
    "language_info": {
      "codemirror_mode": {
        "name": "ipython",
        "version": 3
      },
      "file_extension": ".py",
      "mimetype": "text/x-python",
      "name": "python",
      "nbconvert_exporter": "python",
      "pygments_lexer": "ipython3",
      "version": "3.7.6"
    },
    "colab": {
      "name": "week10(1).ipynb",
      "provenance": []
    }
  },
  "cells": [
    {
      "cell_type": "code",
      "metadata": {
        "id": "HCAEWRgK_Jxf"
      },
      "source": [
        "# Student Name: Kanashima Hatsumi\n",
        "# Student ID: 1004429"
      ],
      "execution_count": 1,
      "outputs": []
    },
    {
      "cell_type": "markdown",
      "metadata": {
        "id": "WFWsxNwL_Fva"
      },
      "source": [
        "## Load the IMDB dataset and create the vocabulary"
      ]
    },
    {
      "cell_type": "code",
      "metadata": {
        "id": "sbo-e_Pt_Fvf",
        "colab": {
          "base_uri": "https://localhost:8080/"
        },
        "outputId": "16c211c7-fcfa-4461-e379-94bef5746df4"
      },
      "source": [
        "from torchtext.datasets import IMDB\n",
        "from torchtext.data.utils import get_tokenizer\n",
        "from collections import Counter, OrderedDict\n",
        "from torchtext.vocab import vocab\n",
        "\n",
        "EMBEDDING_DIM=50\n",
        "VOCAB_SIZE=20000\n",
        "\n",
        "# Get IMDB dataset\n",
        "imdb = IMDB(split='train')\n",
        "\n",
        "# Load English tokenizer, tagger, parser and NER\n",
        "tokenizer = get_tokenizer('spacy', language='en')\n",
        "\n",
        "# build the vocab\n",
        "counter = Counter()\n",
        "for i, (label, line) in enumerate(imdb):\n",
        "    counter.update(tokenizer(line))\n",
        "\n",
        "ordered_dict = OrderedDict(counter.most_common()[:VOCAB_SIZE])\n",
        "vocab = vocab(ordered_dict)\n",
        "\n",
        "# insert special tokens and set default index to 'unknown'\n",
        "vocab.insert_token('<PAD>', 0)\n",
        "vocab.insert_token('<UNK>', 1)\n",
        "vocab.set_default_index(1)"
      ],
      "execution_count": 1,
      "outputs": [
        {
          "output_type": "stream",
          "name": "stderr",
          "text": [
            "100%|██████████| 84.1M/84.1M [00:03<00:00, 27.9MB/s]\n"
          ]
        }
      ]
    },
    {
      "cell_type": "markdown",
      "metadata": {
        "id": "odhRw3WD_Fvh"
      },
      "source": [
        "## Create embedding vectors from GloVe"
      ]
    },
    {
      "cell_type": "code",
      "metadata": {
        "id": "afGzw1eB_Fvi",
        "colab": {
          "base_uri": "https://localhost:8080/"
        },
        "outputId": "53a57d45-850d-40a5-f7fc-48481b27bc53"
      },
      "source": [
        "import torchtext as text\n",
        "\n",
        "# load glove embeddings\n",
        "vec = text.vocab.GloVe(name='6B', dim=50)\n",
        "# create the embedding matrix, a torch tensor in the shape (num_words+1, embedding_dim)\n",
        "word_emb = vec.get_vecs_by_tokens(vocab.get_itos())"
      ],
      "execution_count": 2,
      "outputs": [
        {
          "output_type": "stream",
          "name": "stderr",
          "text": [
            ".vector_cache/glove.6B.zip: 862MB [02:51, 5.02MB/s]                           \n",
            "100%|█████████▉| 399999/400000 [00:11<00:00, 34649.58it/s]\n"
          ]
        }
      ]
    },
    {
      "cell_type": "markdown",
      "metadata": {
        "id": "CMArvw0J_Fvi"
      },
      "source": [
        "## Build up train/test dataset"
      ]
    },
    {
      "cell_type": "code",
      "metadata": {
        "id": "sVBlz_fY_Fvi"
      },
      "source": [
        "from torch.nn.utils.rnn import pad_sequence\n",
        "import torch\n",
        "from torch.utils.data import DataLoader\n",
        "from torchtext.data.functional import to_map_style_dataset\n",
        "\n",
        "device = torch.device(\"cuda\" if torch.cuda.is_available() else \"cpu\")\n",
        "# transform input text and label to ids\n",
        "def process_text(text):\n",
        "    return vocab(tokenizer(text))\n",
        "\n",
        "label_to_ids = {'pos':0, 'neg':1}\n",
        "\n",
        "def collate_batch(batch):\n",
        "    label_list, text_list, lengths = [], [], []\n",
        "    for (_label, _text) in batch:\n",
        "        label_list.append(label_to_ids[_label])\n",
        "        processed_text = torch.tensor(process_text(_text), dtype=torch.int64)\n",
        "        text_list.append(processed_text)\n",
        "        lengths.append(processed_text.size(0))\n",
        "    # label must be in the same size as target\n",
        "    label_list = torch.tensor(label_list, dtype=torch.float)[:,None]\n",
        "    # print(label_list.size(), label_list)\n",
        "    text_list = pad_sequence(text_list, batch_first=True)\n",
        "    # print(text_list.size(), text_list)\n",
        "    lengths = torch.tensor(lengths, dtype=torch.long)\n",
        "    # print(lengths.size(), lengths)\n",
        "\n",
        "    batch_size = len(batch)\n",
        "    seq_len = text_list.size()[1]\n",
        "    # last_indices = torch.LongTensor(lengths - 1)\n",
        "    last_indices = torch.subtract(lengths, 1, alpha=1)\n",
        "    mask = torch.zeros(batch_size, seq_len, 1)\n",
        "    rows = torch.arange(0, batch_size).long()\n",
        "    mask[rows, last_indices, :] = 1\n",
        "\n",
        "    return label_list.to(device), text_list.to(device), lengths.to(device), mask.to(device)\n",
        "\n",
        "train_iter, test_iter = IMDB()\n",
        "\n",
        "# transform datasets iterator into map style so that they can be repeatedly loaded in a new epoch\n",
        "train_dataset = to_map_style_dataset(train_iter)\n",
        "test_dataset = to_map_style_dataset(test_iter)\n",
        "\n",
        "train_dataloader = DataLoader(train_dataset, batch_size=128,\n",
        "                              shuffle=True, collate_fn=collate_batch)\n",
        "test_dataloader = DataLoader(test_dataset, batch_size=128,\n",
        "                             shuffle=True, collate_fn=collate_batch)"
      ],
      "execution_count": 3,
      "outputs": []
    },
    {
      "cell_type": "markdown",
      "metadata": {
        "id": "Qk-RXqo9RkN5"
      },
      "source": [
        "LSTM"
      ]
    },
    {
      "cell_type": "code",
      "metadata": {
        "id": "4uBnDO0O_Fvj"
      },
      "source": [
        "# logistic model\n",
        "import torch\n",
        "import torch.nn as nn\n",
        "import torch.nn.functional as F\n",
        "\n",
        "class LogisticRegression(nn.Module):\n",
        "    def __init__(self, word_vec, embed_dim):\n",
        "        super().__init__()\n",
        "        # embeddingbag outputs the average of all the words in a sentence\n",
        "        self.embedding = nn.Embedding(*(word_vec.size())).from_pretrained(word_vec, freeze=False)\n",
        "        self.fc = nn.Linear(embed_dim, 1)\n",
        "        self._init_weights()\n",
        "\n",
        "    def _init_weights(self):\n",
        "        \"\"\"Initialize network parameters \n",
        "        \"\"\"\n",
        "        initrange = 0.5\n",
        "        self.embedding.weight.data.uniform_(-initrange, initrange)\n",
        "        self.fc.weight.data.uniform_(-initrange, initrange)\n",
        "        self.fc.bias.data.zero_()\n",
        "\n",
        "    def forward(self, text, lengths):\n",
        "        embedded = self.embedding(text) # (batch_size, sent_len, emb_size)\n",
        "        embedded = embedded.sum(dim = 1) / lengths[:, None] # (add one axis)\n",
        "        return torch.sigmoid(self.fc(embedded))\n",
        "\n",
        "class LSTMcustom(nn.Module):\n",
        "    def __init__(self, word_vec, embed_dim):\n",
        "        super().__init__()\n",
        "        # embeddingbag outputs the average of all the words in a sentence\n",
        "        self.embedding = nn.Embedding(*(word_vec.size())).from_pretrained(word_vec, freeze=False)\n",
        "        # Initialize LSTM model. The arguments are in this order input_dim, hidden_dim, n_layers\n",
        "        self.lstm = nn.LSTM(embed_dim, 200, 1, bidirectional=False, batch_first = True)\n",
        "        # self.lstm = nn.LSTM(embed_dim, 200, 2, bidirectional=False, batch_first = True)\n",
        "        # self.lstm = nn.LSTM(embed_dim, 200, 3, bidirectional=False, batch_first = True)\n",
        "        # self.lstm = nn.LSTM(embed_dim, 200, 4, bidirectional=False, batch_first = True)\n",
        "\n",
        "        # Q1: What should be the input dimension of this linear layer? \n",
        "        # Q1) Ans: The input dimension of this linear layer should be 200.\n",
        "\n",
        "        self.fc = nn.Linear(200, 1) \n",
        "        \n",
        "        # Q2: set bidirectional = True in the LSTM and determine the input size of the FC layer\n",
        "        # Q2) Ans: Since it is bidirectional LSTM, input size of the FC layer is 2*200 = 400\n",
        "        \n",
        "    def forward(self, text, lengths, mask):\n",
        "        embedded = self.embedding(text) # (batch_size, sent_len, emb_size)\n",
        "        lstm_out,_ = self.lstm(embedded) # lstm_out is a 3d tensor (batch_size, sent_len, output_size). If you have a bidirectional LSTM, the outputsize will be 2*output_size\n",
        "        \n",
        "        # Q3: Select the hidden output of the last element in the sequence. Hint: Remember that you padded the sequence and you already know the length of the sequence.\n",
        "        sent_len = lstm_out.size()[1]\n",
        "        output_size = lstm_out.size()[2]\n",
        "        mask = mask.expand(-1,sent_len, output_size)\n",
        "        input = lstm_out\n",
        "        output = input * mask\n",
        "        last_states = torch.sum(output, dim=1)\n",
        "\n",
        "        lstm_out = last_states\n",
        "        \n",
        "        # Q4: Add multiple layers to the LSTM by passing argument num_layers=2,3,4 etc. to the LSTM function above. Test whether the performance improves. If not, explain what did you observe.\n",
        "        # Q4) Ans: num_layers=1 -> test accuracy    63.91%\n",
        "        #          num_layers=2 -> test accuracy    63.93%  \n",
        "        #          num_layers=3 -> test accuracy    63.93%  \n",
        "        #          num_layers=4 -> test accuracy    63.93%  \n",
        "        #          As you can see from the result, there was a slight improvement from passing argument num_layers=1 to num_layers=2. However, the performance remains the same when I increase the number of layers after num_layers=2.\n",
        "\n",
        "        return torch.sigmoid(self.fc(lstm_out))   "
      ],
      "execution_count": 4,
      "outputs": []
    },
    {
      "cell_type": "markdown",
      "metadata": {
        "id": "Ccumv3sCNUOi"
      },
      "source": [
        "RNN"
      ]
    },
    {
      "cell_type": "code",
      "metadata": {
        "id": "Ynj9bWUcNQ2M"
      },
      "source": [
        "# logistic model\n",
        "import torch\n",
        "import torch.nn as nn\n",
        "import torch.nn.functional as F\n",
        "\n",
        "class LogisticRegression(nn.Module):\n",
        "    def __init__(self, word_vec, embed_dim):\n",
        "        super().__init__()\n",
        "        # embeddingbag outputs the average of all the words in a sentence\n",
        "        self.embedding = nn.Embedding(*(word_vec.size())).from_pretrained(word_vec, freeze=False)\n",
        "        self.fc = nn.Linear(embed_dim, 1)\n",
        "        self._init_weights()\n",
        "\n",
        "    def _init_weights(self):\n",
        "        \"\"\"Initialize network parameters \n",
        "        \"\"\"\n",
        "        initrange = 0.5\n",
        "        self.embedding.weight.data.uniform_(-initrange, initrange)\n",
        "        self.fc.weight.data.uniform_(-initrange, initrange)\n",
        "        self.fc.bias.data.zero_()\n",
        "\n",
        "    def forward(self, text, lengths):\n",
        "        embedded = self.embedding(text) # (batch_size, sent_len, emb_size)\n",
        "        embedded = embedded.sum(dim = 1) / lengths[:, None] # (add one axis)\n",
        "        return torch.sigmoid(self.fc(embedded))\n",
        "\n",
        "class RNNcustom(nn.Module):\n",
        "    def __init__(self, word_vec, embed_dim):\n",
        "        super().__init__()\n",
        "        # embeddingbag outputs the average of all the words in a sentence\n",
        "        self.embedding = nn.Embedding(*(word_vec.size())).from_pretrained(word_vec, freeze=False)\n",
        "        # Initialize LSTM model. The arguments are in this order input_dim, hidden_dim, n_layers\n",
        "        self.rnn = nn.RNN(embed_dim, 200, 1, bidirectional=False, batch_first = True)\n",
        "        # self.rnn = nn.RNN(embed_dim, 200, 2, bidirectional=False, batch_first = True)\n",
        "        # self.rnn = nn.RNN(embed_dim, 200, 3, bidirectional=False, batch_first = True)\n",
        "        # self.rnn = nn.RNN(embed_dim, 200, 4, bidirectional=False, batch_first = True)\n",
        "\n",
        "        self.fc = nn.Linear(200, 1) \n",
        "        \n",
        "    def forward(self, text, lengths, mask):\n",
        "        embedded = self.embedding(text) # (batch_size, sent_len, emb_size)\n",
        "        rnn_out,_ = self.rnn(embedded) # rnn_out is a 3d tensor (batch_size, sent_len, output_size). If you have a bidirectional rnn, the outputsize will be 2*output_size\n",
        "        \n",
        "        sent_len = rnn_out.size()[1]\n",
        "        output_size = rnn_out.size()[2]\n",
        "        mask = mask.expand(-1,sent_len, output_size)\n",
        "        input = rnn_out\n",
        "        output = input * mask\n",
        "        last_states = torch.sum(output, dim=1)\n",
        "\n",
        "        rnn_out = last_states\n",
        "\n",
        "        # Q5: Replace the rnn layer with simple RNN layer and compare the performance between LSTM and RNN.\n",
        "        return torch.sigmoid(self.fc(rnn_out))   \n",
        "\n",
        "        # Q5) Ans: num_layers=1 -> test accuracy    64.92%\n",
        "        #          num_layers=2 -> test accuracy    63.94%  \n",
        "        #          num_layers=3 -> test accuracy    63.94% \n",
        "        #          num_layers=4 -> test accuracy    63.93% \n",
        "        #          By comparing the results of LSTM and RNN, RNN have a slightly better result when there is only one layer. However, there is not much of improvements for 2 layers and above."
      ],
      "execution_count": 5,
      "outputs": []
    },
    {
      "cell_type": "code",
      "metadata": {
        "id": "QP-Wu9t-_Fvk"
      },
      "source": [
        "import time\n",
        "\n",
        "def train(dataloader):\n",
        "    model.train()\n",
        "    total_acc, total_count = 0, 0\n",
        "    log_interval = 50\n",
        "    start_time = time.time()\n",
        "\n",
        "    for idx, (label, text, lengths, mask) in enumerate(dataloader):\n",
        "        optimizer.zero_grad()\n",
        "        # forward propagation\n",
        "        predicted_label = model(text, lengths, mask)\n",
        "        # calculate loss and backpropagate to model paramters\n",
        "        loss = criterion(predicted_label, label)\n",
        "        loss.backward()\n",
        "        torch.nn.utils.clip_grad_norm_(model.parameters(), 0.1)\n",
        "        # update parameters by stepping the optimizer\n",
        "        optimizer.step()\n",
        "        total_acc += ((predicted_label > 0.5) == label).sum().item()\n",
        "        total_count += label.size(0)\n",
        "        if idx % log_interval == 0 and idx > 0:\n",
        "            elapsed = time.time() - start_time\n",
        "            print('| epoch {:3d} | {:5d}/{:5d} batches '\n",
        "                  '| accuracy {:8.3f}'.format(epoch, idx, len(dataloader),\n",
        "                                              total_acc/total_count))\n",
        "            total_acc, total_count = 0, 0\n",
        "            start_time = time.time()\n",
        "\n",
        "def evaluate(dataloader):\n",
        "    model.eval()\n",
        "    total_acc, total_count = 0, 0\n",
        "\n",
        "    with torch.no_grad():\n",
        "        for idx, (label, text, lengths, mask) in enumerate(dataloader):\n",
        "            predicted_label = model(text, lengths, mask)\n",
        "            loss = criterion(predicted_label, label)\n",
        "            total_acc += (predicted_label.argmax(1) == label).sum().item()\n",
        "            total_count += label.size(0)\n",
        "    return total_acc/total_count"
      ],
      "execution_count": 6,
      "outputs": []
    },
    {
      "cell_type": "code",
      "metadata": {
        "id": "VK4FxXRL_Fvl",
        "colab": {
          "base_uri": "https://localhost:8080/"
        },
        "outputId": "812d94eb-16ce-4419-87db-3e5bfa97d659"
      },
      "source": [
        "# Hyperparameters\n",
        "EPOCHS = 10 # epoch\n",
        "\n",
        "# model = LSTMcustom(word_vec=word_emb, embed_dim=EMBEDDING_DIM).to(device) # LSTM\n",
        "model = RNNcustom(word_vec=word_emb, embed_dim=EMBEDDING_DIM).to(device)    # RNN\n",
        "optimizer = torch.optim.SGD(model.parameters(), lr=0.001)\n",
        "criterion = torch.nn.BCELoss()\n",
        "total_accu = None\n",
        "\n",
        "\n",
        "for epoch in range(1, EPOCHS + 1):\n",
        "    epoch_start_time = time.time()\n",
        "    train(train_dataloader)"
      ],
      "execution_count": 7,
      "outputs": [
        {
          "output_type": "stream",
          "name": "stdout",
          "text": [
            "| epoch   1 |    50/  196 batches | accuracy    0.497\n",
            "| epoch   1 |   100/  196 batches | accuracy    0.503\n",
            "| epoch   1 |   150/  196 batches | accuracy    0.503\n",
            "| epoch   2 |    50/  196 batches | accuracy    0.498\n",
            "| epoch   2 |   100/  196 batches | accuracy    0.507\n",
            "| epoch   2 |   150/  196 batches | accuracy    0.502\n",
            "| epoch   3 |    50/  196 batches | accuracy    0.510\n",
            "| epoch   3 |   100/  196 batches | accuracy    0.499\n",
            "| epoch   3 |   150/  196 batches | accuracy    0.510\n",
            "| epoch   4 |    50/  196 batches | accuracy    0.496\n",
            "| epoch   4 |   100/  196 batches | accuracy    0.498\n",
            "| epoch   4 |   150/  196 batches | accuracy    0.511\n",
            "| epoch   5 |    50/  196 batches | accuracy    0.506\n",
            "| epoch   5 |   100/  196 batches | accuracy    0.501\n",
            "| epoch   5 |   150/  196 batches | accuracy    0.490\n",
            "| epoch   6 |    50/  196 batches | accuracy    0.502\n",
            "| epoch   6 |   100/  196 batches | accuracy    0.500\n",
            "| epoch   6 |   150/  196 batches | accuracy    0.500\n",
            "| epoch   7 |    50/  196 batches | accuracy    0.500\n",
            "| epoch   7 |   100/  196 batches | accuracy    0.490\n",
            "| epoch   7 |   150/  196 batches | accuracy    0.506\n",
            "| epoch   8 |    50/  196 batches | accuracy    0.504\n",
            "| epoch   8 |   100/  196 batches | accuracy    0.507\n",
            "| epoch   8 |   150/  196 batches | accuracy    0.493\n",
            "| epoch   9 |    50/  196 batches | accuracy    0.491\n",
            "| epoch   9 |   100/  196 batches | accuracy    0.505\n",
            "| epoch   9 |   150/  196 batches | accuracy    0.516\n",
            "| epoch  10 |    50/  196 batches | accuracy    0.505\n",
            "| epoch  10 |   100/  196 batches | accuracy    0.511\n",
            "| epoch  10 |   150/  196 batches | accuracy    0.509\n"
          ]
        }
      ]
    },
    {
      "cell_type": "code",
      "metadata": {
        "id": "XFOcditU_Fvm",
        "colab": {
          "base_uri": "https://localhost:8080/"
        },
        "outputId": "f8607940-09b7-4108-af0d-0cfe756c72d6"
      },
      "source": [
        "accu_test = evaluate(test_dataloader)\n",
        "print('test accuracy {:8.2f}%'.format(accu_test))"
      ],
      "execution_count": 8,
      "outputs": [
        {
          "output_type": "stream",
          "name": "stdout",
          "text": [
            "test accuracy    63.91%\n"
          ]
        }
      ]
    }
  ]
}