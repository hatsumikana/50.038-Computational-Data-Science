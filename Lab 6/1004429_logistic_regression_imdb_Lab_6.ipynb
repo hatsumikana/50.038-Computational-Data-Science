{
  "nbformat": 4,
  "nbformat_minor": 0,
  "metadata": {
    "interpreter": {
      "hash": "64c7587c57fab0328c0f08a8fa64e3e786b56407a0ea30be36fecc0cd89940e6"
    },
    "kernelspec": {
      "display_name": "Python 3",
      "language": "python",
      "name": "python3"
    },
    "language_info": {
      "codemirror_mode": {
        "name": "ipython",
        "version": 3
      },
      "file_extension": ".py",
      "mimetype": "text/x-python",
      "name": "python",
      "nbconvert_exporter": "python",
      "pygments_lexer": "ipython3",
      "version": "3.7.6"
    },
    "colab": {
      "name": "logistic_regression_imdb_Lab_6.ipynb",
      "provenance": [],
      "collapsed_sections": []
    },
    "accelerator": "GPU"
  },
  "cells": [
    {
      "cell_type": "code",
      "execution_count": null,
      "metadata": {},
      "outputs": [],
      "source": [
        "# Student Name: Kanashima Hatsumi\n",
        "# Student ID: 1004429"
      ]
    },
    {
      "cell_type": "markdown",
      "metadata": {
        "id": "qQViWsUpjEfW"
      },
      "source": [
        "## Load the IMDB dataset and create the vocabulary"
      ]
    },
    {
      "cell_type": "code",
      "metadata": {
        "id": "82NBXvbXjEfa",
        "colab": {
          "base_uri": "https://localhost:8080/"
        },
        "outputId": "b1ff9390-6845-467f-a0b0-65f70ea60790"
      },
      "source": [
        "from torchtext.datasets import IMDB\n",
        "from torchtext.data.utils import get_tokenizer\n",
        "from collections import Counter, OrderedDict\n",
        "from torchtext.vocab import vocab\n",
        "\n",
        "EMBEDDING_DIM=50\n",
        "VOCAB_SIZE=20000\n",
        "\n",
        "# Get IMDB dataset\n",
        "imdb = IMDB(split='train')\n",
        "\n",
        "# Load English tokenizer, tagger, parser and NER\n",
        "tokenizer = get_tokenizer('spacy', language='en') # Split the text into words\n",
        "\n",
        "# build the vocab\n",
        "counter = Counter()\n",
        "for i, (label, line) in enumerate(imdb):\n",
        "    counter.update(tokenizer(line))\n",
        "\n",
        "ordered_dict = OrderedDict(counter.most_common()[:VOCAB_SIZE])\n",
        "vocab = vocab(ordered_dict)\n",
        "\n",
        "# insert special tokens and set default index to 'unknown'\n",
        "vocab.insert_token('<PAD>', 0) # Padding\n",
        "vocab.insert_token('<UNK>', 1) # For unknown word\n",
        "vocab.set_default_index(1)"
      ],
      "execution_count": 1,
      "outputs": [
        {
          "output_type": "stream",
          "name": "stderr",
          "text": [
            "aclImdb_v1.tar.gz: 100%|██████████| 84.1M/84.1M [00:06<00:00, 13.1MB/s]\n"
          ]
        }
      ]
    },
    {
      "cell_type": "markdown",
      "metadata": {
        "id": "pBDRUxxTjEfc"
      },
      "source": [
        "## Create embedding vectors from GloVe"
      ]
    },
    {
      "cell_type": "code",
      "metadata": {
        "id": "gItvCKgRjEfc",
        "colab": {
          "base_uri": "https://localhost:8080/"
        },
        "outputId": "efa949bf-0eff-4859-8867-8db573f2d434"
      },
      "source": [
        "import torchtext as text\n",
        "\n",
        "# load glove embeddings\n",
        "vec = text.vocab.GloVe(name='6B', dim=50)\n",
        "# create the embedding matrix, a torch tensor in the shape (num_words+1, embedding_dim)\n",
        "word_emb = vec.get_vecs_by_tokens(vocab.get_itos())"
      ],
      "execution_count": 2,
      "outputs": [
        {
          "output_type": "stream",
          "name": "stderr",
          "text": [
            ".vector_cache/glove.6B.zip: 862MB [02:42, 5.29MB/s]                           \n",
            "100%|█████████▉| 399999/400000 [00:14<00:00, 27690.75it/s]\n"
          ]
        }
      ]
    },
    {
      "cell_type": "markdown",
      "metadata": {
        "id": "DRzlrlgpjEfd"
      },
      "source": [
        "## Build up train/test dataset"
      ]
    },
    {
      "cell_type": "code",
      "metadata": {
        "id": "2Wr44-kojEfd"
      },
      "source": [
        "import torch\n",
        "from torch.utils.data import DataLoader\n",
        "from torchtext.data.functional import to_map_style_dataset\n",
        "from torch.utils.data.dataset import random_split\n",
        "\n",
        "device = torch.device(\"cuda\" if torch.cuda.is_available() else \"cpu\")\n",
        "\n",
        "# transform input text and label to ids\n",
        "def process_text(text):\n",
        "    return vocab(tokenizer(text))\n",
        "\n",
        "label_to_ids = {'pos':0, 'neg':1}\n",
        "\n",
        "# preprocess a batch of raw data (string-like text/labels) into tensors\n",
        "def collate_batch(batch): # Creates Batches\n",
        "    label_list, text_list, offsets = [], [], [0]\n",
        "    for (_label, _text) in batch:\n",
        "        label_list.append(label_to_ids[_label]) # Converting strings into 1s and 0s\n",
        "        processed_text = torch.tensor(process_text(_text), dtype=torch.int64) # Convert text into sequences\n",
        "        text_list.append(processed_text)\n",
        "        offsets.append(processed_text.size(0))\n",
        "    # label must be in the same size as target\n",
        "    label_list = torch.tensor(label_list, dtype=torch.float)[:,None]\n",
        "    offsets = torch.tensor(offsets[:-1]).cumsum(dim=0)\n",
        "    text_list = torch.cat(text_list)\n",
        "    return label_list.to(device), text_list.to(device), offsets.to(device)\n",
        "\n",
        "# train_iter, test_iter = IMDB()\n",
        "train_iter, test_iter = IMDB()\n",
        "\n",
        "# transform datasets iterator into map style so that they can be repeatedly loaded in a new epoch\n",
        "train_dataset = to_map_style_dataset(train_iter)\n",
        "test_dataset = to_map_style_dataset(test_iter)\n",
        "\n",
        "num_train = int(len(train_dataset) * 0.7)\n",
        "split_train_, split_valid_ = random_split(train_dataset, [num_train, len(train_dataset) - num_train])\n",
        "\n",
        "train_dataloader = DataLoader(split_train_, batch_size=128,\n",
        "                              shuffle=True, collate_fn=collate_batch)\n",
        "test_dataloader = DataLoader(test_dataset, batch_size=128,\n",
        "                             shuffle=True, collate_fn=collate_batch)\n",
        "# Question 1\n",
        "# https://pytorch.org/tutorials/beginner/text_sentiment_ngrams_tutorial.html\n",
        "val_dataloader = DataLoader(split_valid_, batch_size=128,\n",
        "                             shuffle=True, collate_fn=collate_batch) # Write a validation dataloader by spliting the training data"
      ],
      "execution_count": 3,
      "outputs": []
    },
    {
      "cell_type": "markdown",
      "metadata": {
        "id": "RFzHFrg2jEfe"
      },
      "source": [
        "## Define the logistic regression model"
      ]
    },
    {
      "cell_type": "code",
      "metadata": {
        "id": "AjFwqBy7jEff"
      },
      "source": [
        "# logistic model\n",
        "import torch\n",
        "import torch.nn as nn\n",
        "import torch.nn.functional as F\n",
        "\n",
        "class LogisticRegression(nn.Module):\n",
        "    def __init__(self, word_vec, embed_dim):\n",
        "        super().__init__()\n",
        "        # embeddingbag outputs the average of all the words in a sentence\n",
        "        \n",
        "        # Question 2 : Replace the EmbeddingBag using PyTorch builtin functions that does the same job of computing sentence representation by taking average of the word embeddings.\n",
        "\n",
        "        # self.embedding = nn.EmbeddingBag(*(word_vec.size())).from_pretrained(word_vec, freeze=False)\n",
        "        self.embedding = nn.Embedding(*(word_vec.size())).from_pretrained(word_vec, freeze=False)\n",
        "     \n",
        "        # Question 3 : Write a Fully Connected Layer (FC layer) with output size of 100 followed by a non-linear activation e.g., ReLU\n",
        "        self.fc1 = nn.Linear(embed_dim, 100)\n",
        "        self.fc2 = nn.Linear(100, 1)\n",
        "        \n",
        "        self.fcLayers = nn.Sequential(\n",
        "                        self.fc1,\n",
        "                        nn.ReLU(),\n",
        "                        self.fc2\n",
        "                        )\n",
        "        self._init_weights()\n",
        "\n",
        "    def _init_weights(self):\n",
        "        \"\"\"Initialize network parameters \n",
        "        \"\"\"\n",
        "        initrange = 0.5\n",
        "        \n",
        "        self.fc1.weight.data.uniform_(-initrange, initrange)\n",
        "        self.fc1.bias.data.zero_()\n",
        "        self.fc2.weight.data.uniform_(-initrange, initrange)\n",
        "        self.fc2.bias.data.zero_()\n",
        "        self.embedding.weight.data.uniform_(-initrange, initrange)\n",
        "\n",
        "    def forward(self, text, offsets):\n",
        "        embedded = self.embedding(text)\n",
        "\n",
        "        ls = []\n",
        "        for offset in range(len(offsets)):\n",
        "          if offsets[offset] == offsets[-1]:\n",
        "              mean = torch.mean(embedded[offsets[offset]:], dim=0)\n",
        "          else:\n",
        "              mean = torch.mean(embedded[offsets[offset]: offsets[offset+1]], dim=0)\n",
        "\n",
        "          ls.append(mean)    \n",
        "        embedded = torch.stack(ls, dim=0)\n",
        "          \n",
        "        # Question 4: Use the new model you define in __init__()\n",
        "        return torch.sigmoid(self.fcLayers(embedded))"
      ],
      "execution_count": 33,
      "outputs": []
    },
    {
      "cell_type": "markdown",
      "metadata": {
        "id": "Giozqz1YjEff"
      },
      "source": [
        "## Define train and test function"
      ]
    },
    {
      "cell_type": "code",
      "metadata": {
        "id": "dSLrSK0rjEfg"
      },
      "source": [
        "import time\n",
        "\n",
        "def train(train_dataloader, val_dataloader):\n",
        "    model.train()\n",
        "    total_acc, total_count = 0, 0\n",
        "    log_interval = 50\n",
        "    start_time = time.time()\n",
        "\n",
        "    for idx, (label, text, offsets) in enumerate(train_dataloader):\n",
        "        optimizer.zero_grad()\n",
        "        # forward propagation\n",
        "        predicted_label = model(text, offsets)\n",
        "        # calculate loss and backpropagate to model paramters\n",
        "        loss = criterion(predicted_label, label)\n",
        "        loss.backward()\n",
        "        torch.nn.utils.clip_grad_norm_(model.parameters(), 0.1)\n",
        "        # update parameters by stepping the optimizer\n",
        "        optimizer.step()\n",
        "        total_acc += ((predicted_label > 0.5) == label).sum().item()\n",
        "        total_count += label.size(0)\n",
        "        if idx % log_interval == 0 and idx > 0:\n",
        "          elapsed = time.time() - start_time\n",
        "          print('| epoch {:3d} | {:5d}/{:5d} batches '\n",
        "                '| accuracy {:8.3f}'.format(epoch, idx, len(train_dataloader),\n",
        "                                            total_acc/total_count))\n",
        "          total_acc, total_count = 0, 0\n",
        "          start_time = time.time()\n",
        "\n",
        "    # Early stopping\n",
        "    current_acc = validation(val_dataloader)\n",
        "    print(\"Validation Accuracy: \", current_acc)\n",
        "\n",
        "    return current_acc\n",
        "\n",
        "def validation(dataloader):\n",
        "    model.eval()\n",
        "    total_acc, total_count = 0, 0\n",
        "\n",
        "    with torch.no_grad():\n",
        "        for idx, (label, text, offsets) in enumerate(dataloader):\n",
        "            predicted_label = model(text, offsets)\n",
        "            loss = criterion(predicted_label, label)\n",
        "            total_acc += (predicted_label.argmax(1) == label).sum().item()\n",
        "            total_count += label.size(0)\n",
        "    return total_acc/total_count\n",
        "\n"
      ],
      "execution_count": 25,
      "outputs": []
    },
    {
      "cell_type": "code",
      "metadata": {
        "id": "BX7EUQMKHmlQ"
      },
      "source": [
        "def evaluate(dataloader):\n",
        "    model.eval()\n",
        "    total_acc, total_count = 0, 0\n",
        "\n",
        "    with torch.no_grad():\n",
        "        for idx, (label, text, offsets) in enumerate(dataloader):\n",
        "            predicted_label = model(text, offsets)\n",
        "            loss = criterion(predicted_label, label)\n",
        "            total_acc += (predicted_label.argmax(1) == label).sum().item()\n",
        "            total_count += label.size(0)\n",
        "    return total_acc/total_count"
      ],
      "execution_count": 26,
      "outputs": []
    },
    {
      "cell_type": "markdown",
      "metadata": {
        "id": "QIx_PobsjEfg"
      },
      "source": [
        "## Train and evaluate the model for several epochs"
      ]
    },
    {
      "cell_type": "code",
      "metadata": {
        "id": "RaAbSheyjEfh",
        "colab": {
          "base_uri": "https://localhost:8080/"
        },
        "outputId": "87fc3dab-2a87-4835-b5aa-74f4926c7e73"
      },
      "source": [
        "# Hyperparameters\n",
        "EPOCHS = 200 # epoch\n",
        "patience = 10\n",
        "\n",
        "model = LogisticRegression(word_vec=word_emb, embed_dim=EMBEDDING_DIM).to(device)\n",
        "optimizer = torch.optim.Adam(model.parameters(), lr=0.01)\n",
        "criterion = torch.nn.BCELoss()\n",
        "total_accu = None\n",
        "max_val_acc = 0\n",
        "stop_trigger = 0\n",
        "\n",
        "for epoch in range(1, EPOCHS + 1):\n",
        "    print(\"Epoch:\" , epoch)\n",
        "    epoch_start_time = time.time()\n",
        "    current_val_acc = train(train_dataloader, val_dataloader)\n",
        "    \n",
        "    # Question 5: Use your validation set to early stop the model. Remember to early stop when the validation accuracy does not improve for continous N number of epochs where N is a hyperparameter. Set N = 10\n",
        "    if (current_val_acc >= max_val_acc):\n",
        "      max_val_acc = current_val_acc\n",
        "      stop_trigger = 0 # Reset count\n",
        "    \n",
        "    elif (current_val_acc < max_val_acc):\n",
        "      stop_trigger += 1 \n",
        "      print(\"Triggered! --> \", stop_trigger , \"/\", patience)\n",
        "\n",
        "    if stop_trigger == patience:\n",
        "        print(\"Early stopped!!!\")\n",
        "        break\n",
        "    print(\"Max Validation Accuracy: \", max_val_acc)\n",
        "    \n",
        "    "
      ],
      "execution_count": 34,
      "outputs": [
        {
          "output_type": "stream",
          "name": "stdout",
          "text": [
            "Epoch: 1\n",
            "| epoch   1 |    50/  137 batches | accuracy    0.778\n",
            "| epoch   1 |   100/  137 batches | accuracy    0.876\n",
            "Validation Accuracy:  63.6512\n",
            "Max Validation Accuracy:  63.6512\n",
            "Epoch: 2\n",
            "| epoch   2 |    50/  137 batches | accuracy    0.948\n",
            "| epoch   2 |   100/  137 batches | accuracy    0.939\n",
            "Validation Accuracy:  63.63733333333333\n",
            "Triggered! -->  1 / 10\n",
            "Max Validation Accuracy:  63.6512\n",
            "Epoch: 3\n",
            "| epoch   3 |    50/  137 batches | accuracy    0.976\n",
            "| epoch   3 |   100/  137 batches | accuracy    0.974\n",
            "Validation Accuracy:  63.6096\n",
            "Triggered! -->  2 / 10\n",
            "Max Validation Accuracy:  63.6512\n",
            "Epoch: 4\n",
            "| epoch   4 |    50/  137 batches | accuracy    0.988\n",
            "| epoch   4 |   100/  137 batches | accuracy    0.987\n",
            "Validation Accuracy:  63.6512\n",
            "Max Validation Accuracy:  63.6512\n",
            "Epoch: 5\n",
            "| epoch   5 |    50/  137 batches | accuracy    0.995\n",
            "| epoch   5 |   100/  137 batches | accuracy    0.987\n",
            "Validation Accuracy:  63.699733333333334\n",
            "Max Validation Accuracy:  63.699733333333334\n",
            "Epoch: 6\n",
            "| epoch   6 |    50/  137 batches | accuracy    0.996\n",
            "| epoch   6 |   100/  137 batches | accuracy    0.994\n",
            "Validation Accuracy:  63.66506666666667\n",
            "Triggered! -->  1 / 10\n",
            "Max Validation Accuracy:  63.699733333333334\n",
            "Epoch: 7\n",
            "| epoch   7 |    50/  137 batches | accuracy    0.996\n",
            "| epoch   7 |   100/  137 batches | accuracy    0.994\n",
            "Validation Accuracy:  63.64426666666667\n",
            "Triggered! -->  2 / 10\n",
            "Max Validation Accuracy:  63.699733333333334\n",
            "Epoch: 8\n",
            "| epoch   8 |    50/  137 batches | accuracy    0.997\n",
            "| epoch   8 |   100/  137 batches | accuracy    0.994\n",
            "Validation Accuracy:  63.61653333333334\n",
            "Triggered! -->  3 / 10\n",
            "Max Validation Accuracy:  63.699733333333334\n",
            "Epoch: 9\n",
            "| epoch   9 |    50/  137 batches | accuracy    0.996\n",
            "| epoch   9 |   100/  137 batches | accuracy    0.997\n",
            "Validation Accuracy:  63.6928\n",
            "Triggered! -->  4 / 10\n",
            "Max Validation Accuracy:  63.699733333333334\n",
            "Epoch: 10\n",
            "| epoch  10 |    50/  137 batches | accuracy    0.999\n",
            "| epoch  10 |   100/  137 batches | accuracy    0.999\n",
            "Validation Accuracy:  63.66506666666667\n",
            "Triggered! -->  5 / 10\n",
            "Max Validation Accuracy:  63.699733333333334\n",
            "Epoch: 11\n",
            "| epoch  11 |    50/  137 batches | accuracy    0.999\n",
            "| epoch  11 |   100/  137 batches | accuracy    0.995\n",
            "Validation Accuracy:  63.65813333333333\n",
            "Triggered! -->  6 / 10\n",
            "Max Validation Accuracy:  63.699733333333334\n",
            "Epoch: 12\n",
            "| epoch  12 |    50/  137 batches | accuracy    0.996\n",
            "| epoch  12 |   100/  137 batches | accuracy    0.995\n",
            "Validation Accuracy:  63.68586666666667\n",
            "Triggered! -->  7 / 10\n",
            "Max Validation Accuracy:  63.699733333333334\n",
            "Epoch: 13\n",
            "| epoch  13 |    50/  137 batches | accuracy    0.995\n",
            "| epoch  13 |   100/  137 batches | accuracy    0.995\n",
            "Validation Accuracy:  63.67893333333333\n",
            "Triggered! -->  8 / 10\n",
            "Max Validation Accuracy:  63.699733333333334\n",
            "Epoch: 14\n",
            "| epoch  14 |    50/  137 batches | accuracy    0.997\n",
            "| epoch  14 |   100/  137 batches | accuracy    0.997\n",
            "Validation Accuracy:  63.6928\n",
            "Triggered! -->  9 / 10\n",
            "Max Validation Accuracy:  63.699733333333334\n",
            "Epoch: 15\n",
            "| epoch  15 |    50/  137 batches | accuracy    0.998\n",
            "| epoch  15 |   100/  137 batches | accuracy    0.999\n",
            "Validation Accuracy:  63.65813333333333\n",
            "Triggered! -->  10 / 10\n",
            "Early stopped!!!\n"
          ]
        }
      ]
    },
    {
      "cell_type": "code",
      "metadata": {
        "id": "H2_6GSUpjEfi",
        "colab": {
          "base_uri": "https://localhost:8080/"
        },
        "outputId": "0817ee7e-e882-4bc5-f77c-4f3f1263458f"
      },
      "source": [
        "accu_test = evaluate(test_dataloader)\n",
        "print('test accuracy {:8.2f}%'.format(accu_test))"
      ],
      "execution_count": 35,
      "outputs": [
        {
          "output_type": "stream",
          "name": "stdout",
          "text": [
            "test accuracy    63.94%\n"
          ]
        }
      ]
    }
  ]
}