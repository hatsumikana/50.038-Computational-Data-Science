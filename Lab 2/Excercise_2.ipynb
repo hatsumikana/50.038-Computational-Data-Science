{
  "nbformat": 4,
  "nbformat_minor": 0,
  "metadata": {
    "colab": {
      "name": "Excercise_2.ipynb",
      "provenance": []
    },
    "kernelspec": {
      "name": "python3",
      "display_name": "Python 3"
    },
    "language_info": {
      "name": "python"
    }
  },
  "cells": [
    {
      "cell_type": "code",
      "metadata": {
        "id": "VSc1Xuu6WtQD"
      },
      "source": [
        "# from __future__ import print_function\n",
        "import pandas as pd"
      ],
      "execution_count": 1,
      "outputs": []
    },
    {
      "cell_type": "markdown",
      "metadata": {
        "id": "fmTGSJlnXIGH"
      },
      "source": [
        "Document 1"
      ]
    },
    {
      "cell_type": "code",
      "metadata": {
        "colab": {
          "base_uri": "https://localhost:8080/",
          "height": 173
        },
        "id": "_bKf6QS-Wzf1",
        "outputId": "55857da0-d06e-41be-a147-8ea6824397d5"
      },
      "source": [
        "term1 = pd.Series(['this', 'is', 'a', 'sample'])\n",
        "term_count1 = pd.Series([1,1,2,1])\n",
        "d1 = pd.DataFrame({ 'Term': term1, 'Term Count': term_count1 })\n",
        "\n",
        "d1"
      ],
      "execution_count": 2,
      "outputs": [
        {
          "output_type": "execute_result",
          "data": {
            "text/html": [
              "<div>\n",
              "<style scoped>\n",
              "    .dataframe tbody tr th:only-of-type {\n",
              "        vertical-align: middle;\n",
              "    }\n",
              "\n",
              "    .dataframe tbody tr th {\n",
              "        vertical-align: top;\n",
              "    }\n",
              "\n",
              "    .dataframe thead th {\n",
              "        text-align: right;\n",
              "    }\n",
              "</style>\n",
              "<table border=\"1\" class=\"dataframe\">\n",
              "  <thead>\n",
              "    <tr style=\"text-align: right;\">\n",
              "      <th></th>\n",
              "      <th>Term</th>\n",
              "      <th>Term Count</th>\n",
              "    </tr>\n",
              "  </thead>\n",
              "  <tbody>\n",
              "    <tr>\n",
              "      <th>0</th>\n",
              "      <td>this</td>\n",
              "      <td>1</td>\n",
              "    </tr>\n",
              "    <tr>\n",
              "      <th>1</th>\n",
              "      <td>is</td>\n",
              "      <td>1</td>\n",
              "    </tr>\n",
              "    <tr>\n",
              "      <th>2</th>\n",
              "      <td>a</td>\n",
              "      <td>2</td>\n",
              "    </tr>\n",
              "    <tr>\n",
              "      <th>3</th>\n",
              "      <td>sample</td>\n",
              "      <td>1</td>\n",
              "    </tr>\n",
              "  </tbody>\n",
              "</table>\n",
              "</div>"
            ],
            "text/plain": [
              "     Term  Term Count\n",
              "0    this           1\n",
              "1      is           1\n",
              "2       a           2\n",
              "3  sample           1"
            ]
          },
          "metadata": {},
          "execution_count": 2
        }
      ]
    },
    {
      "cell_type": "markdown",
      "metadata": {
        "id": "aTUY6XrGXqyv"
      },
      "source": [
        "Document 2"
      ]
    },
    {
      "cell_type": "code",
      "metadata": {
        "colab": {
          "base_uri": "https://localhost:8080/",
          "height": 173
        },
        "id": "dipeSJpBW2KN",
        "outputId": "c3d4b8fa-10f6-4b0a-86cb-e767601b63b2"
      },
      "source": [
        "term2 = pd.Series(['this', 'is', 'another', 'example'])\n",
        "term_count2 = pd.Series([1,1,2,3])\n",
        "d2 = pd.DataFrame({ 'Term': term2, 'Term Count': term_count2 })\n",
        "\n",
        "d2"
      ],
      "execution_count": 3,
      "outputs": [
        {
          "output_type": "execute_result",
          "data": {
            "text/html": [
              "<div>\n",
              "<style scoped>\n",
              "    .dataframe tbody tr th:only-of-type {\n",
              "        vertical-align: middle;\n",
              "    }\n",
              "\n",
              "    .dataframe tbody tr th {\n",
              "        vertical-align: top;\n",
              "    }\n",
              "\n",
              "    .dataframe thead th {\n",
              "        text-align: right;\n",
              "    }\n",
              "</style>\n",
              "<table border=\"1\" class=\"dataframe\">\n",
              "  <thead>\n",
              "    <tr style=\"text-align: right;\">\n",
              "      <th></th>\n",
              "      <th>Term</th>\n",
              "      <th>Term Count</th>\n",
              "    </tr>\n",
              "  </thead>\n",
              "  <tbody>\n",
              "    <tr>\n",
              "      <th>0</th>\n",
              "      <td>this</td>\n",
              "      <td>1</td>\n",
              "    </tr>\n",
              "    <tr>\n",
              "      <th>1</th>\n",
              "      <td>is</td>\n",
              "      <td>1</td>\n",
              "    </tr>\n",
              "    <tr>\n",
              "      <th>2</th>\n",
              "      <td>another</td>\n",
              "      <td>2</td>\n",
              "    </tr>\n",
              "    <tr>\n",
              "      <th>3</th>\n",
              "      <td>example</td>\n",
              "      <td>3</td>\n",
              "    </tr>\n",
              "  </tbody>\n",
              "</table>\n",
              "</div>"
            ],
            "text/plain": [
              "      Term  Term Count\n",
              "0     this           1\n",
              "1       is           1\n",
              "2  another           2\n",
              "3  example           3"
            ]
          },
          "metadata": {},
          "execution_count": 3
        }
      ]
    },
    {
      "cell_type": "markdown",
      "metadata": {
        "id": "FDKwX7GDvcTp"
      },
      "source": [
        "TF-IDF Calculation"
      ]
    },
    {
      "cell_type": "code",
      "metadata": {
        "colab": {
          "base_uri": "https://localhost:8080/",
          "height": 173
        },
        "id": "EYiakELmX051",
        "outputId": "b01aa99d-732d-4319-8acf-a7d1ef89451f"
      },
      "source": [
        "import math\n",
        "\n",
        "def tf(w,d):\n",
        "  idx = d['Term'].tolist().index(w)\n",
        "  term_count = d['Term Count'][idx]\n",
        "\n",
        "  # Get the count of the most comment term in the document\n",
        "  max = d['Term Count'].max()\n",
        "\n",
        "  return term_count / max\n",
        "\n",
        "def idf(w,d):\n",
        "  total_doc = 2\n",
        "  if ((d1[\"Term\"] == w).any() and (d2[\"Term\"] == w).any()):\n",
        "    idf = math.log10(total_doc/2)\n",
        "  else:\n",
        "    idf = math.log10(total_doc/1)\n",
        "  return idf\n",
        "\n",
        "def tfidf(w,d):\n",
        "  TF = tf(w,d)\n",
        "  IDF = idf(w,d)\n",
        "  return TF*IDF\n",
        "\n",
        "# Command to get individual TF-IDF\n",
        "# tfidf('sample', d1)\n",
        "\n",
        "# Document 1\n",
        "d1_words = pd.Series(['this', 'is', 'a', 'sample'])\n",
        "d1_tfidf_indiv = pd.Series([tfidf('this', d1),tfidf('is', d1),tfidf('a', d1),tfidf('sample', d1)])\n",
        "# Document 2\n",
        "d2_words = pd.Series(['this', 'is', 'another', 'example'])\n",
        "d2_tfidf_indiv = pd.Series([tfidf('this', d2),tfidf('is', d2),tfidf('another', d2),tfidf('example', d2)])\n",
        "\n",
        "TFIDF = pd.DataFrame({ 'Document 1 Terms': d1_words, 'Document 1 TF-IDF': d1_tfidf_indiv, 'Document 2 Terms': d2_words, 'Document 2 TF-IDF': d2_tfidf_indiv })\n",
        "\n",
        "TFIDF"
      ],
      "execution_count": 9,
      "outputs": [
        {
          "output_type": "execute_result",
          "data": {
            "text/html": [
              "<div>\n",
              "<style scoped>\n",
              "    .dataframe tbody tr th:only-of-type {\n",
              "        vertical-align: middle;\n",
              "    }\n",
              "\n",
              "    .dataframe tbody tr th {\n",
              "        vertical-align: top;\n",
              "    }\n",
              "\n",
              "    .dataframe thead th {\n",
              "        text-align: right;\n",
              "    }\n",
              "</style>\n",
              "<table border=\"1\" class=\"dataframe\">\n",
              "  <thead>\n",
              "    <tr style=\"text-align: right;\">\n",
              "      <th></th>\n",
              "      <th>Document 1 Terms</th>\n",
              "      <th>Document 1 TF-IDF</th>\n",
              "      <th>Document 2 Terms</th>\n",
              "      <th>Document 2 TF-IDF</th>\n",
              "    </tr>\n",
              "  </thead>\n",
              "  <tbody>\n",
              "    <tr>\n",
              "      <th>0</th>\n",
              "      <td>this</td>\n",
              "      <td>0.000000</td>\n",
              "      <td>this</td>\n",
              "      <td>0.000000</td>\n",
              "    </tr>\n",
              "    <tr>\n",
              "      <th>1</th>\n",
              "      <td>is</td>\n",
              "      <td>0.000000</td>\n",
              "      <td>is</td>\n",
              "      <td>0.000000</td>\n",
              "    </tr>\n",
              "    <tr>\n",
              "      <th>2</th>\n",
              "      <td>a</td>\n",
              "      <td>0.301030</td>\n",
              "      <td>another</td>\n",
              "      <td>0.200687</td>\n",
              "    </tr>\n",
              "    <tr>\n",
              "      <th>3</th>\n",
              "      <td>sample</td>\n",
              "      <td>0.150515</td>\n",
              "      <td>example</td>\n",
              "      <td>0.301030</td>\n",
              "    </tr>\n",
              "  </tbody>\n",
              "</table>\n",
              "</div>"
            ],
            "text/plain": [
              "  Document 1 Terms  Document 1 TF-IDF Document 2 Terms  Document 2 TF-IDF\n",
              "0             this           0.000000             this           0.000000\n",
              "1               is           0.000000               is           0.000000\n",
              "2                a           0.301030          another           0.200687\n",
              "3           sample           0.150515          example           0.301030"
            ]
          },
          "metadata": {},
          "execution_count": 9
        }
      ]
    },
    {
      "cell_type": "code",
      "metadata": {
        "id": "n2raTv2tjUqA"
      },
      "source": [
        ""
      ],
      "execution_count": null,
      "outputs": []
    }
  ]
}